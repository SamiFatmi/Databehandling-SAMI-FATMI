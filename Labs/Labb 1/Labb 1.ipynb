{
 "cells": [
  {
   "cell_type": "markdown",
   "source": [
    "# Uppgift 1 - uppvärmning covid-19 data\n",
    "\n",
    "Börja med att manuellt läsa Excel-filerna och de olika bladen i varje dokument. Använd därefter Pandas för att läsa in bladet: \"Veckodata Riket\" i covid19-filen.\n",
    "- a) Gör initial dataanalys för att snabbt få en överblick över datasetet. Använd metoder som ex. info(), describe(), value_counts(), head(), columns, index för att snabbt få en överblick."
   ],
   "metadata": {}
  },
  {
   "cell_type": "code",
   "execution_count": 69,
   "source": [
    "#setup\n",
    "import pandas as pd \n",
    "import seaborn as sns\n",
    "import matplotlib.pyplot as plt\n",
    "import plotly.express as px\n",
    "\n",
    "#setting up the file paths\n",
    "covid19_file_path = \"files/Folkhalsomyndigheten_Covid19.xlsx\"\n",
    "covid19_vaccine_file_path = \"files/Folkhalsomyndigheten_Covid19_Vaccine.xlsx\"\n",
    "\n",
    "# reading in the dataframe from the excel sheet\n",
    "covid19 = pd.read_excel(covid19_file_path,sheet_name=\"Veckodata Riket\")\n",
    "\n",
    "# checking out the info \n",
    "covid19.info() "
   ],
   "outputs": [
    {
     "output_type": "stream",
     "name": "stdout",
     "text": [
      "<class 'pandas.core.frame.DataFrame'>\n",
      "RangeIndex: 90 entries, 0 to 89\n",
      "Data columns (total 13 columns):\n",
      " #   Column                          Non-Null Count  Dtype  \n",
      "---  ------                          --------------  -----  \n",
      " 0   år                              90 non-null     int64  \n",
      " 1   veckonummer                     90 non-null     int64  \n",
      " 2   Antal_fall_vecka                90 non-null     int64  \n",
      " 3   Antal_fall_100000inv_vecka      90 non-null     int64  \n",
      " 4   Antal_fall_100000inv_14dagar    90 non-null     int64  \n",
      " 5   Kum_antal_fall                  90 non-null     int64  \n",
      " 6   Kum_fall_100000inv              90 non-null     int64  \n",
      " 7   Antal_nyaintensivvårdade_vecka  90 non-null     int64  \n",
      " 8   Kum_antal_intensivvårdade       90 non-null     int64  \n",
      " 9   Antal_avlidna_vecka             90 non-null     int64  \n",
      " 10  Antal_avlidna_milj_inv_vecka    90 non-null     float64\n",
      " 11  Kum_antal_avlidna               90 non-null     int64  \n",
      " 12  Kum_antal_avlidna_milj_inv      90 non-null     float64\n",
      "dtypes: float64(2), int64(11)\n",
      "memory usage: 9.3 KB\n"
     ]
    }
   ],
   "metadata": {}
  },
  {
   "cell_type": "code",
   "execution_count": 70,
   "source": [
    "# checking the columns \n",
    "covid19.columns"
   ],
   "outputs": [
    {
     "output_type": "execute_result",
     "data": {
      "text/plain": [
       "Index(['år', 'veckonummer', 'Antal_fall_vecka', 'Antal_fall_100000inv_vecka',\n",
       "       'Antal_fall_100000inv_14dagar', 'Kum_antal_fall', 'Kum_fall_100000inv',\n",
       "       'Antal_nyaintensivvårdade_vecka', 'Kum_antal_intensivvårdade',\n",
       "       'Antal_avlidna_vecka', 'Antal_avlidna_milj_inv_vecka',\n",
       "       'Kum_antal_avlidna', 'Kum_antal_avlidna_milj_inv'],\n",
       "      dtype='object')"
      ]
     },
     "metadata": {},
     "execution_count": 70
    }
   ],
   "metadata": {}
  },
  {
   "cell_type": "code",
   "execution_count": 71,
   "source": [
    "# checking the head\n",
    "covid19.head()"
   ],
   "outputs": [
    {
     "output_type": "execute_result",
     "data": {
      "text/html": [
       "<div>\n",
       "<style scoped>\n",
       "    .dataframe tbody tr th:only-of-type {\n",
       "        vertical-align: middle;\n",
       "    }\n",
       "\n",
       "    .dataframe tbody tr th {\n",
       "        vertical-align: top;\n",
       "    }\n",
       "\n",
       "    .dataframe thead th {\n",
       "        text-align: right;\n",
       "    }\n",
       "</style>\n",
       "<table border=\"1\" class=\"dataframe\">\n",
       "  <thead>\n",
       "    <tr style=\"text-align: right;\">\n",
       "      <th></th>\n",
       "      <th>år</th>\n",
       "      <th>veckonummer</th>\n",
       "      <th>Antal_fall_vecka</th>\n",
       "      <th>Antal_fall_100000inv_vecka</th>\n",
       "      <th>Antal_fall_100000inv_14dagar</th>\n",
       "      <th>Kum_antal_fall</th>\n",
       "      <th>Kum_fall_100000inv</th>\n",
       "      <th>Antal_nyaintensivvårdade_vecka</th>\n",
       "      <th>Kum_antal_intensivvårdade</th>\n",
       "      <th>Antal_avlidna_vecka</th>\n",
       "      <th>Antal_avlidna_milj_inv_vecka</th>\n",
       "      <th>Kum_antal_avlidna</th>\n",
       "      <th>Kum_antal_avlidna_milj_inv</th>\n",
       "    </tr>\n",
       "  </thead>\n",
       "  <tbody>\n",
       "    <tr>\n",
       "      <th>0</th>\n",
       "      <td>2020</td>\n",
       "      <td>6</td>\n",
       "      <td>1</td>\n",
       "      <td>0</td>\n",
       "      <td>0</td>\n",
       "      <td>1</td>\n",
       "      <td>0</td>\n",
       "      <td>0</td>\n",
       "      <td>0</td>\n",
       "      <td>0</td>\n",
       "      <td>0.0</td>\n",
       "      <td>0</td>\n",
       "      <td>0.0</td>\n",
       "    </tr>\n",
       "    <tr>\n",
       "      <th>1</th>\n",
       "      <td>2020</td>\n",
       "      <td>7</td>\n",
       "      <td>0</td>\n",
       "      <td>0</td>\n",
       "      <td>0</td>\n",
       "      <td>1</td>\n",
       "      <td>0</td>\n",
       "      <td>0</td>\n",
       "      <td>0</td>\n",
       "      <td>0</td>\n",
       "      <td>0.0</td>\n",
       "      <td>0</td>\n",
       "      <td>0.0</td>\n",
       "    </tr>\n",
       "    <tr>\n",
       "      <th>2</th>\n",
       "      <td>2020</td>\n",
       "      <td>8</td>\n",
       "      <td>0</td>\n",
       "      <td>0</td>\n",
       "      <td>0</td>\n",
       "      <td>1</td>\n",
       "      <td>0</td>\n",
       "      <td>0</td>\n",
       "      <td>0</td>\n",
       "      <td>0</td>\n",
       "      <td>0.0</td>\n",
       "      <td>0</td>\n",
       "      <td>0.0</td>\n",
       "    </tr>\n",
       "    <tr>\n",
       "      <th>3</th>\n",
       "      <td>2020</td>\n",
       "      <td>9</td>\n",
       "      <td>13</td>\n",
       "      <td>0</td>\n",
       "      <td>0</td>\n",
       "      <td>14</td>\n",
       "      <td>0</td>\n",
       "      <td>0</td>\n",
       "      <td>0</td>\n",
       "      <td>0</td>\n",
       "      <td>0.0</td>\n",
       "      <td>0</td>\n",
       "      <td>0.0</td>\n",
       "    </tr>\n",
       "    <tr>\n",
       "      <th>4</th>\n",
       "      <td>2020</td>\n",
       "      <td>10</td>\n",
       "      <td>211</td>\n",
       "      <td>2</td>\n",
       "      <td>2</td>\n",
       "      <td>225</td>\n",
       "      <td>2</td>\n",
       "      <td>3</td>\n",
       "      <td>3</td>\n",
       "      <td>0</td>\n",
       "      <td>0.0</td>\n",
       "      <td>0</td>\n",
       "      <td>0.0</td>\n",
       "    </tr>\n",
       "  </tbody>\n",
       "</table>\n",
       "</div>"
      ],
      "text/plain": [
       "     år  veckonummer  Antal_fall_vecka  Antal_fall_100000inv_vecka  \\\n",
       "0  2020            6                 1                           0   \n",
       "1  2020            7                 0                           0   \n",
       "2  2020            8                 0                           0   \n",
       "3  2020            9                13                           0   \n",
       "4  2020           10               211                           2   \n",
       "\n",
       "   Antal_fall_100000inv_14dagar  Kum_antal_fall  Kum_fall_100000inv  \\\n",
       "0                             0               1                   0   \n",
       "1                             0               1                   0   \n",
       "2                             0               1                   0   \n",
       "3                             0              14                   0   \n",
       "4                             2             225                   2   \n",
       "\n",
       "   Antal_nyaintensivvårdade_vecka  Kum_antal_intensivvårdade  \\\n",
       "0                               0                          0   \n",
       "1                               0                          0   \n",
       "2                               0                          0   \n",
       "3                               0                          0   \n",
       "4                               3                          3   \n",
       "\n",
       "   Antal_avlidna_vecka  Antal_avlidna_milj_inv_vecka  Kum_antal_avlidna  \\\n",
       "0                    0                           0.0                  0   \n",
       "1                    0                           0.0                  0   \n",
       "2                    0                           0.0                  0   \n",
       "3                    0                           0.0                  0   \n",
       "4                    0                           0.0                  0   \n",
       "\n",
       "   Kum_antal_avlidna_milj_inv  \n",
       "0                         0.0  \n",
       "1                         0.0  \n",
       "2                         0.0  \n",
       "3                         0.0  \n",
       "4                         0.0  "
      ]
     },
     "metadata": {},
     "execution_count": 71
    }
   ],
   "metadata": {}
  },
  {
   "cell_type": "code",
   "execution_count": 72,
   "source": [
    "# checking the tail\n",
    "covid19.tail()"
   ],
   "outputs": [
    {
     "output_type": "execute_result",
     "data": {
      "text/html": [
       "<div>\n",
       "<style scoped>\n",
       "    .dataframe tbody tr th:only-of-type {\n",
       "        vertical-align: middle;\n",
       "    }\n",
       "\n",
       "    .dataframe tbody tr th {\n",
       "        vertical-align: top;\n",
       "    }\n",
       "\n",
       "    .dataframe thead th {\n",
       "        text-align: right;\n",
       "    }\n",
       "</style>\n",
       "<table border=\"1\" class=\"dataframe\">\n",
       "  <thead>\n",
       "    <tr style=\"text-align: right;\">\n",
       "      <th></th>\n",
       "      <th>år</th>\n",
       "      <th>veckonummer</th>\n",
       "      <th>Antal_fall_vecka</th>\n",
       "      <th>Antal_fall_100000inv_vecka</th>\n",
       "      <th>Antal_fall_100000inv_14dagar</th>\n",
       "      <th>Kum_antal_fall</th>\n",
       "      <th>Kum_fall_100000inv</th>\n",
       "      <th>Antal_nyaintensivvårdade_vecka</th>\n",
       "      <th>Kum_antal_intensivvårdade</th>\n",
       "      <th>Antal_avlidna_vecka</th>\n",
       "      <th>Antal_avlidna_milj_inv_vecka</th>\n",
       "      <th>Kum_antal_avlidna</th>\n",
       "      <th>Kum_antal_avlidna_milj_inv</th>\n",
       "    </tr>\n",
       "  </thead>\n",
       "  <tbody>\n",
       "    <tr>\n",
       "      <th>85</th>\n",
       "      <td>2021</td>\n",
       "      <td>38</td>\n",
       "      <td>4307</td>\n",
       "      <td>41</td>\n",
       "      <td>101</td>\n",
       "      <td>1150068</td>\n",
       "      <td>11080</td>\n",
       "      <td>21</td>\n",
       "      <td>7844</td>\n",
       "      <td>40</td>\n",
       "      <td>3.9</td>\n",
       "      <td>14849</td>\n",
       "      <td>1430.599976</td>\n",
       "    </tr>\n",
       "    <tr>\n",
       "      <th>86</th>\n",
       "      <td>2021</td>\n",
       "      <td>39</td>\n",
       "      <td>4240</td>\n",
       "      <td>41</td>\n",
       "      <td>82</td>\n",
       "      <td>1154308</td>\n",
       "      <td>11121</td>\n",
       "      <td>17</td>\n",
       "      <td>7861</td>\n",
       "      <td>38</td>\n",
       "      <td>3.7</td>\n",
       "      <td>14887</td>\n",
       "      <td>1434.300049</td>\n",
       "    </tr>\n",
       "    <tr>\n",
       "      <th>87</th>\n",
       "      <td>2021</td>\n",
       "      <td>40</td>\n",
       "      <td>4140</td>\n",
       "      <td>40</td>\n",
       "      <td>81</td>\n",
       "      <td>1158448</td>\n",
       "      <td>11161</td>\n",
       "      <td>15</td>\n",
       "      <td>7876</td>\n",
       "      <td>49</td>\n",
       "      <td>4.7</td>\n",
       "      <td>14936</td>\n",
       "      <td>1439.000000</td>\n",
       "    </tr>\n",
       "    <tr>\n",
       "      <th>88</th>\n",
       "      <td>2021</td>\n",
       "      <td>41</td>\n",
       "      <td>4074</td>\n",
       "      <td>39</td>\n",
       "      <td>79</td>\n",
       "      <td>1162522</td>\n",
       "      <td>11200</td>\n",
       "      <td>13</td>\n",
       "      <td>7889</td>\n",
       "      <td>28</td>\n",
       "      <td>2.7</td>\n",
       "      <td>14964</td>\n",
       "      <td>1441.699951</td>\n",
       "    </tr>\n",
       "    <tr>\n",
       "      <th>89</th>\n",
       "      <td>2021</td>\n",
       "      <td>42</td>\n",
       "      <td>5201</td>\n",
       "      <td>50</td>\n",
       "      <td>89</td>\n",
       "      <td>1167723</td>\n",
       "      <td>11251</td>\n",
       "      <td>11</td>\n",
       "      <td>7900</td>\n",
       "      <td>16</td>\n",
       "      <td>1.5</td>\n",
       "      <td>14980</td>\n",
       "      <td>1443.300049</td>\n",
       "    </tr>\n",
       "  </tbody>\n",
       "</table>\n",
       "</div>"
      ],
      "text/plain": [
       "      år  veckonummer  Antal_fall_vecka  Antal_fall_100000inv_vecka  \\\n",
       "85  2021           38              4307                          41   \n",
       "86  2021           39              4240                          41   \n",
       "87  2021           40              4140                          40   \n",
       "88  2021           41              4074                          39   \n",
       "89  2021           42              5201                          50   \n",
       "\n",
       "    Antal_fall_100000inv_14dagar  Kum_antal_fall  Kum_fall_100000inv  \\\n",
       "85                           101         1150068               11080   \n",
       "86                            82         1154308               11121   \n",
       "87                            81         1158448               11161   \n",
       "88                            79         1162522               11200   \n",
       "89                            89         1167723               11251   \n",
       "\n",
       "    Antal_nyaintensivvårdade_vecka  Kum_antal_intensivvårdade  \\\n",
       "85                              21                       7844   \n",
       "86                              17                       7861   \n",
       "87                              15                       7876   \n",
       "88                              13                       7889   \n",
       "89                              11                       7900   \n",
       "\n",
       "    Antal_avlidna_vecka  Antal_avlidna_milj_inv_vecka  Kum_antal_avlidna  \\\n",
       "85                   40                           3.9              14849   \n",
       "86                   38                           3.7              14887   \n",
       "87                   49                           4.7              14936   \n",
       "88                   28                           2.7              14964   \n",
       "89                   16                           1.5              14980   \n",
       "\n",
       "    Kum_antal_avlidna_milj_inv  \n",
       "85                 1430.599976  \n",
       "86                 1434.300049  \n",
       "87                 1439.000000  \n",
       "88                 1441.699951  \n",
       "89                 1443.300049  "
      ]
     },
     "metadata": {},
     "execution_count": 72
    }
   ],
   "metadata": {}
  },
  {
   "cell_type": "code",
   "execution_count": 73,
   "source": [
    "# renaming the columns \n",
    "covid19.columns=['År', 'Veckonummer', 'Antal fall per vecka', 'Antal fall per 100000 invånare per vecka',\n",
    "       'Antal fall per 100000 invånare per 14dagar', 'Ackumulerade antal fall', 'Ackumulerade fall per 100000 invånare',\n",
    "       'Antal nyaintensivvårdade per vecka', 'Ackumulerade antal intensivvårdade',\n",
    "       'Antal avlidna per vecka', 'Antal avlidna per miljon invånare per vecka',\n",
    "       'Ackumulerade antal avlidna', 'Ackumulerade antal avlidna per miljon invånare']\n",
    "\n",
    "covid19.head()"
   ],
   "outputs": [
    {
     "output_type": "execute_result",
     "data": {
      "text/html": [
       "<div>\n",
       "<style scoped>\n",
       "    .dataframe tbody tr th:only-of-type {\n",
       "        vertical-align: middle;\n",
       "    }\n",
       "\n",
       "    .dataframe tbody tr th {\n",
       "        vertical-align: top;\n",
       "    }\n",
       "\n",
       "    .dataframe thead th {\n",
       "        text-align: right;\n",
       "    }\n",
       "</style>\n",
       "<table border=\"1\" class=\"dataframe\">\n",
       "  <thead>\n",
       "    <tr style=\"text-align: right;\">\n",
       "      <th></th>\n",
       "      <th>År</th>\n",
       "      <th>Veckonummer</th>\n",
       "      <th>Antal fall per vecka</th>\n",
       "      <th>Antal fall per 100000 invånare per vecka</th>\n",
       "      <th>Antal fall per 100000 invånare per 14dagar</th>\n",
       "      <th>Ackumulerade antal fall</th>\n",
       "      <th>Ackumulerade fall per 100000 invånare</th>\n",
       "      <th>Antal nyaintensivvårdade per vecka</th>\n",
       "      <th>Ackumulerade antal intensivvårdade</th>\n",
       "      <th>Antal avlidna per vecka</th>\n",
       "      <th>Antal avlidna per miljon invånare per vecka</th>\n",
       "      <th>Ackumulerade antal avlidna</th>\n",
       "      <th>Ackumulerade antal avlidna per miljon invånare</th>\n",
       "    </tr>\n",
       "  </thead>\n",
       "  <tbody>\n",
       "    <tr>\n",
       "      <th>0</th>\n",
       "      <td>2020</td>\n",
       "      <td>6</td>\n",
       "      <td>1</td>\n",
       "      <td>0</td>\n",
       "      <td>0</td>\n",
       "      <td>1</td>\n",
       "      <td>0</td>\n",
       "      <td>0</td>\n",
       "      <td>0</td>\n",
       "      <td>0</td>\n",
       "      <td>0.0</td>\n",
       "      <td>0</td>\n",
       "      <td>0.0</td>\n",
       "    </tr>\n",
       "    <tr>\n",
       "      <th>1</th>\n",
       "      <td>2020</td>\n",
       "      <td>7</td>\n",
       "      <td>0</td>\n",
       "      <td>0</td>\n",
       "      <td>0</td>\n",
       "      <td>1</td>\n",
       "      <td>0</td>\n",
       "      <td>0</td>\n",
       "      <td>0</td>\n",
       "      <td>0</td>\n",
       "      <td>0.0</td>\n",
       "      <td>0</td>\n",
       "      <td>0.0</td>\n",
       "    </tr>\n",
       "    <tr>\n",
       "      <th>2</th>\n",
       "      <td>2020</td>\n",
       "      <td>8</td>\n",
       "      <td>0</td>\n",
       "      <td>0</td>\n",
       "      <td>0</td>\n",
       "      <td>1</td>\n",
       "      <td>0</td>\n",
       "      <td>0</td>\n",
       "      <td>0</td>\n",
       "      <td>0</td>\n",
       "      <td>0.0</td>\n",
       "      <td>0</td>\n",
       "      <td>0.0</td>\n",
       "    </tr>\n",
       "    <tr>\n",
       "      <th>3</th>\n",
       "      <td>2020</td>\n",
       "      <td>9</td>\n",
       "      <td>13</td>\n",
       "      <td>0</td>\n",
       "      <td>0</td>\n",
       "      <td>14</td>\n",
       "      <td>0</td>\n",
       "      <td>0</td>\n",
       "      <td>0</td>\n",
       "      <td>0</td>\n",
       "      <td>0.0</td>\n",
       "      <td>0</td>\n",
       "      <td>0.0</td>\n",
       "    </tr>\n",
       "    <tr>\n",
       "      <th>4</th>\n",
       "      <td>2020</td>\n",
       "      <td>10</td>\n",
       "      <td>211</td>\n",
       "      <td>2</td>\n",
       "      <td>2</td>\n",
       "      <td>225</td>\n",
       "      <td>2</td>\n",
       "      <td>3</td>\n",
       "      <td>3</td>\n",
       "      <td>0</td>\n",
       "      <td>0.0</td>\n",
       "      <td>0</td>\n",
       "      <td>0.0</td>\n",
       "    </tr>\n",
       "  </tbody>\n",
       "</table>\n",
       "</div>"
      ],
      "text/plain": [
       "     År  Veckonummer  Antal fall per vecka  \\\n",
       "0  2020            6                     1   \n",
       "1  2020            7                     0   \n",
       "2  2020            8                     0   \n",
       "3  2020            9                    13   \n",
       "4  2020           10                   211   \n",
       "\n",
       "   Antal fall per 100000 invånare per vecka  \\\n",
       "0                                         0   \n",
       "1                                         0   \n",
       "2                                         0   \n",
       "3                                         0   \n",
       "4                                         2   \n",
       "\n",
       "   Antal fall per 100000 invånare per 14dagar  Ackumulerade antal fall  \\\n",
       "0                                           0                        1   \n",
       "1                                           0                        1   \n",
       "2                                           0                        1   \n",
       "3                                           0                       14   \n",
       "4                                           2                      225   \n",
       "\n",
       "   Ackumulerade fall per 100000 invånare  Antal nyaintensivvårdade per vecka  \\\n",
       "0                                      0                                   0   \n",
       "1                                      0                                   0   \n",
       "2                                      0                                   0   \n",
       "3                                      0                                   0   \n",
       "4                                      2                                   3   \n",
       "\n",
       "   Ackumulerade antal intensivvårdade  Antal avlidna per vecka  \\\n",
       "0                                   0                        0   \n",
       "1                                   0                        0   \n",
       "2                                   0                        0   \n",
       "3                                   0                        0   \n",
       "4                                   3                        0   \n",
       "\n",
       "   Antal avlidna per miljon invånare per vecka  Ackumulerade antal avlidna  \\\n",
       "0                                          0.0                           0   \n",
       "1                                          0.0                           0   \n",
       "2                                          0.0                           0   \n",
       "3                                          0.0                           0   \n",
       "4                                          0.0                           0   \n",
       "\n",
       "   Ackumulerade antal avlidna per miljon invånare  \n",
       "0                                             0.0  \n",
       "1                                             0.0  \n",
       "2                                             0.0  \n",
       "3                                             0.0  \n",
       "4                                             0.0  "
      ]
     },
     "metadata": {},
     "execution_count": 73
    }
   ],
   "metadata": {}
  },
  {
   "cell_type": "markdown",
   "source": [
    "\n",
    "- b) Slå ihop kolumnerna \"år\" och \"veckonummer\" till en kolumn med namn \"Vecka\" .\n",
    "\n"
   ],
   "metadata": {}
  },
  {
   "cell_type": "code",
   "execution_count": 74,
   "source": [
    "#merging the 2 columns together \n",
    "covid19[\"År\"] = covid19[\"År\"].astype(str) + \"v\" + covid19[\"Veckonummer\"].astype(str)\n",
    "\n",
    "#dropping the 'Veckonummer' column\n",
    "covid19 = covid19.drop(columns=[\"Veckonummer\"])\n",
    "\n",
    "#renaming the column 'År' to 'Vecka'\n",
    "covid19 = covid19.rename(columns={\"År\": \"Vecka\"})\n",
    "\n",
    "#Checking the head of the dataframe\n",
    "covid19.head()"
   ],
   "outputs": [
    {
     "output_type": "execute_result",
     "data": {
      "text/html": [
       "<div>\n",
       "<style scoped>\n",
       "    .dataframe tbody tr th:only-of-type {\n",
       "        vertical-align: middle;\n",
       "    }\n",
       "\n",
       "    .dataframe tbody tr th {\n",
       "        vertical-align: top;\n",
       "    }\n",
       "\n",
       "    .dataframe thead th {\n",
       "        text-align: right;\n",
       "    }\n",
       "</style>\n",
       "<table border=\"1\" class=\"dataframe\">\n",
       "  <thead>\n",
       "    <tr style=\"text-align: right;\">\n",
       "      <th></th>\n",
       "      <th>Vecka</th>\n",
       "      <th>Antal fall per vecka</th>\n",
       "      <th>Antal fall per 100000 invånare per vecka</th>\n",
       "      <th>Antal fall per 100000 invånare per 14dagar</th>\n",
       "      <th>Ackumulerade antal fall</th>\n",
       "      <th>Ackumulerade fall per 100000 invånare</th>\n",
       "      <th>Antal nyaintensivvårdade per vecka</th>\n",
       "      <th>Ackumulerade antal intensivvårdade</th>\n",
       "      <th>Antal avlidna per vecka</th>\n",
       "      <th>Antal avlidna per miljon invånare per vecka</th>\n",
       "      <th>Ackumulerade antal avlidna</th>\n",
       "      <th>Ackumulerade antal avlidna per miljon invånare</th>\n",
       "    </tr>\n",
       "  </thead>\n",
       "  <tbody>\n",
       "    <tr>\n",
       "      <th>0</th>\n",
       "      <td>2020v6</td>\n",
       "      <td>1</td>\n",
       "      <td>0</td>\n",
       "      <td>0</td>\n",
       "      <td>1</td>\n",
       "      <td>0</td>\n",
       "      <td>0</td>\n",
       "      <td>0</td>\n",
       "      <td>0</td>\n",
       "      <td>0.0</td>\n",
       "      <td>0</td>\n",
       "      <td>0.0</td>\n",
       "    </tr>\n",
       "    <tr>\n",
       "      <th>1</th>\n",
       "      <td>2020v7</td>\n",
       "      <td>0</td>\n",
       "      <td>0</td>\n",
       "      <td>0</td>\n",
       "      <td>1</td>\n",
       "      <td>0</td>\n",
       "      <td>0</td>\n",
       "      <td>0</td>\n",
       "      <td>0</td>\n",
       "      <td>0.0</td>\n",
       "      <td>0</td>\n",
       "      <td>0.0</td>\n",
       "    </tr>\n",
       "    <tr>\n",
       "      <th>2</th>\n",
       "      <td>2020v8</td>\n",
       "      <td>0</td>\n",
       "      <td>0</td>\n",
       "      <td>0</td>\n",
       "      <td>1</td>\n",
       "      <td>0</td>\n",
       "      <td>0</td>\n",
       "      <td>0</td>\n",
       "      <td>0</td>\n",
       "      <td>0.0</td>\n",
       "      <td>0</td>\n",
       "      <td>0.0</td>\n",
       "    </tr>\n",
       "    <tr>\n",
       "      <th>3</th>\n",
       "      <td>2020v9</td>\n",
       "      <td>13</td>\n",
       "      <td>0</td>\n",
       "      <td>0</td>\n",
       "      <td>14</td>\n",
       "      <td>0</td>\n",
       "      <td>0</td>\n",
       "      <td>0</td>\n",
       "      <td>0</td>\n",
       "      <td>0.0</td>\n",
       "      <td>0</td>\n",
       "      <td>0.0</td>\n",
       "    </tr>\n",
       "    <tr>\n",
       "      <th>4</th>\n",
       "      <td>2020v10</td>\n",
       "      <td>211</td>\n",
       "      <td>2</td>\n",
       "      <td>2</td>\n",
       "      <td>225</td>\n",
       "      <td>2</td>\n",
       "      <td>3</td>\n",
       "      <td>3</td>\n",
       "      <td>0</td>\n",
       "      <td>0.0</td>\n",
       "      <td>0</td>\n",
       "      <td>0.0</td>\n",
       "    </tr>\n",
       "  </tbody>\n",
       "</table>\n",
       "</div>"
      ],
      "text/plain": [
       "     Vecka  Antal fall per vecka  Antal fall per 100000 invånare per vecka  \\\n",
       "0   2020v6                     1                                         0   \n",
       "1   2020v7                     0                                         0   \n",
       "2   2020v8                     0                                         0   \n",
       "3   2020v9                    13                                         0   \n",
       "4  2020v10                   211                                         2   \n",
       "\n",
       "   Antal fall per 100000 invånare per 14dagar  Ackumulerade antal fall  \\\n",
       "0                                           0                        1   \n",
       "1                                           0                        1   \n",
       "2                                           0                        1   \n",
       "3                                           0                       14   \n",
       "4                                           2                      225   \n",
       "\n",
       "   Ackumulerade fall per 100000 invånare  Antal nyaintensivvårdade per vecka  \\\n",
       "0                                      0                                   0   \n",
       "1                                      0                                   0   \n",
       "2                                      0                                   0   \n",
       "3                                      0                                   0   \n",
       "4                                      2                                   3   \n",
       "\n",
       "   Ackumulerade antal intensivvårdade  Antal avlidna per vecka  \\\n",
       "0                                   0                        0   \n",
       "1                                   0                        0   \n",
       "2                                   0                        0   \n",
       "3                                   0                        0   \n",
       "4                                   3                        0   \n",
       "\n",
       "   Antal avlidna per miljon invånare per vecka  Ackumulerade antal avlidna  \\\n",
       "0                                          0.0                           0   \n",
       "1                                          0.0                           0   \n",
       "2                                          0.0                           0   \n",
       "3                                          0.0                           0   \n",
       "4                                          0.0                           0   \n",
       "\n",
       "   Ackumulerade antal avlidna per miljon invånare  \n",
       "0                                             0.0  \n",
       "1                                             0.0  \n",
       "2                                             0.0  \n",
       "3                                             0.0  \n",
       "4                                             0.0  "
      ]
     },
     "metadata": {},
     "execution_count": 74
    }
   ],
   "metadata": {}
  },
  {
   "cell_type": "markdown",
   "source": [
    "För deluppgifterna c-f, använd både Seaborn och Plotly express. För Seaborn, använd subplots så du får 2x2 grid med graferna.\n",
    "- c) Rita en linjediagram som visar avlidna fall per vecka från 2020v6 till nu. \n"
   ],
   "metadata": {}
  },
  {
   "cell_type": "code",
   "execution_count": 75,
   "source": [
    "#creating the figure and plotting in out\n",
    "fig = px.line(covid19, x=\"Vecka\", y=\"Antal avlidna per vecka\", title='Covid19 deaths per week')\n",
    "fig.show()\n",
    "\n",
    "# saving the figure\n",
    "fig.write_html(\"Visualiseringar/Upp1_c_Covid19_deaths_per_week.html\")"
   ],
   "outputs": [
    {
     "output_type": "display_data",
     "data": {
      "application/vnd.plotly.v1+json": {
       "config": {
        "plotlyServerURL": "https://plot.ly"
       },
       "data": [
        {
         "hovertemplate": "Vecka=%{x}<br>Antal avlidna per vecka=%{y}<extra></extra>",
         "legendgroup": "",
         "line": {
          "color": "#636efa",
          "dash": "solid"
         },
         "marker": {
          "symbol": "circle"
         },
         "mode": "lines",
         "name": "",
         "orientation": "v",
         "showlegend": false,
         "type": "scatter",
         "x": [
          "2020v6",
          "2020v7",
          "2020v8",
          "2020v9",
          "2020v10",
          "2020v11",
          "2020v12",
          "2020v13",
          "2020v14",
          "2020v15",
          "2020v16",
          "2020v17",
          "2020v18",
          "2020v19",
          "2020v20",
          "2020v21",
          "2020v22",
          "2020v23",
          "2020v24",
          "2020v25",
          "2020v26",
          "2020v27",
          "2020v28",
          "2020v29",
          "2020v30",
          "2020v31",
          "2020v32",
          "2020v33",
          "2020v34",
          "2020v35",
          "2020v36",
          "2020v37",
          "2020v38",
          "2020v39",
          "2020v40",
          "2020v41",
          "2020v42",
          "2020v43",
          "2020v44",
          "2020v45",
          "2020v46",
          "2020v47",
          "2020v48",
          "2020v49",
          "2020v50",
          "2020v51",
          "2020v52",
          "2020v53",
          "2021v1",
          "2021v2",
          "2021v3",
          "2021v4",
          "2021v5",
          "2021v6",
          "2021v7",
          "2021v8",
          "2021v9",
          "2021v10",
          "2021v11",
          "2021v12",
          "2021v13",
          "2021v14",
          "2021v15",
          "2021v16",
          "2021v17",
          "2021v18",
          "2021v19",
          "2021v20",
          "2021v21",
          "2021v22",
          "2021v23",
          "2021v24",
          "2021v25",
          "2021v26",
          "2021v27",
          "2021v28",
          "2021v29",
          "2021v30",
          "2021v31",
          "2021v32",
          "2021v33",
          "2021v34",
          "2021v35",
          "2021v36",
          "2021v37",
          "2021v38",
          "2021v39",
          "2021v40",
          "2021v41",
          "2021v42"
         ],
         "xaxis": "x",
         "y": [
          0,
          0,
          0,
          0,
          0,
          5,
          44,
          190,
          451,
          664,
          657,
          546,
          543,
          509,
          380,
          360,
          272,
          246,
          234,
          200,
          138,
          98,
          84,
          57,
          30,
          18,
          18,
          16,
          19,
          10,
          12,
          13,
          12,
          11,
          17,
          22,
          16,
          43,
          82,
          157,
          235,
          332,
          417,
          476,
          501,
          645,
          643,
          663,
          644,
          598,
          513,
          389,
          269,
          205,
          171,
          146,
          128,
          140,
          127,
          125,
          141,
          133,
          140,
          131,
          115,
          106,
          111,
          69,
          47,
          39,
          22,
          17,
          9,
          8,
          3,
          2,
          3,
          3,
          7,
          6,
          9,
          20,
          26,
          49,
          52,
          40,
          38,
          49,
          28,
          16
         ],
         "yaxis": "y"
        }
       ],
       "layout": {
        "legend": {
         "tracegroupgap": 0
        },
        "template": {
         "data": {
          "bar": [
           {
            "error_x": {
             "color": "#2a3f5f"
            },
            "error_y": {
             "color": "#2a3f5f"
            },
            "marker": {
             "line": {
              "color": "#E5ECF6",
              "width": 0.5
             },
             "pattern": {
              "fillmode": "overlay",
              "size": 10,
              "solidity": 0.2
             }
            },
            "type": "bar"
           }
          ],
          "barpolar": [
           {
            "marker": {
             "line": {
              "color": "#E5ECF6",
              "width": 0.5
             },
             "pattern": {
              "fillmode": "overlay",
              "size": 10,
              "solidity": 0.2
             }
            },
            "type": "barpolar"
           }
          ],
          "carpet": [
           {
            "aaxis": {
             "endlinecolor": "#2a3f5f",
             "gridcolor": "white",
             "linecolor": "white",
             "minorgridcolor": "white",
             "startlinecolor": "#2a3f5f"
            },
            "baxis": {
             "endlinecolor": "#2a3f5f",
             "gridcolor": "white",
             "linecolor": "white",
             "minorgridcolor": "white",
             "startlinecolor": "#2a3f5f"
            },
            "type": "carpet"
           }
          ],
          "choropleth": [
           {
            "colorbar": {
             "outlinewidth": 0,
             "ticks": ""
            },
            "type": "choropleth"
           }
          ],
          "contour": [
           {
            "colorbar": {
             "outlinewidth": 0,
             "ticks": ""
            },
            "colorscale": [
             [
              0,
              "#0d0887"
             ],
             [
              0.1111111111111111,
              "#46039f"
             ],
             [
              0.2222222222222222,
              "#7201a8"
             ],
             [
              0.3333333333333333,
              "#9c179e"
             ],
             [
              0.4444444444444444,
              "#bd3786"
             ],
             [
              0.5555555555555556,
              "#d8576b"
             ],
             [
              0.6666666666666666,
              "#ed7953"
             ],
             [
              0.7777777777777778,
              "#fb9f3a"
             ],
             [
              0.8888888888888888,
              "#fdca26"
             ],
             [
              1,
              "#f0f921"
             ]
            ],
            "type": "contour"
           }
          ],
          "contourcarpet": [
           {
            "colorbar": {
             "outlinewidth": 0,
             "ticks": ""
            },
            "type": "contourcarpet"
           }
          ],
          "heatmap": [
           {
            "colorbar": {
             "outlinewidth": 0,
             "ticks": ""
            },
            "colorscale": [
             [
              0,
              "#0d0887"
             ],
             [
              0.1111111111111111,
              "#46039f"
             ],
             [
              0.2222222222222222,
              "#7201a8"
             ],
             [
              0.3333333333333333,
              "#9c179e"
             ],
             [
              0.4444444444444444,
              "#bd3786"
             ],
             [
              0.5555555555555556,
              "#d8576b"
             ],
             [
              0.6666666666666666,
              "#ed7953"
             ],
             [
              0.7777777777777778,
              "#fb9f3a"
             ],
             [
              0.8888888888888888,
              "#fdca26"
             ],
             [
              1,
              "#f0f921"
             ]
            ],
            "type": "heatmap"
           }
          ],
          "heatmapgl": [
           {
            "colorbar": {
             "outlinewidth": 0,
             "ticks": ""
            },
            "colorscale": [
             [
              0,
              "#0d0887"
             ],
             [
              0.1111111111111111,
              "#46039f"
             ],
             [
              0.2222222222222222,
              "#7201a8"
             ],
             [
              0.3333333333333333,
              "#9c179e"
             ],
             [
              0.4444444444444444,
              "#bd3786"
             ],
             [
              0.5555555555555556,
              "#d8576b"
             ],
             [
              0.6666666666666666,
              "#ed7953"
             ],
             [
              0.7777777777777778,
              "#fb9f3a"
             ],
             [
              0.8888888888888888,
              "#fdca26"
             ],
             [
              1,
              "#f0f921"
             ]
            ],
            "type": "heatmapgl"
           }
          ],
          "histogram": [
           {
            "marker": {
             "pattern": {
              "fillmode": "overlay",
              "size": 10,
              "solidity": 0.2
             }
            },
            "type": "histogram"
           }
          ],
          "histogram2d": [
           {
            "colorbar": {
             "outlinewidth": 0,
             "ticks": ""
            },
            "colorscale": [
             [
              0,
              "#0d0887"
             ],
             [
              0.1111111111111111,
              "#46039f"
             ],
             [
              0.2222222222222222,
              "#7201a8"
             ],
             [
              0.3333333333333333,
              "#9c179e"
             ],
             [
              0.4444444444444444,
              "#bd3786"
             ],
             [
              0.5555555555555556,
              "#d8576b"
             ],
             [
              0.6666666666666666,
              "#ed7953"
             ],
             [
              0.7777777777777778,
              "#fb9f3a"
             ],
             [
              0.8888888888888888,
              "#fdca26"
             ],
             [
              1,
              "#f0f921"
             ]
            ],
            "type": "histogram2d"
           }
          ],
          "histogram2dcontour": [
           {
            "colorbar": {
             "outlinewidth": 0,
             "ticks": ""
            },
            "colorscale": [
             [
              0,
              "#0d0887"
             ],
             [
              0.1111111111111111,
              "#46039f"
             ],
             [
              0.2222222222222222,
              "#7201a8"
             ],
             [
              0.3333333333333333,
              "#9c179e"
             ],
             [
              0.4444444444444444,
              "#bd3786"
             ],
             [
              0.5555555555555556,
              "#d8576b"
             ],
             [
              0.6666666666666666,
              "#ed7953"
             ],
             [
              0.7777777777777778,
              "#fb9f3a"
             ],
             [
              0.8888888888888888,
              "#fdca26"
             ],
             [
              1,
              "#f0f921"
             ]
            ],
            "type": "histogram2dcontour"
           }
          ],
          "mesh3d": [
           {
            "colorbar": {
             "outlinewidth": 0,
             "ticks": ""
            },
            "type": "mesh3d"
           }
          ],
          "parcoords": [
           {
            "line": {
             "colorbar": {
              "outlinewidth": 0,
              "ticks": ""
             }
            },
            "type": "parcoords"
           }
          ],
          "pie": [
           {
            "automargin": true,
            "type": "pie"
           }
          ],
          "scatter": [
           {
            "marker": {
             "colorbar": {
              "outlinewidth": 0,
              "ticks": ""
             }
            },
            "type": "scatter"
           }
          ],
          "scatter3d": [
           {
            "line": {
             "colorbar": {
              "outlinewidth": 0,
              "ticks": ""
             }
            },
            "marker": {
             "colorbar": {
              "outlinewidth": 0,
              "ticks": ""
             }
            },
            "type": "scatter3d"
           }
          ],
          "scattercarpet": [
           {
            "marker": {
             "colorbar": {
              "outlinewidth": 0,
              "ticks": ""
             }
            },
            "type": "scattercarpet"
           }
          ],
          "scattergeo": [
           {
            "marker": {
             "colorbar": {
              "outlinewidth": 0,
              "ticks": ""
             }
            },
            "type": "scattergeo"
           }
          ],
          "scattergl": [
           {
            "marker": {
             "colorbar": {
              "outlinewidth": 0,
              "ticks": ""
             }
            },
            "type": "scattergl"
           }
          ],
          "scattermapbox": [
           {
            "marker": {
             "colorbar": {
              "outlinewidth": 0,
              "ticks": ""
             }
            },
            "type": "scattermapbox"
           }
          ],
          "scatterpolar": [
           {
            "marker": {
             "colorbar": {
              "outlinewidth": 0,
              "ticks": ""
             }
            },
            "type": "scatterpolar"
           }
          ],
          "scatterpolargl": [
           {
            "marker": {
             "colorbar": {
              "outlinewidth": 0,
              "ticks": ""
             }
            },
            "type": "scatterpolargl"
           }
          ],
          "scatterternary": [
           {
            "marker": {
             "colorbar": {
              "outlinewidth": 0,
              "ticks": ""
             }
            },
            "type": "scatterternary"
           }
          ],
          "surface": [
           {
            "colorbar": {
             "outlinewidth": 0,
             "ticks": ""
            },
            "colorscale": [
             [
              0,
              "#0d0887"
             ],
             [
              0.1111111111111111,
              "#46039f"
             ],
             [
              0.2222222222222222,
              "#7201a8"
             ],
             [
              0.3333333333333333,
              "#9c179e"
             ],
             [
              0.4444444444444444,
              "#bd3786"
             ],
             [
              0.5555555555555556,
              "#d8576b"
             ],
             [
              0.6666666666666666,
              "#ed7953"
             ],
             [
              0.7777777777777778,
              "#fb9f3a"
             ],
             [
              0.8888888888888888,
              "#fdca26"
             ],
             [
              1,
              "#f0f921"
             ]
            ],
            "type": "surface"
           }
          ],
          "table": [
           {
            "cells": {
             "fill": {
              "color": "#EBF0F8"
             },
             "line": {
              "color": "white"
             }
            },
            "header": {
             "fill": {
              "color": "#C8D4E3"
             },
             "line": {
              "color": "white"
             }
            },
            "type": "table"
           }
          ]
         },
         "layout": {
          "annotationdefaults": {
           "arrowcolor": "#2a3f5f",
           "arrowhead": 0,
           "arrowwidth": 1
          },
          "autotypenumbers": "strict",
          "coloraxis": {
           "colorbar": {
            "outlinewidth": 0,
            "ticks": ""
           }
          },
          "colorscale": {
           "diverging": [
            [
             0,
             "#8e0152"
            ],
            [
             0.1,
             "#c51b7d"
            ],
            [
             0.2,
             "#de77ae"
            ],
            [
             0.3,
             "#f1b6da"
            ],
            [
             0.4,
             "#fde0ef"
            ],
            [
             0.5,
             "#f7f7f7"
            ],
            [
             0.6,
             "#e6f5d0"
            ],
            [
             0.7,
             "#b8e186"
            ],
            [
             0.8,
             "#7fbc41"
            ],
            [
             0.9,
             "#4d9221"
            ],
            [
             1,
             "#276419"
            ]
           ],
           "sequential": [
            [
             0,
             "#0d0887"
            ],
            [
             0.1111111111111111,
             "#46039f"
            ],
            [
             0.2222222222222222,
             "#7201a8"
            ],
            [
             0.3333333333333333,
             "#9c179e"
            ],
            [
             0.4444444444444444,
             "#bd3786"
            ],
            [
             0.5555555555555556,
             "#d8576b"
            ],
            [
             0.6666666666666666,
             "#ed7953"
            ],
            [
             0.7777777777777778,
             "#fb9f3a"
            ],
            [
             0.8888888888888888,
             "#fdca26"
            ],
            [
             1,
             "#f0f921"
            ]
           ],
           "sequentialminus": [
            [
             0,
             "#0d0887"
            ],
            [
             0.1111111111111111,
             "#46039f"
            ],
            [
             0.2222222222222222,
             "#7201a8"
            ],
            [
             0.3333333333333333,
             "#9c179e"
            ],
            [
             0.4444444444444444,
             "#bd3786"
            ],
            [
             0.5555555555555556,
             "#d8576b"
            ],
            [
             0.6666666666666666,
             "#ed7953"
            ],
            [
             0.7777777777777778,
             "#fb9f3a"
            ],
            [
             0.8888888888888888,
             "#fdca26"
            ],
            [
             1,
             "#f0f921"
            ]
           ]
          },
          "colorway": [
           "#636efa",
           "#EF553B",
           "#00cc96",
           "#ab63fa",
           "#FFA15A",
           "#19d3f3",
           "#FF6692",
           "#B6E880",
           "#FF97FF",
           "#FECB52"
          ],
          "font": {
           "color": "#2a3f5f"
          },
          "geo": {
           "bgcolor": "white",
           "lakecolor": "white",
           "landcolor": "#E5ECF6",
           "showlakes": true,
           "showland": true,
           "subunitcolor": "white"
          },
          "hoverlabel": {
           "align": "left"
          },
          "hovermode": "closest",
          "mapbox": {
           "style": "light"
          },
          "paper_bgcolor": "white",
          "plot_bgcolor": "#E5ECF6",
          "polar": {
           "angularaxis": {
            "gridcolor": "white",
            "linecolor": "white",
            "ticks": ""
           },
           "bgcolor": "#E5ECF6",
           "radialaxis": {
            "gridcolor": "white",
            "linecolor": "white",
            "ticks": ""
           }
          },
          "scene": {
           "xaxis": {
            "backgroundcolor": "#E5ECF6",
            "gridcolor": "white",
            "gridwidth": 2,
            "linecolor": "white",
            "showbackground": true,
            "ticks": "",
            "zerolinecolor": "white"
           },
           "yaxis": {
            "backgroundcolor": "#E5ECF6",
            "gridcolor": "white",
            "gridwidth": 2,
            "linecolor": "white",
            "showbackground": true,
            "ticks": "",
            "zerolinecolor": "white"
           },
           "zaxis": {
            "backgroundcolor": "#E5ECF6",
            "gridcolor": "white",
            "gridwidth": 2,
            "linecolor": "white",
            "showbackground": true,
            "ticks": "",
            "zerolinecolor": "white"
           }
          },
          "shapedefaults": {
           "line": {
            "color": "#2a3f5f"
           }
          },
          "ternary": {
           "aaxis": {
            "gridcolor": "white",
            "linecolor": "white",
            "ticks": ""
           },
           "baxis": {
            "gridcolor": "white",
            "linecolor": "white",
            "ticks": ""
           },
           "bgcolor": "#E5ECF6",
           "caxis": {
            "gridcolor": "white",
            "linecolor": "white",
            "ticks": ""
           }
          },
          "title": {
           "x": 0.05
          },
          "xaxis": {
           "automargin": true,
           "gridcolor": "white",
           "linecolor": "white",
           "ticks": "",
           "title": {
            "standoff": 15
           },
           "zerolinecolor": "white",
           "zerolinewidth": 2
          },
          "yaxis": {
           "automargin": true,
           "gridcolor": "white",
           "linecolor": "white",
           "ticks": "",
           "title": {
            "standoff": 15
           },
           "zerolinecolor": "white",
           "zerolinewidth": 2
          }
         }
        },
        "title": {
         "text": "Covid19 deaths per week"
        },
        "xaxis": {
         "anchor": "y",
         "domain": [
          0,
          1
         ],
         "title": {
          "text": "Vecka"
         }
        },
        "yaxis": {
         "anchor": "x",
         "domain": [
          0,
          1
         ],
         "title": {
          "text": "Antal avlidna per vecka"
         }
        }
       }
      }
     },
     "metadata": {}
    }
   ],
   "metadata": {}
  },
  {
   "cell_type": "markdown",
   "source": [
    "- d) Rita en linjediagram som visar nya fall per vecka från 2020v6 till nu.\n"
   ],
   "metadata": {}
  },
  {
   "cell_type": "code",
   "execution_count": 76,
   "source": [
    "# creating the figure and plotting it\n",
    "fig = px.line(covid19, \n",
    "                x=\"Vecka\", \n",
    "                y=\"Antal fall per vecka\", \n",
    "                title='New Covid19 cases per week')\n",
    "fig.show()\n",
    "\n",
    "# saving the figure \n",
    "fig.write_html(\"Visualiseringar/Upp1_d_New_Covid19_cases_per_week.html\")"
   ],
   "outputs": [
    {
     "output_type": "display_data",
     "data": {
      "application/vnd.plotly.v1+json": {
       "config": {
        "plotlyServerURL": "https://plot.ly"
       },
       "data": [
        {
         "hovertemplate": "Vecka=%{x}<br>Antal fall per vecka=%{y}<extra></extra>",
         "legendgroup": "",
         "line": {
          "color": "#636efa",
          "dash": "solid"
         },
         "marker": {
          "symbol": "circle"
         },
         "mode": "lines",
         "name": "",
         "orientation": "v",
         "showlegend": false,
         "type": "scatter",
         "x": [
          "2020v6",
          "2020v7",
          "2020v8",
          "2020v9",
          "2020v10",
          "2020v11",
          "2020v12",
          "2020v13",
          "2020v14",
          "2020v15",
          "2020v16",
          "2020v17",
          "2020v18",
          "2020v19",
          "2020v20",
          "2020v21",
          "2020v22",
          "2020v23",
          "2020v24",
          "2020v25",
          "2020v26",
          "2020v27",
          "2020v28",
          "2020v29",
          "2020v30",
          "2020v31",
          "2020v32",
          "2020v33",
          "2020v34",
          "2020v35",
          "2020v36",
          "2020v37",
          "2020v38",
          "2020v39",
          "2020v40",
          "2020v41",
          "2020v42",
          "2020v43",
          "2020v44",
          "2020v45",
          "2020v46",
          "2020v47",
          "2020v48",
          "2020v49",
          "2020v50",
          "2020v51",
          "2020v52",
          "2020v53",
          "2021v1",
          "2021v2",
          "2021v3",
          "2021v4",
          "2021v5",
          "2021v6",
          "2021v7",
          "2021v8",
          "2021v9",
          "2021v10",
          "2021v11",
          "2021v12",
          "2021v13",
          "2021v14",
          "2021v15",
          "2021v16",
          "2021v17",
          "2021v18",
          "2021v19",
          "2021v20",
          "2021v21",
          "2021v22",
          "2021v23",
          "2021v24",
          "2021v25",
          "2021v26",
          "2021v27",
          "2021v28",
          "2021v29",
          "2021v30",
          "2021v31",
          "2021v32",
          "2021v33",
          "2021v34",
          "2021v35",
          "2021v36",
          "2021v37",
          "2021v38",
          "2021v39",
          "2021v40",
          "2021v41",
          "2021v42"
         ],
         "xaxis": "x",
         "y": [
          1,
          0,
          0,
          13,
          211,
          838,
          924,
          1957,
          3229,
          3740,
          3752,
          4203,
          3832,
          4153,
          3869,
          3659,
          4280,
          6021,
          7123,
          7073,
          7455,
          4279,
          2179,
          1622,
          1316,
          1556,
          2014,
          2052,
          1687,
          1200,
          1332,
          1592,
          2080,
          2919,
          3642,
          4278,
          5620,
          9155,
          18474,
          25405,
          31319,
          31944,
          35560,
          36837,
          43631,
          46177,
          37134,
          41323,
          39455,
          28942,
          23230,
          20660,
          19605,
          21283,
          23615,
          26690,
          27748,
          28555,
          33033,
          37881,
          38386,
          41147,
          41037,
          36032,
          35306,
          33680,
          25916,
          18169,
          7974,
          9094,
          4394,
          2848,
          1982,
          1869,
          1514,
          1881,
          2662,
          3459,
          4608,
          5820,
          6464,
          6689,
          7236,
          7972,
          6265,
          4307,
          4240,
          4140,
          4074,
          5201
         ],
         "yaxis": "y"
        }
       ],
       "layout": {
        "legend": {
         "tracegroupgap": 0
        },
        "template": {
         "data": {
          "bar": [
           {
            "error_x": {
             "color": "#2a3f5f"
            },
            "error_y": {
             "color": "#2a3f5f"
            },
            "marker": {
             "line": {
              "color": "#E5ECF6",
              "width": 0.5
             },
             "pattern": {
              "fillmode": "overlay",
              "size": 10,
              "solidity": 0.2
             }
            },
            "type": "bar"
           }
          ],
          "barpolar": [
           {
            "marker": {
             "line": {
              "color": "#E5ECF6",
              "width": 0.5
             },
             "pattern": {
              "fillmode": "overlay",
              "size": 10,
              "solidity": 0.2
             }
            },
            "type": "barpolar"
           }
          ],
          "carpet": [
           {
            "aaxis": {
             "endlinecolor": "#2a3f5f",
             "gridcolor": "white",
             "linecolor": "white",
             "minorgridcolor": "white",
             "startlinecolor": "#2a3f5f"
            },
            "baxis": {
             "endlinecolor": "#2a3f5f",
             "gridcolor": "white",
             "linecolor": "white",
             "minorgridcolor": "white",
             "startlinecolor": "#2a3f5f"
            },
            "type": "carpet"
           }
          ],
          "choropleth": [
           {
            "colorbar": {
             "outlinewidth": 0,
             "ticks": ""
            },
            "type": "choropleth"
           }
          ],
          "contour": [
           {
            "colorbar": {
             "outlinewidth": 0,
             "ticks": ""
            },
            "colorscale": [
             [
              0,
              "#0d0887"
             ],
             [
              0.1111111111111111,
              "#46039f"
             ],
             [
              0.2222222222222222,
              "#7201a8"
             ],
             [
              0.3333333333333333,
              "#9c179e"
             ],
             [
              0.4444444444444444,
              "#bd3786"
             ],
             [
              0.5555555555555556,
              "#d8576b"
             ],
             [
              0.6666666666666666,
              "#ed7953"
             ],
             [
              0.7777777777777778,
              "#fb9f3a"
             ],
             [
              0.8888888888888888,
              "#fdca26"
             ],
             [
              1,
              "#f0f921"
             ]
            ],
            "type": "contour"
           }
          ],
          "contourcarpet": [
           {
            "colorbar": {
             "outlinewidth": 0,
             "ticks": ""
            },
            "type": "contourcarpet"
           }
          ],
          "heatmap": [
           {
            "colorbar": {
             "outlinewidth": 0,
             "ticks": ""
            },
            "colorscale": [
             [
              0,
              "#0d0887"
             ],
             [
              0.1111111111111111,
              "#46039f"
             ],
             [
              0.2222222222222222,
              "#7201a8"
             ],
             [
              0.3333333333333333,
              "#9c179e"
             ],
             [
              0.4444444444444444,
              "#bd3786"
             ],
             [
              0.5555555555555556,
              "#d8576b"
             ],
             [
              0.6666666666666666,
              "#ed7953"
             ],
             [
              0.7777777777777778,
              "#fb9f3a"
             ],
             [
              0.8888888888888888,
              "#fdca26"
             ],
             [
              1,
              "#f0f921"
             ]
            ],
            "type": "heatmap"
           }
          ],
          "heatmapgl": [
           {
            "colorbar": {
             "outlinewidth": 0,
             "ticks": ""
            },
            "colorscale": [
             [
              0,
              "#0d0887"
             ],
             [
              0.1111111111111111,
              "#46039f"
             ],
             [
              0.2222222222222222,
              "#7201a8"
             ],
             [
              0.3333333333333333,
              "#9c179e"
             ],
             [
              0.4444444444444444,
              "#bd3786"
             ],
             [
              0.5555555555555556,
              "#d8576b"
             ],
             [
              0.6666666666666666,
              "#ed7953"
             ],
             [
              0.7777777777777778,
              "#fb9f3a"
             ],
             [
              0.8888888888888888,
              "#fdca26"
             ],
             [
              1,
              "#f0f921"
             ]
            ],
            "type": "heatmapgl"
           }
          ],
          "histogram": [
           {
            "marker": {
             "pattern": {
              "fillmode": "overlay",
              "size": 10,
              "solidity": 0.2
             }
            },
            "type": "histogram"
           }
          ],
          "histogram2d": [
           {
            "colorbar": {
             "outlinewidth": 0,
             "ticks": ""
            },
            "colorscale": [
             [
              0,
              "#0d0887"
             ],
             [
              0.1111111111111111,
              "#46039f"
             ],
             [
              0.2222222222222222,
              "#7201a8"
             ],
             [
              0.3333333333333333,
              "#9c179e"
             ],
             [
              0.4444444444444444,
              "#bd3786"
             ],
             [
              0.5555555555555556,
              "#d8576b"
             ],
             [
              0.6666666666666666,
              "#ed7953"
             ],
             [
              0.7777777777777778,
              "#fb9f3a"
             ],
             [
              0.8888888888888888,
              "#fdca26"
             ],
             [
              1,
              "#f0f921"
             ]
            ],
            "type": "histogram2d"
           }
          ],
          "histogram2dcontour": [
           {
            "colorbar": {
             "outlinewidth": 0,
             "ticks": ""
            },
            "colorscale": [
             [
              0,
              "#0d0887"
             ],
             [
              0.1111111111111111,
              "#46039f"
             ],
             [
              0.2222222222222222,
              "#7201a8"
             ],
             [
              0.3333333333333333,
              "#9c179e"
             ],
             [
              0.4444444444444444,
              "#bd3786"
             ],
             [
              0.5555555555555556,
              "#d8576b"
             ],
             [
              0.6666666666666666,
              "#ed7953"
             ],
             [
              0.7777777777777778,
              "#fb9f3a"
             ],
             [
              0.8888888888888888,
              "#fdca26"
             ],
             [
              1,
              "#f0f921"
             ]
            ],
            "type": "histogram2dcontour"
           }
          ],
          "mesh3d": [
           {
            "colorbar": {
             "outlinewidth": 0,
             "ticks": ""
            },
            "type": "mesh3d"
           }
          ],
          "parcoords": [
           {
            "line": {
             "colorbar": {
              "outlinewidth": 0,
              "ticks": ""
             }
            },
            "type": "parcoords"
           }
          ],
          "pie": [
           {
            "automargin": true,
            "type": "pie"
           }
          ],
          "scatter": [
           {
            "marker": {
             "colorbar": {
              "outlinewidth": 0,
              "ticks": ""
             }
            },
            "type": "scatter"
           }
          ],
          "scatter3d": [
           {
            "line": {
             "colorbar": {
              "outlinewidth": 0,
              "ticks": ""
             }
            },
            "marker": {
             "colorbar": {
              "outlinewidth": 0,
              "ticks": ""
             }
            },
            "type": "scatter3d"
           }
          ],
          "scattercarpet": [
           {
            "marker": {
             "colorbar": {
              "outlinewidth": 0,
              "ticks": ""
             }
            },
            "type": "scattercarpet"
           }
          ],
          "scattergeo": [
           {
            "marker": {
             "colorbar": {
              "outlinewidth": 0,
              "ticks": ""
             }
            },
            "type": "scattergeo"
           }
          ],
          "scattergl": [
           {
            "marker": {
             "colorbar": {
              "outlinewidth": 0,
              "ticks": ""
             }
            },
            "type": "scattergl"
           }
          ],
          "scattermapbox": [
           {
            "marker": {
             "colorbar": {
              "outlinewidth": 0,
              "ticks": ""
             }
            },
            "type": "scattermapbox"
           }
          ],
          "scatterpolar": [
           {
            "marker": {
             "colorbar": {
              "outlinewidth": 0,
              "ticks": ""
             }
            },
            "type": "scatterpolar"
           }
          ],
          "scatterpolargl": [
           {
            "marker": {
             "colorbar": {
              "outlinewidth": 0,
              "ticks": ""
             }
            },
            "type": "scatterpolargl"
           }
          ],
          "scatterternary": [
           {
            "marker": {
             "colorbar": {
              "outlinewidth": 0,
              "ticks": ""
             }
            },
            "type": "scatterternary"
           }
          ],
          "surface": [
           {
            "colorbar": {
             "outlinewidth": 0,
             "ticks": ""
            },
            "colorscale": [
             [
              0,
              "#0d0887"
             ],
             [
              0.1111111111111111,
              "#46039f"
             ],
             [
              0.2222222222222222,
              "#7201a8"
             ],
             [
              0.3333333333333333,
              "#9c179e"
             ],
             [
              0.4444444444444444,
              "#bd3786"
             ],
             [
              0.5555555555555556,
              "#d8576b"
             ],
             [
              0.6666666666666666,
              "#ed7953"
             ],
             [
              0.7777777777777778,
              "#fb9f3a"
             ],
             [
              0.8888888888888888,
              "#fdca26"
             ],
             [
              1,
              "#f0f921"
             ]
            ],
            "type": "surface"
           }
          ],
          "table": [
           {
            "cells": {
             "fill": {
              "color": "#EBF0F8"
             },
             "line": {
              "color": "white"
             }
            },
            "header": {
             "fill": {
              "color": "#C8D4E3"
             },
             "line": {
              "color": "white"
             }
            },
            "type": "table"
           }
          ]
         },
         "layout": {
          "annotationdefaults": {
           "arrowcolor": "#2a3f5f",
           "arrowhead": 0,
           "arrowwidth": 1
          },
          "autotypenumbers": "strict",
          "coloraxis": {
           "colorbar": {
            "outlinewidth": 0,
            "ticks": ""
           }
          },
          "colorscale": {
           "diverging": [
            [
             0,
             "#8e0152"
            ],
            [
             0.1,
             "#c51b7d"
            ],
            [
             0.2,
             "#de77ae"
            ],
            [
             0.3,
             "#f1b6da"
            ],
            [
             0.4,
             "#fde0ef"
            ],
            [
             0.5,
             "#f7f7f7"
            ],
            [
             0.6,
             "#e6f5d0"
            ],
            [
             0.7,
             "#b8e186"
            ],
            [
             0.8,
             "#7fbc41"
            ],
            [
             0.9,
             "#4d9221"
            ],
            [
             1,
             "#276419"
            ]
           ],
           "sequential": [
            [
             0,
             "#0d0887"
            ],
            [
             0.1111111111111111,
             "#46039f"
            ],
            [
             0.2222222222222222,
             "#7201a8"
            ],
            [
             0.3333333333333333,
             "#9c179e"
            ],
            [
             0.4444444444444444,
             "#bd3786"
            ],
            [
             0.5555555555555556,
             "#d8576b"
            ],
            [
             0.6666666666666666,
             "#ed7953"
            ],
            [
             0.7777777777777778,
             "#fb9f3a"
            ],
            [
             0.8888888888888888,
             "#fdca26"
            ],
            [
             1,
             "#f0f921"
            ]
           ],
           "sequentialminus": [
            [
             0,
             "#0d0887"
            ],
            [
             0.1111111111111111,
             "#46039f"
            ],
            [
             0.2222222222222222,
             "#7201a8"
            ],
            [
             0.3333333333333333,
             "#9c179e"
            ],
            [
             0.4444444444444444,
             "#bd3786"
            ],
            [
             0.5555555555555556,
             "#d8576b"
            ],
            [
             0.6666666666666666,
             "#ed7953"
            ],
            [
             0.7777777777777778,
             "#fb9f3a"
            ],
            [
             0.8888888888888888,
             "#fdca26"
            ],
            [
             1,
             "#f0f921"
            ]
           ]
          },
          "colorway": [
           "#636efa",
           "#EF553B",
           "#00cc96",
           "#ab63fa",
           "#FFA15A",
           "#19d3f3",
           "#FF6692",
           "#B6E880",
           "#FF97FF",
           "#FECB52"
          ],
          "font": {
           "color": "#2a3f5f"
          },
          "geo": {
           "bgcolor": "white",
           "lakecolor": "white",
           "landcolor": "#E5ECF6",
           "showlakes": true,
           "showland": true,
           "subunitcolor": "white"
          },
          "hoverlabel": {
           "align": "left"
          },
          "hovermode": "closest",
          "mapbox": {
           "style": "light"
          },
          "paper_bgcolor": "white",
          "plot_bgcolor": "#E5ECF6",
          "polar": {
           "angularaxis": {
            "gridcolor": "white",
            "linecolor": "white",
            "ticks": ""
           },
           "bgcolor": "#E5ECF6",
           "radialaxis": {
            "gridcolor": "white",
            "linecolor": "white",
            "ticks": ""
           }
          },
          "scene": {
           "xaxis": {
            "backgroundcolor": "#E5ECF6",
            "gridcolor": "white",
            "gridwidth": 2,
            "linecolor": "white",
            "showbackground": true,
            "ticks": "",
            "zerolinecolor": "white"
           },
           "yaxis": {
            "backgroundcolor": "#E5ECF6",
            "gridcolor": "white",
            "gridwidth": 2,
            "linecolor": "white",
            "showbackground": true,
            "ticks": "",
            "zerolinecolor": "white"
           },
           "zaxis": {
            "backgroundcolor": "#E5ECF6",
            "gridcolor": "white",
            "gridwidth": 2,
            "linecolor": "white",
            "showbackground": true,
            "ticks": "",
            "zerolinecolor": "white"
           }
          },
          "shapedefaults": {
           "line": {
            "color": "#2a3f5f"
           }
          },
          "ternary": {
           "aaxis": {
            "gridcolor": "white",
            "linecolor": "white",
            "ticks": ""
           },
           "baxis": {
            "gridcolor": "white",
            "linecolor": "white",
            "ticks": ""
           },
           "bgcolor": "#E5ECF6",
           "caxis": {
            "gridcolor": "white",
            "linecolor": "white",
            "ticks": ""
           }
          },
          "title": {
           "x": 0.05
          },
          "xaxis": {
           "automargin": true,
           "gridcolor": "white",
           "linecolor": "white",
           "ticks": "",
           "title": {
            "standoff": 15
           },
           "zerolinecolor": "white",
           "zerolinewidth": 2
          },
          "yaxis": {
           "automargin": true,
           "gridcolor": "white",
           "linecolor": "white",
           "ticks": "",
           "title": {
            "standoff": 15
           },
           "zerolinecolor": "white",
           "zerolinewidth": 2
          }
         }
        },
        "title": {
         "text": "New Covid19 cases per week"
        },
        "xaxis": {
         "anchor": "y",
         "domain": [
          0,
          1
         ],
         "title": {
          "text": "Vecka"
         }
        },
        "yaxis": {
         "anchor": "x",
         "domain": [
          0,
          1
         ],
         "title": {
          "text": "Antal fall per vecka"
         }
        }
       }
      }
     },
     "metadata": {}
    }
   ],
   "metadata": {}
  },
  {
   "cell_type": "markdown",
   "source": [
    "- e) Rita linjediagram av både avlidna fall per vecka och nya fall per vecka i samma fönster från 2020v6 till nu.\n"
   ],
   "metadata": {}
  },
  {
   "cell_type": "code",
   "execution_count": 77,
   "source": [
    "#creating the figure and plotting it out\n",
    "fig = px.line(covid19, x=\"Vecka\", \n",
    "                        y=[\"Antal fall per vecka\",\"Antal avlidna per vecka\"], \n",
    "                        title='New Covid19 cases per week',\n",
    "                        labels = {\n",
    "                            \"variable\":\"Varibale\",\n",
    "                            \"value\":\"Antal\"\n",
    "                        }, \n",
    "                        log_y = True)  # made the graph to be logarithmic since we can't see much in the linear graph\n",
    "fig.show()\n",
    "\n",
    "# saving the figure\n",
    "fig.write_html(\"Visualiseringar/Upp1_e_New_Covid19_cases_per_week_vs_deaths_per_week.html\")"
   ],
   "outputs": [
    {
     "output_type": "display_data",
     "data": {
      "application/vnd.plotly.v1+json": {
       "config": {
        "plotlyServerURL": "https://plot.ly"
       },
       "data": [
        {
         "hovertemplate": "Varibale=Antal fall per vecka<br>Vecka=%{x}<br>Antal=%{y}<extra></extra>",
         "legendgroup": "Antal fall per vecka",
         "line": {
          "color": "#636efa",
          "dash": "solid"
         },
         "marker": {
          "symbol": "circle"
         },
         "mode": "lines",
         "name": "Antal fall per vecka",
         "orientation": "v",
         "showlegend": true,
         "type": "scatter",
         "x": [
          "2020v6",
          "2020v7",
          "2020v8",
          "2020v9",
          "2020v10",
          "2020v11",
          "2020v12",
          "2020v13",
          "2020v14",
          "2020v15",
          "2020v16",
          "2020v17",
          "2020v18",
          "2020v19",
          "2020v20",
          "2020v21",
          "2020v22",
          "2020v23",
          "2020v24",
          "2020v25",
          "2020v26",
          "2020v27",
          "2020v28",
          "2020v29",
          "2020v30",
          "2020v31",
          "2020v32",
          "2020v33",
          "2020v34",
          "2020v35",
          "2020v36",
          "2020v37",
          "2020v38",
          "2020v39",
          "2020v40",
          "2020v41",
          "2020v42",
          "2020v43",
          "2020v44",
          "2020v45",
          "2020v46",
          "2020v47",
          "2020v48",
          "2020v49",
          "2020v50",
          "2020v51",
          "2020v52",
          "2020v53",
          "2021v1",
          "2021v2",
          "2021v3",
          "2021v4",
          "2021v5",
          "2021v6",
          "2021v7",
          "2021v8",
          "2021v9",
          "2021v10",
          "2021v11",
          "2021v12",
          "2021v13",
          "2021v14",
          "2021v15",
          "2021v16",
          "2021v17",
          "2021v18",
          "2021v19",
          "2021v20",
          "2021v21",
          "2021v22",
          "2021v23",
          "2021v24",
          "2021v25",
          "2021v26",
          "2021v27",
          "2021v28",
          "2021v29",
          "2021v30",
          "2021v31",
          "2021v32",
          "2021v33",
          "2021v34",
          "2021v35",
          "2021v36",
          "2021v37",
          "2021v38",
          "2021v39",
          "2021v40",
          "2021v41",
          "2021v42"
         ],
         "xaxis": "x",
         "y": [
          1,
          0,
          0,
          13,
          211,
          838,
          924,
          1957,
          3229,
          3740,
          3752,
          4203,
          3832,
          4153,
          3869,
          3659,
          4280,
          6021,
          7123,
          7073,
          7455,
          4279,
          2179,
          1622,
          1316,
          1556,
          2014,
          2052,
          1687,
          1200,
          1332,
          1592,
          2080,
          2919,
          3642,
          4278,
          5620,
          9155,
          18474,
          25405,
          31319,
          31944,
          35560,
          36837,
          43631,
          46177,
          37134,
          41323,
          39455,
          28942,
          23230,
          20660,
          19605,
          21283,
          23615,
          26690,
          27748,
          28555,
          33033,
          37881,
          38386,
          41147,
          41037,
          36032,
          35306,
          33680,
          25916,
          18169,
          7974,
          9094,
          4394,
          2848,
          1982,
          1869,
          1514,
          1881,
          2662,
          3459,
          4608,
          5820,
          6464,
          6689,
          7236,
          7972,
          6265,
          4307,
          4240,
          4140,
          4074,
          5201
         ],
         "yaxis": "y"
        },
        {
         "hovertemplate": "Varibale=Antal avlidna per vecka<br>Vecka=%{x}<br>Antal=%{y}<extra></extra>",
         "legendgroup": "Antal avlidna per vecka",
         "line": {
          "color": "#EF553B",
          "dash": "solid"
         },
         "marker": {
          "symbol": "circle"
         },
         "mode": "lines",
         "name": "Antal avlidna per vecka",
         "orientation": "v",
         "showlegend": true,
         "type": "scatter",
         "x": [
          "2020v6",
          "2020v7",
          "2020v8",
          "2020v9",
          "2020v10",
          "2020v11",
          "2020v12",
          "2020v13",
          "2020v14",
          "2020v15",
          "2020v16",
          "2020v17",
          "2020v18",
          "2020v19",
          "2020v20",
          "2020v21",
          "2020v22",
          "2020v23",
          "2020v24",
          "2020v25",
          "2020v26",
          "2020v27",
          "2020v28",
          "2020v29",
          "2020v30",
          "2020v31",
          "2020v32",
          "2020v33",
          "2020v34",
          "2020v35",
          "2020v36",
          "2020v37",
          "2020v38",
          "2020v39",
          "2020v40",
          "2020v41",
          "2020v42",
          "2020v43",
          "2020v44",
          "2020v45",
          "2020v46",
          "2020v47",
          "2020v48",
          "2020v49",
          "2020v50",
          "2020v51",
          "2020v52",
          "2020v53",
          "2021v1",
          "2021v2",
          "2021v3",
          "2021v4",
          "2021v5",
          "2021v6",
          "2021v7",
          "2021v8",
          "2021v9",
          "2021v10",
          "2021v11",
          "2021v12",
          "2021v13",
          "2021v14",
          "2021v15",
          "2021v16",
          "2021v17",
          "2021v18",
          "2021v19",
          "2021v20",
          "2021v21",
          "2021v22",
          "2021v23",
          "2021v24",
          "2021v25",
          "2021v26",
          "2021v27",
          "2021v28",
          "2021v29",
          "2021v30",
          "2021v31",
          "2021v32",
          "2021v33",
          "2021v34",
          "2021v35",
          "2021v36",
          "2021v37",
          "2021v38",
          "2021v39",
          "2021v40",
          "2021v41",
          "2021v42"
         ],
         "xaxis": "x",
         "y": [
          0,
          0,
          0,
          0,
          0,
          5,
          44,
          190,
          451,
          664,
          657,
          546,
          543,
          509,
          380,
          360,
          272,
          246,
          234,
          200,
          138,
          98,
          84,
          57,
          30,
          18,
          18,
          16,
          19,
          10,
          12,
          13,
          12,
          11,
          17,
          22,
          16,
          43,
          82,
          157,
          235,
          332,
          417,
          476,
          501,
          645,
          643,
          663,
          644,
          598,
          513,
          389,
          269,
          205,
          171,
          146,
          128,
          140,
          127,
          125,
          141,
          133,
          140,
          131,
          115,
          106,
          111,
          69,
          47,
          39,
          22,
          17,
          9,
          8,
          3,
          2,
          3,
          3,
          7,
          6,
          9,
          20,
          26,
          49,
          52,
          40,
          38,
          49,
          28,
          16
         ],
         "yaxis": "y"
        }
       ],
       "layout": {
        "legend": {
         "title": {
          "text": "Varibale"
         },
         "tracegroupgap": 0
        },
        "template": {
         "data": {
          "bar": [
           {
            "error_x": {
             "color": "#2a3f5f"
            },
            "error_y": {
             "color": "#2a3f5f"
            },
            "marker": {
             "line": {
              "color": "#E5ECF6",
              "width": 0.5
             },
             "pattern": {
              "fillmode": "overlay",
              "size": 10,
              "solidity": 0.2
             }
            },
            "type": "bar"
           }
          ],
          "barpolar": [
           {
            "marker": {
             "line": {
              "color": "#E5ECF6",
              "width": 0.5
             },
             "pattern": {
              "fillmode": "overlay",
              "size": 10,
              "solidity": 0.2
             }
            },
            "type": "barpolar"
           }
          ],
          "carpet": [
           {
            "aaxis": {
             "endlinecolor": "#2a3f5f",
             "gridcolor": "white",
             "linecolor": "white",
             "minorgridcolor": "white",
             "startlinecolor": "#2a3f5f"
            },
            "baxis": {
             "endlinecolor": "#2a3f5f",
             "gridcolor": "white",
             "linecolor": "white",
             "minorgridcolor": "white",
             "startlinecolor": "#2a3f5f"
            },
            "type": "carpet"
           }
          ],
          "choropleth": [
           {
            "colorbar": {
             "outlinewidth": 0,
             "ticks": ""
            },
            "type": "choropleth"
           }
          ],
          "contour": [
           {
            "colorbar": {
             "outlinewidth": 0,
             "ticks": ""
            },
            "colorscale": [
             [
              0,
              "#0d0887"
             ],
             [
              0.1111111111111111,
              "#46039f"
             ],
             [
              0.2222222222222222,
              "#7201a8"
             ],
             [
              0.3333333333333333,
              "#9c179e"
             ],
             [
              0.4444444444444444,
              "#bd3786"
             ],
             [
              0.5555555555555556,
              "#d8576b"
             ],
             [
              0.6666666666666666,
              "#ed7953"
             ],
             [
              0.7777777777777778,
              "#fb9f3a"
             ],
             [
              0.8888888888888888,
              "#fdca26"
             ],
             [
              1,
              "#f0f921"
             ]
            ],
            "type": "contour"
           }
          ],
          "contourcarpet": [
           {
            "colorbar": {
             "outlinewidth": 0,
             "ticks": ""
            },
            "type": "contourcarpet"
           }
          ],
          "heatmap": [
           {
            "colorbar": {
             "outlinewidth": 0,
             "ticks": ""
            },
            "colorscale": [
             [
              0,
              "#0d0887"
             ],
             [
              0.1111111111111111,
              "#46039f"
             ],
             [
              0.2222222222222222,
              "#7201a8"
             ],
             [
              0.3333333333333333,
              "#9c179e"
             ],
             [
              0.4444444444444444,
              "#bd3786"
             ],
             [
              0.5555555555555556,
              "#d8576b"
             ],
             [
              0.6666666666666666,
              "#ed7953"
             ],
             [
              0.7777777777777778,
              "#fb9f3a"
             ],
             [
              0.8888888888888888,
              "#fdca26"
             ],
             [
              1,
              "#f0f921"
             ]
            ],
            "type": "heatmap"
           }
          ],
          "heatmapgl": [
           {
            "colorbar": {
             "outlinewidth": 0,
             "ticks": ""
            },
            "colorscale": [
             [
              0,
              "#0d0887"
             ],
             [
              0.1111111111111111,
              "#46039f"
             ],
             [
              0.2222222222222222,
              "#7201a8"
             ],
             [
              0.3333333333333333,
              "#9c179e"
             ],
             [
              0.4444444444444444,
              "#bd3786"
             ],
             [
              0.5555555555555556,
              "#d8576b"
             ],
             [
              0.6666666666666666,
              "#ed7953"
             ],
             [
              0.7777777777777778,
              "#fb9f3a"
             ],
             [
              0.8888888888888888,
              "#fdca26"
             ],
             [
              1,
              "#f0f921"
             ]
            ],
            "type": "heatmapgl"
           }
          ],
          "histogram": [
           {
            "marker": {
             "pattern": {
              "fillmode": "overlay",
              "size": 10,
              "solidity": 0.2
             }
            },
            "type": "histogram"
           }
          ],
          "histogram2d": [
           {
            "colorbar": {
             "outlinewidth": 0,
             "ticks": ""
            },
            "colorscale": [
             [
              0,
              "#0d0887"
             ],
             [
              0.1111111111111111,
              "#46039f"
             ],
             [
              0.2222222222222222,
              "#7201a8"
             ],
             [
              0.3333333333333333,
              "#9c179e"
             ],
             [
              0.4444444444444444,
              "#bd3786"
             ],
             [
              0.5555555555555556,
              "#d8576b"
             ],
             [
              0.6666666666666666,
              "#ed7953"
             ],
             [
              0.7777777777777778,
              "#fb9f3a"
             ],
             [
              0.8888888888888888,
              "#fdca26"
             ],
             [
              1,
              "#f0f921"
             ]
            ],
            "type": "histogram2d"
           }
          ],
          "histogram2dcontour": [
           {
            "colorbar": {
             "outlinewidth": 0,
             "ticks": ""
            },
            "colorscale": [
             [
              0,
              "#0d0887"
             ],
             [
              0.1111111111111111,
              "#46039f"
             ],
             [
              0.2222222222222222,
              "#7201a8"
             ],
             [
              0.3333333333333333,
              "#9c179e"
             ],
             [
              0.4444444444444444,
              "#bd3786"
             ],
             [
              0.5555555555555556,
              "#d8576b"
             ],
             [
              0.6666666666666666,
              "#ed7953"
             ],
             [
              0.7777777777777778,
              "#fb9f3a"
             ],
             [
              0.8888888888888888,
              "#fdca26"
             ],
             [
              1,
              "#f0f921"
             ]
            ],
            "type": "histogram2dcontour"
           }
          ],
          "mesh3d": [
           {
            "colorbar": {
             "outlinewidth": 0,
             "ticks": ""
            },
            "type": "mesh3d"
           }
          ],
          "parcoords": [
           {
            "line": {
             "colorbar": {
              "outlinewidth": 0,
              "ticks": ""
             }
            },
            "type": "parcoords"
           }
          ],
          "pie": [
           {
            "automargin": true,
            "type": "pie"
           }
          ],
          "scatter": [
           {
            "marker": {
             "colorbar": {
              "outlinewidth": 0,
              "ticks": ""
             }
            },
            "type": "scatter"
           }
          ],
          "scatter3d": [
           {
            "line": {
             "colorbar": {
              "outlinewidth": 0,
              "ticks": ""
             }
            },
            "marker": {
             "colorbar": {
              "outlinewidth": 0,
              "ticks": ""
             }
            },
            "type": "scatter3d"
           }
          ],
          "scattercarpet": [
           {
            "marker": {
             "colorbar": {
              "outlinewidth": 0,
              "ticks": ""
             }
            },
            "type": "scattercarpet"
           }
          ],
          "scattergeo": [
           {
            "marker": {
             "colorbar": {
              "outlinewidth": 0,
              "ticks": ""
             }
            },
            "type": "scattergeo"
           }
          ],
          "scattergl": [
           {
            "marker": {
             "colorbar": {
              "outlinewidth": 0,
              "ticks": ""
             }
            },
            "type": "scattergl"
           }
          ],
          "scattermapbox": [
           {
            "marker": {
             "colorbar": {
              "outlinewidth": 0,
              "ticks": ""
             }
            },
            "type": "scattermapbox"
           }
          ],
          "scatterpolar": [
           {
            "marker": {
             "colorbar": {
              "outlinewidth": 0,
              "ticks": ""
             }
            },
            "type": "scatterpolar"
           }
          ],
          "scatterpolargl": [
           {
            "marker": {
             "colorbar": {
              "outlinewidth": 0,
              "ticks": ""
             }
            },
            "type": "scatterpolargl"
           }
          ],
          "scatterternary": [
           {
            "marker": {
             "colorbar": {
              "outlinewidth": 0,
              "ticks": ""
             }
            },
            "type": "scatterternary"
           }
          ],
          "surface": [
           {
            "colorbar": {
             "outlinewidth": 0,
             "ticks": ""
            },
            "colorscale": [
             [
              0,
              "#0d0887"
             ],
             [
              0.1111111111111111,
              "#46039f"
             ],
             [
              0.2222222222222222,
              "#7201a8"
             ],
             [
              0.3333333333333333,
              "#9c179e"
             ],
             [
              0.4444444444444444,
              "#bd3786"
             ],
             [
              0.5555555555555556,
              "#d8576b"
             ],
             [
              0.6666666666666666,
              "#ed7953"
             ],
             [
              0.7777777777777778,
              "#fb9f3a"
             ],
             [
              0.8888888888888888,
              "#fdca26"
             ],
             [
              1,
              "#f0f921"
             ]
            ],
            "type": "surface"
           }
          ],
          "table": [
           {
            "cells": {
             "fill": {
              "color": "#EBF0F8"
             },
             "line": {
              "color": "white"
             }
            },
            "header": {
             "fill": {
              "color": "#C8D4E3"
             },
             "line": {
              "color": "white"
             }
            },
            "type": "table"
           }
          ]
         },
         "layout": {
          "annotationdefaults": {
           "arrowcolor": "#2a3f5f",
           "arrowhead": 0,
           "arrowwidth": 1
          },
          "autotypenumbers": "strict",
          "coloraxis": {
           "colorbar": {
            "outlinewidth": 0,
            "ticks": ""
           }
          },
          "colorscale": {
           "diverging": [
            [
             0,
             "#8e0152"
            ],
            [
             0.1,
             "#c51b7d"
            ],
            [
             0.2,
             "#de77ae"
            ],
            [
             0.3,
             "#f1b6da"
            ],
            [
             0.4,
             "#fde0ef"
            ],
            [
             0.5,
             "#f7f7f7"
            ],
            [
             0.6,
             "#e6f5d0"
            ],
            [
             0.7,
             "#b8e186"
            ],
            [
             0.8,
             "#7fbc41"
            ],
            [
             0.9,
             "#4d9221"
            ],
            [
             1,
             "#276419"
            ]
           ],
           "sequential": [
            [
             0,
             "#0d0887"
            ],
            [
             0.1111111111111111,
             "#46039f"
            ],
            [
             0.2222222222222222,
             "#7201a8"
            ],
            [
             0.3333333333333333,
             "#9c179e"
            ],
            [
             0.4444444444444444,
             "#bd3786"
            ],
            [
             0.5555555555555556,
             "#d8576b"
            ],
            [
             0.6666666666666666,
             "#ed7953"
            ],
            [
             0.7777777777777778,
             "#fb9f3a"
            ],
            [
             0.8888888888888888,
             "#fdca26"
            ],
            [
             1,
             "#f0f921"
            ]
           ],
           "sequentialminus": [
            [
             0,
             "#0d0887"
            ],
            [
             0.1111111111111111,
             "#46039f"
            ],
            [
             0.2222222222222222,
             "#7201a8"
            ],
            [
             0.3333333333333333,
             "#9c179e"
            ],
            [
             0.4444444444444444,
             "#bd3786"
            ],
            [
             0.5555555555555556,
             "#d8576b"
            ],
            [
             0.6666666666666666,
             "#ed7953"
            ],
            [
             0.7777777777777778,
             "#fb9f3a"
            ],
            [
             0.8888888888888888,
             "#fdca26"
            ],
            [
             1,
             "#f0f921"
            ]
           ]
          },
          "colorway": [
           "#636efa",
           "#EF553B",
           "#00cc96",
           "#ab63fa",
           "#FFA15A",
           "#19d3f3",
           "#FF6692",
           "#B6E880",
           "#FF97FF",
           "#FECB52"
          ],
          "font": {
           "color": "#2a3f5f"
          },
          "geo": {
           "bgcolor": "white",
           "lakecolor": "white",
           "landcolor": "#E5ECF6",
           "showlakes": true,
           "showland": true,
           "subunitcolor": "white"
          },
          "hoverlabel": {
           "align": "left"
          },
          "hovermode": "closest",
          "mapbox": {
           "style": "light"
          },
          "paper_bgcolor": "white",
          "plot_bgcolor": "#E5ECF6",
          "polar": {
           "angularaxis": {
            "gridcolor": "white",
            "linecolor": "white",
            "ticks": ""
           },
           "bgcolor": "#E5ECF6",
           "radialaxis": {
            "gridcolor": "white",
            "linecolor": "white",
            "ticks": ""
           }
          },
          "scene": {
           "xaxis": {
            "backgroundcolor": "#E5ECF6",
            "gridcolor": "white",
            "gridwidth": 2,
            "linecolor": "white",
            "showbackground": true,
            "ticks": "",
            "zerolinecolor": "white"
           },
           "yaxis": {
            "backgroundcolor": "#E5ECF6",
            "gridcolor": "white",
            "gridwidth": 2,
            "linecolor": "white",
            "showbackground": true,
            "ticks": "",
            "zerolinecolor": "white"
           },
           "zaxis": {
            "backgroundcolor": "#E5ECF6",
            "gridcolor": "white",
            "gridwidth": 2,
            "linecolor": "white",
            "showbackground": true,
            "ticks": "",
            "zerolinecolor": "white"
           }
          },
          "shapedefaults": {
           "line": {
            "color": "#2a3f5f"
           }
          },
          "ternary": {
           "aaxis": {
            "gridcolor": "white",
            "linecolor": "white",
            "ticks": ""
           },
           "baxis": {
            "gridcolor": "white",
            "linecolor": "white",
            "ticks": ""
           },
           "bgcolor": "#E5ECF6",
           "caxis": {
            "gridcolor": "white",
            "linecolor": "white",
            "ticks": ""
           }
          },
          "title": {
           "x": 0.05
          },
          "xaxis": {
           "automargin": true,
           "gridcolor": "white",
           "linecolor": "white",
           "ticks": "",
           "title": {
            "standoff": 15
           },
           "zerolinecolor": "white",
           "zerolinewidth": 2
          },
          "yaxis": {
           "automargin": true,
           "gridcolor": "white",
           "linecolor": "white",
           "ticks": "",
           "title": {
            "standoff": 15
           },
           "zerolinecolor": "white",
           "zerolinewidth": 2
          }
         }
        },
        "title": {
         "text": "New Covid19 cases per week"
        },
        "xaxis": {
         "anchor": "y",
         "domain": [
          0,
          1
         ],
         "title": {
          "text": "Vecka"
         }
        },
        "yaxis": {
         "anchor": "x",
         "domain": [
          0,
          1
         ],
         "title": {
          "text": "Antal"
         },
         "type": "log"
        }
       }
      }
     },
     "metadata": {}
    }
   ],
   "metadata": {}
  },
  {
   "cell_type": "markdown",
   "source": [
    "- f) Rita linjediagram av kumulativt antal fall från 2020v6 till nu."
   ],
   "metadata": {}
  },
  {
   "cell_type": "code",
   "execution_count": 78,
   "source": [
    "# creating the figure\n",
    "fig = px.line(covid19, x=\"Vecka\", \n",
    "                        y=\"Ackumulerade antal fall\", \n",
    "                        title='Accumulated weekly new cases of Covid19', \n",
    "                        labels = {\n",
    "                            \"Ackumulerade antal fall\":\"Antal fall\"\n",
    "                        })\n",
    "fig.show()\n",
    "\n",
    "#saving the figure\n",
    "fig.write_html(\"Visualiseringar/Upp1_f_Accumulated_weekly_new_cases_of_Covid19.html\")"
   ],
   "outputs": [
    {
     "output_type": "display_data",
     "data": {
      "application/vnd.plotly.v1+json": {
       "config": {
        "plotlyServerURL": "https://plot.ly"
       },
       "data": [
        {
         "hovertemplate": "Vecka=%{x}<br>Antal fall=%{y}<extra></extra>",
         "legendgroup": "",
         "line": {
          "color": "#636efa",
          "dash": "solid"
         },
         "marker": {
          "symbol": "circle"
         },
         "mode": "lines",
         "name": "",
         "orientation": "v",
         "showlegend": false,
         "type": "scatter",
         "x": [
          "2020v6",
          "2020v7",
          "2020v8",
          "2020v9",
          "2020v10",
          "2020v11",
          "2020v12",
          "2020v13",
          "2020v14",
          "2020v15",
          "2020v16",
          "2020v17",
          "2020v18",
          "2020v19",
          "2020v20",
          "2020v21",
          "2020v22",
          "2020v23",
          "2020v24",
          "2020v25",
          "2020v26",
          "2020v27",
          "2020v28",
          "2020v29",
          "2020v30",
          "2020v31",
          "2020v32",
          "2020v33",
          "2020v34",
          "2020v35",
          "2020v36",
          "2020v37",
          "2020v38",
          "2020v39",
          "2020v40",
          "2020v41",
          "2020v42",
          "2020v43",
          "2020v44",
          "2020v45",
          "2020v46",
          "2020v47",
          "2020v48",
          "2020v49",
          "2020v50",
          "2020v51",
          "2020v52",
          "2020v53",
          "2021v1",
          "2021v2",
          "2021v3",
          "2021v4",
          "2021v5",
          "2021v6",
          "2021v7",
          "2021v8",
          "2021v9",
          "2021v10",
          "2021v11",
          "2021v12",
          "2021v13",
          "2021v14",
          "2021v15",
          "2021v16",
          "2021v17",
          "2021v18",
          "2021v19",
          "2021v20",
          "2021v21",
          "2021v22",
          "2021v23",
          "2021v24",
          "2021v25",
          "2021v26",
          "2021v27",
          "2021v28",
          "2021v29",
          "2021v30",
          "2021v31",
          "2021v32",
          "2021v33",
          "2021v34",
          "2021v35",
          "2021v36",
          "2021v37",
          "2021v38",
          "2021v39",
          "2021v40",
          "2021v41",
          "2021v42"
         ],
         "xaxis": "x",
         "y": [
          1,
          1,
          1,
          14,
          225,
          1063,
          1987,
          3944,
          7173,
          10913,
          14665,
          18868,
          22700,
          26853,
          30722,
          34381,
          38661,
          44682,
          51805,
          58878,
          66333,
          70612,
          72791,
          74413,
          75729,
          77285,
          79299,
          81351,
          83038,
          84238,
          85570,
          87162,
          89242,
          92161,
          95803,
          100081,
          105701,
          114856,
          133330,
          158735,
          190054,
          221998,
          257558,
          294395,
          338026,
          384203,
          421337,
          462660,
          502115,
          531057,
          554287,
          574947,
          594552,
          615835,
          639450,
          666140,
          693888,
          722443,
          755476,
          793357,
          831743,
          872890,
          913927,
          949959,
          985265,
          1018945,
          1044861,
          1063030,
          1071004,
          1080098,
          1084492,
          1087340,
          1089322,
          1091191,
          1092705,
          1094586,
          1097248,
          1100707,
          1105315,
          1111135,
          1117599,
          1124288,
          1131524,
          1139496,
          1145761,
          1150068,
          1154308,
          1158448,
          1162522,
          1167723
         ],
         "yaxis": "y"
        }
       ],
       "layout": {
        "legend": {
         "tracegroupgap": 0
        },
        "template": {
         "data": {
          "bar": [
           {
            "error_x": {
             "color": "#2a3f5f"
            },
            "error_y": {
             "color": "#2a3f5f"
            },
            "marker": {
             "line": {
              "color": "#E5ECF6",
              "width": 0.5
             },
             "pattern": {
              "fillmode": "overlay",
              "size": 10,
              "solidity": 0.2
             }
            },
            "type": "bar"
           }
          ],
          "barpolar": [
           {
            "marker": {
             "line": {
              "color": "#E5ECF6",
              "width": 0.5
             },
             "pattern": {
              "fillmode": "overlay",
              "size": 10,
              "solidity": 0.2
             }
            },
            "type": "barpolar"
           }
          ],
          "carpet": [
           {
            "aaxis": {
             "endlinecolor": "#2a3f5f",
             "gridcolor": "white",
             "linecolor": "white",
             "minorgridcolor": "white",
             "startlinecolor": "#2a3f5f"
            },
            "baxis": {
             "endlinecolor": "#2a3f5f",
             "gridcolor": "white",
             "linecolor": "white",
             "minorgridcolor": "white",
             "startlinecolor": "#2a3f5f"
            },
            "type": "carpet"
           }
          ],
          "choropleth": [
           {
            "colorbar": {
             "outlinewidth": 0,
             "ticks": ""
            },
            "type": "choropleth"
           }
          ],
          "contour": [
           {
            "colorbar": {
             "outlinewidth": 0,
             "ticks": ""
            },
            "colorscale": [
             [
              0,
              "#0d0887"
             ],
             [
              0.1111111111111111,
              "#46039f"
             ],
             [
              0.2222222222222222,
              "#7201a8"
             ],
             [
              0.3333333333333333,
              "#9c179e"
             ],
             [
              0.4444444444444444,
              "#bd3786"
             ],
             [
              0.5555555555555556,
              "#d8576b"
             ],
             [
              0.6666666666666666,
              "#ed7953"
             ],
             [
              0.7777777777777778,
              "#fb9f3a"
             ],
             [
              0.8888888888888888,
              "#fdca26"
             ],
             [
              1,
              "#f0f921"
             ]
            ],
            "type": "contour"
           }
          ],
          "contourcarpet": [
           {
            "colorbar": {
             "outlinewidth": 0,
             "ticks": ""
            },
            "type": "contourcarpet"
           }
          ],
          "heatmap": [
           {
            "colorbar": {
             "outlinewidth": 0,
             "ticks": ""
            },
            "colorscale": [
             [
              0,
              "#0d0887"
             ],
             [
              0.1111111111111111,
              "#46039f"
             ],
             [
              0.2222222222222222,
              "#7201a8"
             ],
             [
              0.3333333333333333,
              "#9c179e"
             ],
             [
              0.4444444444444444,
              "#bd3786"
             ],
             [
              0.5555555555555556,
              "#d8576b"
             ],
             [
              0.6666666666666666,
              "#ed7953"
             ],
             [
              0.7777777777777778,
              "#fb9f3a"
             ],
             [
              0.8888888888888888,
              "#fdca26"
             ],
             [
              1,
              "#f0f921"
             ]
            ],
            "type": "heatmap"
           }
          ],
          "heatmapgl": [
           {
            "colorbar": {
             "outlinewidth": 0,
             "ticks": ""
            },
            "colorscale": [
             [
              0,
              "#0d0887"
             ],
             [
              0.1111111111111111,
              "#46039f"
             ],
             [
              0.2222222222222222,
              "#7201a8"
             ],
             [
              0.3333333333333333,
              "#9c179e"
             ],
             [
              0.4444444444444444,
              "#bd3786"
             ],
             [
              0.5555555555555556,
              "#d8576b"
             ],
             [
              0.6666666666666666,
              "#ed7953"
             ],
             [
              0.7777777777777778,
              "#fb9f3a"
             ],
             [
              0.8888888888888888,
              "#fdca26"
             ],
             [
              1,
              "#f0f921"
             ]
            ],
            "type": "heatmapgl"
           }
          ],
          "histogram": [
           {
            "marker": {
             "pattern": {
              "fillmode": "overlay",
              "size": 10,
              "solidity": 0.2
             }
            },
            "type": "histogram"
           }
          ],
          "histogram2d": [
           {
            "colorbar": {
             "outlinewidth": 0,
             "ticks": ""
            },
            "colorscale": [
             [
              0,
              "#0d0887"
             ],
             [
              0.1111111111111111,
              "#46039f"
             ],
             [
              0.2222222222222222,
              "#7201a8"
             ],
             [
              0.3333333333333333,
              "#9c179e"
             ],
             [
              0.4444444444444444,
              "#bd3786"
             ],
             [
              0.5555555555555556,
              "#d8576b"
             ],
             [
              0.6666666666666666,
              "#ed7953"
             ],
             [
              0.7777777777777778,
              "#fb9f3a"
             ],
             [
              0.8888888888888888,
              "#fdca26"
             ],
             [
              1,
              "#f0f921"
             ]
            ],
            "type": "histogram2d"
           }
          ],
          "histogram2dcontour": [
           {
            "colorbar": {
             "outlinewidth": 0,
             "ticks": ""
            },
            "colorscale": [
             [
              0,
              "#0d0887"
             ],
             [
              0.1111111111111111,
              "#46039f"
             ],
             [
              0.2222222222222222,
              "#7201a8"
             ],
             [
              0.3333333333333333,
              "#9c179e"
             ],
             [
              0.4444444444444444,
              "#bd3786"
             ],
             [
              0.5555555555555556,
              "#d8576b"
             ],
             [
              0.6666666666666666,
              "#ed7953"
             ],
             [
              0.7777777777777778,
              "#fb9f3a"
             ],
             [
              0.8888888888888888,
              "#fdca26"
             ],
             [
              1,
              "#f0f921"
             ]
            ],
            "type": "histogram2dcontour"
           }
          ],
          "mesh3d": [
           {
            "colorbar": {
             "outlinewidth": 0,
             "ticks": ""
            },
            "type": "mesh3d"
           }
          ],
          "parcoords": [
           {
            "line": {
             "colorbar": {
              "outlinewidth": 0,
              "ticks": ""
             }
            },
            "type": "parcoords"
           }
          ],
          "pie": [
           {
            "automargin": true,
            "type": "pie"
           }
          ],
          "scatter": [
           {
            "marker": {
             "colorbar": {
              "outlinewidth": 0,
              "ticks": ""
             }
            },
            "type": "scatter"
           }
          ],
          "scatter3d": [
           {
            "line": {
             "colorbar": {
              "outlinewidth": 0,
              "ticks": ""
             }
            },
            "marker": {
             "colorbar": {
              "outlinewidth": 0,
              "ticks": ""
             }
            },
            "type": "scatter3d"
           }
          ],
          "scattercarpet": [
           {
            "marker": {
             "colorbar": {
              "outlinewidth": 0,
              "ticks": ""
             }
            },
            "type": "scattercarpet"
           }
          ],
          "scattergeo": [
           {
            "marker": {
             "colorbar": {
              "outlinewidth": 0,
              "ticks": ""
             }
            },
            "type": "scattergeo"
           }
          ],
          "scattergl": [
           {
            "marker": {
             "colorbar": {
              "outlinewidth": 0,
              "ticks": ""
             }
            },
            "type": "scattergl"
           }
          ],
          "scattermapbox": [
           {
            "marker": {
             "colorbar": {
              "outlinewidth": 0,
              "ticks": ""
             }
            },
            "type": "scattermapbox"
           }
          ],
          "scatterpolar": [
           {
            "marker": {
             "colorbar": {
              "outlinewidth": 0,
              "ticks": ""
             }
            },
            "type": "scatterpolar"
           }
          ],
          "scatterpolargl": [
           {
            "marker": {
             "colorbar": {
              "outlinewidth": 0,
              "ticks": ""
             }
            },
            "type": "scatterpolargl"
           }
          ],
          "scatterternary": [
           {
            "marker": {
             "colorbar": {
              "outlinewidth": 0,
              "ticks": ""
             }
            },
            "type": "scatterternary"
           }
          ],
          "surface": [
           {
            "colorbar": {
             "outlinewidth": 0,
             "ticks": ""
            },
            "colorscale": [
             [
              0,
              "#0d0887"
             ],
             [
              0.1111111111111111,
              "#46039f"
             ],
             [
              0.2222222222222222,
              "#7201a8"
             ],
             [
              0.3333333333333333,
              "#9c179e"
             ],
             [
              0.4444444444444444,
              "#bd3786"
             ],
             [
              0.5555555555555556,
              "#d8576b"
             ],
             [
              0.6666666666666666,
              "#ed7953"
             ],
             [
              0.7777777777777778,
              "#fb9f3a"
             ],
             [
              0.8888888888888888,
              "#fdca26"
             ],
             [
              1,
              "#f0f921"
             ]
            ],
            "type": "surface"
           }
          ],
          "table": [
           {
            "cells": {
             "fill": {
              "color": "#EBF0F8"
             },
             "line": {
              "color": "white"
             }
            },
            "header": {
             "fill": {
              "color": "#C8D4E3"
             },
             "line": {
              "color": "white"
             }
            },
            "type": "table"
           }
          ]
         },
         "layout": {
          "annotationdefaults": {
           "arrowcolor": "#2a3f5f",
           "arrowhead": 0,
           "arrowwidth": 1
          },
          "autotypenumbers": "strict",
          "coloraxis": {
           "colorbar": {
            "outlinewidth": 0,
            "ticks": ""
           }
          },
          "colorscale": {
           "diverging": [
            [
             0,
             "#8e0152"
            ],
            [
             0.1,
             "#c51b7d"
            ],
            [
             0.2,
             "#de77ae"
            ],
            [
             0.3,
             "#f1b6da"
            ],
            [
             0.4,
             "#fde0ef"
            ],
            [
             0.5,
             "#f7f7f7"
            ],
            [
             0.6,
             "#e6f5d0"
            ],
            [
             0.7,
             "#b8e186"
            ],
            [
             0.8,
             "#7fbc41"
            ],
            [
             0.9,
             "#4d9221"
            ],
            [
             1,
             "#276419"
            ]
           ],
           "sequential": [
            [
             0,
             "#0d0887"
            ],
            [
             0.1111111111111111,
             "#46039f"
            ],
            [
             0.2222222222222222,
             "#7201a8"
            ],
            [
             0.3333333333333333,
             "#9c179e"
            ],
            [
             0.4444444444444444,
             "#bd3786"
            ],
            [
             0.5555555555555556,
             "#d8576b"
            ],
            [
             0.6666666666666666,
             "#ed7953"
            ],
            [
             0.7777777777777778,
             "#fb9f3a"
            ],
            [
             0.8888888888888888,
             "#fdca26"
            ],
            [
             1,
             "#f0f921"
            ]
           ],
           "sequentialminus": [
            [
             0,
             "#0d0887"
            ],
            [
             0.1111111111111111,
             "#46039f"
            ],
            [
             0.2222222222222222,
             "#7201a8"
            ],
            [
             0.3333333333333333,
             "#9c179e"
            ],
            [
             0.4444444444444444,
             "#bd3786"
            ],
            [
             0.5555555555555556,
             "#d8576b"
            ],
            [
             0.6666666666666666,
             "#ed7953"
            ],
            [
             0.7777777777777778,
             "#fb9f3a"
            ],
            [
             0.8888888888888888,
             "#fdca26"
            ],
            [
             1,
             "#f0f921"
            ]
           ]
          },
          "colorway": [
           "#636efa",
           "#EF553B",
           "#00cc96",
           "#ab63fa",
           "#FFA15A",
           "#19d3f3",
           "#FF6692",
           "#B6E880",
           "#FF97FF",
           "#FECB52"
          ],
          "font": {
           "color": "#2a3f5f"
          },
          "geo": {
           "bgcolor": "white",
           "lakecolor": "white",
           "landcolor": "#E5ECF6",
           "showlakes": true,
           "showland": true,
           "subunitcolor": "white"
          },
          "hoverlabel": {
           "align": "left"
          },
          "hovermode": "closest",
          "mapbox": {
           "style": "light"
          },
          "paper_bgcolor": "white",
          "plot_bgcolor": "#E5ECF6",
          "polar": {
           "angularaxis": {
            "gridcolor": "white",
            "linecolor": "white",
            "ticks": ""
           },
           "bgcolor": "#E5ECF6",
           "radialaxis": {
            "gridcolor": "white",
            "linecolor": "white",
            "ticks": ""
           }
          },
          "scene": {
           "xaxis": {
            "backgroundcolor": "#E5ECF6",
            "gridcolor": "white",
            "gridwidth": 2,
            "linecolor": "white",
            "showbackground": true,
            "ticks": "",
            "zerolinecolor": "white"
           },
           "yaxis": {
            "backgroundcolor": "#E5ECF6",
            "gridcolor": "white",
            "gridwidth": 2,
            "linecolor": "white",
            "showbackground": true,
            "ticks": "",
            "zerolinecolor": "white"
           },
           "zaxis": {
            "backgroundcolor": "#E5ECF6",
            "gridcolor": "white",
            "gridwidth": 2,
            "linecolor": "white",
            "showbackground": true,
            "ticks": "",
            "zerolinecolor": "white"
           }
          },
          "shapedefaults": {
           "line": {
            "color": "#2a3f5f"
           }
          },
          "ternary": {
           "aaxis": {
            "gridcolor": "white",
            "linecolor": "white",
            "ticks": ""
           },
           "baxis": {
            "gridcolor": "white",
            "linecolor": "white",
            "ticks": ""
           },
           "bgcolor": "#E5ECF6",
           "caxis": {
            "gridcolor": "white",
            "linecolor": "white",
            "ticks": ""
           }
          },
          "title": {
           "x": 0.05
          },
          "xaxis": {
           "automargin": true,
           "gridcolor": "white",
           "linecolor": "white",
           "ticks": "",
           "title": {
            "standoff": 15
           },
           "zerolinecolor": "white",
           "zerolinewidth": 2
          },
          "yaxis": {
           "automargin": true,
           "gridcolor": "white",
           "linecolor": "white",
           "ticks": "",
           "title": {
            "standoff": 15
           },
           "zerolinecolor": "white",
           "zerolinewidth": 2
          }
         }
        },
        "title": {
         "text": "Accumulated weekly new cases of Covid19"
        },
        "xaxis": {
         "anchor": "y",
         "domain": [
          0,
          1
         ],
         "title": {
          "text": "Vecka"
         }
        },
        "yaxis": {
         "anchor": "x",
         "domain": [
          0,
          1
         ],
         "title": {
          "text": "Antal fall"
         }
        }
       }
      }
     },
     "metadata": {}
    }
   ],
   "metadata": {}
  },
  {
   "cell_type": "code",
   "execution_count": 79,
   "source": [
    "# drawing everything with seaborn\n",
    "\n",
    "#creating the subplots and setting the figure sizes\n",
    "fig, ax = plt.subplots(2,2 , figsize=(20,20))\n",
    "fig.set_facecolor(\"white\")\n",
    "\n",
    "#looping through the axes and changing the plot parameters\n",
    "for i in [0,1]:\n",
    "    for j in [0,1]:\n",
    "        #chosing the show only every 10th value of the x axis values to avoid unreadable data\n",
    "        ax[i][j].set_xticks(list(range(0,len(covid19[\"Vecka\"]),10)))\n",
    "        # tilting the tick values by 45 degrees\n",
    "        ax[i][j].tick_params(rotation=45)\n",
    "        #setting a gray grid\n",
    "        ax[i][j].grid(color=\"gray\")\n",
    "\n",
    "# plotting out all the axes using seaborn\n",
    "sns.lineplot(ax=ax[0,0], data =covid19 , x=\"Vecka\", y=\"Antal avlidna per vecka\")\n",
    "sns.lineplot(ax=ax[0,1], data =covid19 , x=\"Vecka\", y=\"Antal fall per vecka\")\n",
    "#for the next plot it's hard to see the difference between both lines, that's why we will make them logarithmic instead of linear\n",
    "sns.lineplot(ax=ax[1,0], data =covid19[[\"Vecka\",\"Antal avlidna per vecka\",\"Antal fall per vecka\"]].set_index(\"Vecka\",drop=True)).set_yscale(\"log\")\n",
    "sns.lineplot(ax=ax[1,1], data =covid19 , x=\"Vecka\", y=\"Ackumulerade antal fall\")\n",
    "\n",
    "# saving the figure as a png\n",
    "fig.savefig(\"Visualiseringar/Upp1_c_to_f_all_graphs_sns.png\")\n"
   ],
   "outputs": [
    {
     "output_type": "display_data",
     "data": {
      "image/png": "[encoded data removed]",
      "text/plain": [
       "<Figure size 1440x1440 with 4 Axes>"
      ]
     },
     "metadata": {}
    }
   ],
   "metadata": {}
  },
  {
   "cell_type": "markdown",
   "source": [
    "# Uppgift 2 - uppvärmning vaccindata\n",
    "I uppgifterna nedan ska du använda dig av datasetet vaccin och bladet Vaccinerade kommun och ålder. Använd Plotly express för att rita diagrammen nedan för de uppgifter som kräver diagram. Använd Pandas för att svara på frågor om datasetet.\n",
    "- a) Hur många län finns representerade i datasetet?"
   ],
   "metadata": {}
  },
  {
   "cell_type": "code",
   "execution_count": 80,
   "source": [
    "# read in the excel sheet with pandas\n",
    "vaccin = pd.read_excel(covid19_vaccine_file_path,sheet_name=\"Vaccinerade kommun och ålder\")\n",
    "\n",
    "# how many regions there is in the dataset\n",
    "print(f\" Det finns {vaccin['Län_namn'].unique().__len__()} län i datasetet\")"
   ],
   "outputs": [
    {
     "output_type": "stream",
     "name": "stdout",
     "text": [
      " Det finns 21 län i datasetet\n"
     ]
    }
   ],
   "metadata": {}
  },
  {
   "cell_type": "markdown",
   "source": [
    "- b) Hur många kommuner finns representerade i datasetet?"
   ],
   "metadata": {}
  },
  {
   "cell_type": "code",
   "execution_count": 81,
   "source": [
    "antal_kommuner = vaccin['Kommun_namn'].unique().__len__()\n",
    "\n",
    "print(f\" Det finns {antal_kommuner} kommuner i datasetet\")"
   ],
   "outputs": [
    {
     "output_type": "stream",
     "name": "stdout",
     "text": [
      " Det finns 290 kommuner i datasetet\n"
     ]
    }
   ],
   "metadata": {}
  },
  {
   "cell_type": "markdown",
   "source": [
    "- c) Hur stor är befolkningen som är representerad i datasetet?"
   ],
   "metadata": {}
  },
  {
   "cell_type": "code",
   "execution_count": 82,
   "source": [
    "befolkningen = vaccin[\"Befolkning\"].sum()\n",
    "\n",
    "print(f\"Det är en befolkning av {befolkningen} personer\")"
   ],
   "outputs": [
    {
     "output_type": "stream",
     "name": "stdout",
     "text": [
      "Det är en befolkning av 8541497 personer\n"
     ]
    }
   ],
   "metadata": {}
  },
  {
   "cell_type": "markdown",
   "source": [
    "- d) Beräkna hur många barn under 16 år det finns i Sverige. Du får leta upp statistik på hur stor totala befolkningen är i Sverige."
   ],
   "metadata": {}
  },
  {
   "cell_type": "code",
   "execution_count": 83,
   "source": [
    "sweden_pop = 10409248 \n",
    "\n",
    "print(f\"Det finns {sweden_pop - befolkningen} barn under 16 år i Sverige\")"
   ],
   "outputs": [
    {
     "output_type": "stream",
     "name": "stdout",
     "text": [
      "Det finns 1867751 barn under 16 år i Sverige\n"
     ]
    }
   ],
   "metadata": {}
  },
  {
   "cell_type": "markdown",
   "source": [
    "- e) Rita stapeldiagram för andel med minst 1 dos per län och andel färdigvaccinerade per län"
   ],
   "metadata": {}
  },
  {
   "cell_type": "code",
   "execution_count": 84,
   "source": [
    "# the data available is percentage for each \"kommun\"\n",
    "# we need to create new data for each \"län\"\n",
    "\n",
    "# creating a copy of the vaccin frame \n",
    "vaccin_by_region = vaccin.copy()\n",
    "\n",
    "# picking the necessary columns\n",
    "vaccin_by_region = vaccin_by_region[[\"Län_namn\",\"Befolkning\",\"Antal minst 1 dos\",\"Antal färdigvaccinerade\"]]\n",
    "\n",
    "# grouping the data for every region by summing the values of population and number of people who took the vaccination\n",
    "vaccin_by_region = vaccin_by_region.groupby([\"Län_namn\"]).sum()\n",
    "\n",
    "# creating 2 new columns for percentage of people who took 1st and 2nd dose for each region\n",
    "vaccin_by_region[\"Andel minst 1 dos\"] = vaccin_by_region[\"Antal minst 1 dos\"] * 100 / vaccin_by_region[\"Befolkning\"]\n",
    "vaccin_by_region[\"Andel färdigvaccinerade\"] = vaccin_by_region[\"Antal färdigvaccinerade\"] * 100 / vaccin_by_region[\"Befolkning\"]\n",
    "\n",
    "# creating plotly express figure and plotting it out\n",
    "fig = px.histogram(data_frame=vaccin_by_region,\n",
    "                    x=vaccin_by_region.index,\n",
    "                    y=[\"Andel minst 1 dos\",\"Andel färdigvaccinerade\"], \n",
    "                    labels={\"variable\":\"Variable\",\n",
    "                            \"Län_namn\":\"Län\",\n",
    "                            \"sum of value\":\"Antal personer\"\n",
    "                            },\n",
    "                    barmode = \"group\", # change the barmode to group because we don't want to stack the bars\n",
    "                    title = \"Percentage of the people who took the 1st dose and the ones who took the 2nd dose\")\n",
    "\n",
    "fig.update_layout(yaxis_title=\"Andel %\")\n",
    "fig.show()\n",
    "\n",
    "# saving the figure as a html file\n",
    "fig.write_html(\"Visualiseringar/Upp2_e_Percentage_of_the_people_who_took_the_1st_dose_and_the_ones_who_took_the_2nd_dose.html\")\n",
    "\n"
   ],
   "outputs": [
    {
     "output_type": "display_data",
     "data": {
      "application/vnd.plotly.v1+json": {
       "config": {
        "plotlyServerURL": "https://plot.ly"
       },
       "data": [
        {
         "alignmentgroup": "True",
         "bingroup": "x",
         "histfunc": "sum",
         "hovertemplate": "Variable=Andel minst 1 dos<br>Län=%{x}<br>sum of value=%{y}<extra></extra>",
         "legendgroup": "Andel minst 1 dos",
         "marker": {
          "color": "#636efa",
          "pattern": {
           "shape": ""
          }
         },
         "name": "Andel minst 1 dos",
         "offsetgroup": "Andel minst 1 dos",
         "orientation": "v",
         "showlegend": true,
         "type": "histogram",
         "x": [
          "Blekinge",
          "Dalarna",
          "Gotland",
          "Gävleborg",
          "Halland",
          "Jämtland",
          "Jönköping",
          "Kalmar",
          "Kronoberg",
          "Norrbotten",
          "Skåne",
          "Stockholm",
          "Södermanland",
          "Uppsala",
          "Värmland",
          "Västerbotten",
          "Västernorrland",
          "Västmanland",
          "Västra Götaland",
          "Örebro",
          "Östergötland"
         ],
         "xaxis": "x",
         "y": [
          86.77064538776867,
          87.01699313577767,
          90.83420167902011,
          85.90229012726635,
          86.9431554524362,
          87.69652969629107,
          85.03573620609276,
          87.05335613135166,
          83.88599500275272,
          89.54572796726173,
          81.53172215804463,
          81.46270165113316,
          85.8247401637805,
          89.11209144903896,
          89.85697686701172,
          90.94323009531357,
          88.1288248869377,
          84.67934739773533,
          84.09116998966842,
          86.26540205267989,
          87.36171491639419
         ],
         "yaxis": "y"
        },
        {
         "alignmentgroup": "True",
         "bingroup": "x",
         "histfunc": "sum",
         "hovertemplate": "Variable=Andel färdigvaccinerade<br>Län=%{x}<br>sum of value=%{y}<extra></extra>",
         "legendgroup": "Andel färdigvaccinerade",
         "marker": {
          "color": "#EF553B",
          "pattern": {
           "shape": ""
          }
         },
         "name": "Andel färdigvaccinerade",
         "offsetgroup": "Andel färdigvaccinerade",
         "orientation": "v",
         "showlegend": true,
         "type": "histogram",
         "x": [
          "Blekinge",
          "Dalarna",
          "Gotland",
          "Gävleborg",
          "Halland",
          "Jämtland",
          "Jönköping",
          "Kalmar",
          "Kronoberg",
          "Norrbotten",
          "Skåne",
          "Stockholm",
          "Södermanland",
          "Uppsala",
          "Värmland",
          "Västerbotten",
          "Västernorrland",
          "Västmanland",
          "Västra Götaland",
          "Örebro",
          "Östergötland"
         ],
         "xaxis": "x",
         "y": [
          84.05215041181312,
          83.70082035827892,
          87.7396142579085,
          81.56430870848831,
          84.40799013921114,
          83.76639468394629,
          81.1790432557344,
          83.94493401727388,
          79.93962163699173,
          85.32982205192086,
          77.70549611429848,
          75.57488317840827,
          81.71838897461647,
          85.61011424867952,
          87.79507763811134,
          87.09942987959234,
          85.96900402271535,
          80.82608657576475,
          78.61731675425654,
          83.16651501364878,
          84.73747208390115
         ],
         "yaxis": "y"
        }
       ],
       "layout": {
        "barmode": "group",
        "legend": {
         "title": {
          "text": "Variable"
         },
         "tracegroupgap": 0
        },
        "template": {
         "data": {
          "bar": [
           {
            "error_x": {
             "color": "#2a3f5f"
            },
            "error_y": {
             "color": "#2a3f5f"
            },
            "marker": {
             "line": {
              "color": "#E5ECF6",
              "width": 0.5
             },
             "pattern": {
              "fillmode": "overlay",
              "size": 10,
              "solidity": 0.2
             }
            },
            "type": "bar"
           }
          ],
          "barpolar": [
           {
            "marker": {
             "line": {
              "color": "#E5ECF6",
              "width": 0.5
             },
             "pattern": {
              "fillmode": "overlay",
              "size": 10,
              "solidity": 0.2
             }
            },
            "type": "barpolar"
           }
          ],
          "carpet": [
           {
            "aaxis": {
             "endlinecolor": "#2a3f5f",
             "gridcolor": "white",
             "linecolor": "white",
             "minorgridcolor": "white",
             "startlinecolor": "#2a3f5f"
            },
            "baxis": {
             "endlinecolor": "#2a3f5f",
             "gridcolor": "white",
             "linecolor": "white",
             "minorgridcolor": "white",
             "startlinecolor": "#2a3f5f"
            },
            "type": "carpet"
           }
          ],
          "choropleth": [
           {
            "colorbar": {
             "outlinewidth": 0,
             "ticks": ""
            },
            "type": "choropleth"
           }
          ],
          "contour": [
           {
            "colorbar": {
             "outlinewidth": 0,
             "ticks": ""
            },
            "colorscale": [
             [
              0,
              "#0d0887"
             ],
             [
              0.1111111111111111,
              "#46039f"
             ],
             [
              0.2222222222222222,
              "#7201a8"
             ],
             [
              0.3333333333333333,
              "#9c179e"
             ],
             [
              0.4444444444444444,
              "#bd3786"
             ],
             [
              0.5555555555555556,
              "#d8576b"
             ],
             [
              0.6666666666666666,
              "#ed7953"
             ],
             [
              0.7777777777777778,
              "#fb9f3a"
             ],
             [
              0.8888888888888888,
              "#fdca26"
             ],
             [
              1,
              "#f0f921"
             ]
            ],
            "type": "contour"
           }
          ],
          "contourcarpet": [
           {
            "colorbar": {
             "outlinewidth": 0,
             "ticks": ""
            },
            "type": "contourcarpet"
           }
          ],
          "heatmap": [
           {
            "colorbar": {
             "outlinewidth": 0,
             "ticks": ""
            },
            "colorscale": [
             [
              0,
              "#0d0887"
             ],
             [
              0.1111111111111111,
              "#46039f"
             ],
             [
              0.2222222222222222,
              "#7201a8"
             ],
             [
              0.3333333333333333,
              "#9c179e"
             ],
             [
              0.4444444444444444,
              "#bd3786"
             ],
             [
              0.5555555555555556,
              "#d8576b"
             ],
             [
              0.6666666666666666,
              "#ed7953"
             ],
             [
              0.7777777777777778,
              "#fb9f3a"
             ],
             [
              0.8888888888888888,
              "#fdca26"
             ],
             [
              1,
              "#f0f921"
             ]
            ],
            "type": "heatmap"
           }
          ],
          "heatmapgl": [
           {
            "colorbar": {
             "outlinewidth": 0,
             "ticks": ""
            },
            "colorscale": [
             [
              0,
              "#0d0887"
             ],
             [
              0.1111111111111111,
              "#46039f"
             ],
             [
              0.2222222222222222,
              "#7201a8"
             ],
             [
              0.3333333333333333,
              "#9c179e"
             ],
             [
              0.4444444444444444,
              "#bd3786"
             ],
             [
              0.5555555555555556,
              "#d8576b"
             ],
             [
              0.6666666666666666,
              "#ed7953"
             ],
             [
              0.7777777777777778,
              "#fb9f3a"
             ],
             [
              0.8888888888888888,
              "#fdca26"
             ],
             [
              1,
              "#f0f921"
             ]
            ],
            "type": "heatmapgl"
           }
          ],
          "histogram": [
           {
            "marker": {
             "pattern": {
              "fillmode": "overlay",
              "size": 10,
              "solidity": 0.2
             }
            },
            "type": "histogram"
           }
          ],
          "histogram2d": [
           {
            "colorbar": {
             "outlinewidth": 0,
             "ticks": ""
            },
            "colorscale": [
             [
              0,
              "#0d0887"
             ],
             [
              0.1111111111111111,
              "#46039f"
             ],
             [
              0.2222222222222222,
              "#7201a8"
             ],
             [
              0.3333333333333333,
              "#9c179e"
             ],
             [
              0.4444444444444444,
              "#bd3786"
             ],
             [
              0.5555555555555556,
              "#d8576b"
             ],
             [
              0.6666666666666666,
              "#ed7953"
             ],
             [
              0.7777777777777778,
              "#fb9f3a"
             ],
             [
              0.8888888888888888,
              "#fdca26"
             ],
             [
              1,
              "#f0f921"
             ]
            ],
            "type": "histogram2d"
           }
          ],
          "histogram2dcontour": [
           {
            "colorbar": {
             "outlinewidth": 0,
             "ticks": ""
            },
            "colorscale": [
             [
              0,
              "#0d0887"
             ],
             [
              0.1111111111111111,
              "#46039f"
             ],
             [
              0.2222222222222222,
              "#7201a8"
             ],
             [
              0.3333333333333333,
              "#9c179e"
             ],
             [
              0.4444444444444444,
              "#bd3786"
             ],
             [
              0.5555555555555556,
              "#d8576b"
             ],
             [
              0.6666666666666666,
              "#ed7953"
             ],
             [
              0.7777777777777778,
              "#fb9f3a"
             ],
             [
              0.8888888888888888,
              "#fdca26"
             ],
             [
              1,
              "#f0f921"
             ]
            ],
            "type": "histogram2dcontour"
           }
          ],
          "mesh3d": [
           {
            "colorbar": {
             "outlinewidth": 0,
             "ticks": ""
            },
            "type": "mesh3d"
           }
          ],
          "parcoords": [
           {
            "line": {
             "colorbar": {
              "outlinewidth": 0,
              "ticks": ""
             }
            },
            "type": "parcoords"
           }
          ],
          "pie": [
           {
            "automargin": true,
            "type": "pie"
           }
          ],
          "scatter": [
           {
            "marker": {
             "colorbar": {
              "outlinewidth": 0,
              "ticks": ""
             }
            },
            "type": "scatter"
           }
          ],
          "scatter3d": [
           {
            "line": {
             "colorbar": {
              "outlinewidth": 0,
              "ticks": ""
             }
            },
            "marker": {
             "colorbar": {
              "outlinewidth": 0,
              "ticks": ""
             }
            },
            "type": "scatter3d"
           }
          ],
          "scattercarpet": [
           {
            "marker": {
             "colorbar": {
              "outlinewidth": 0,
              "ticks": ""
             }
            },
            "type": "scattercarpet"
           }
          ],
          "scattergeo": [
           {
            "marker": {
             "colorbar": {
              "outlinewidth": 0,
              "ticks": ""
             }
            },
            "type": "scattergeo"
           }
          ],
          "scattergl": [
           {
            "marker": {
             "colorbar": {
              "outlinewidth": 0,
              "ticks": ""
             }
            },
            "type": "scattergl"
           }
          ],
          "scattermapbox": [
           {
            "marker": {
             "colorbar": {
              "outlinewidth": 0,
              "ticks": ""
             }
            },
            "type": "scattermapbox"
           }
          ],
          "scatterpolar": [
           {
            "marker": {
             "colorbar": {
              "outlinewidth": 0,
              "ticks": ""
             }
            },
            "type": "scatterpolar"
           }
          ],
          "scatterpolargl": [
           {
            "marker": {
             "colorbar": {
              "outlinewidth": 0,
              "ticks": ""
             }
            },
            "type": "scatterpolargl"
           }
          ],
          "scatterternary": [
           {
            "marker": {
             "colorbar": {
              "outlinewidth": 0,
              "ticks": ""
             }
            },
            "type": "scatterternary"
           }
          ],
          "surface": [
           {
            "colorbar": {
             "outlinewidth": 0,
             "ticks": ""
            },
            "colorscale": [
             [
              0,
              "#0d0887"
             ],
             [
              0.1111111111111111,
              "#46039f"
             ],
             [
              0.2222222222222222,
              "#7201a8"
             ],
             [
              0.3333333333333333,
              "#9c179e"
             ],
             [
              0.4444444444444444,
              "#bd3786"
             ],
             [
              0.5555555555555556,
              "#d8576b"
             ],
             [
              0.6666666666666666,
              "#ed7953"
             ],
             [
              0.7777777777777778,
              "#fb9f3a"
             ],
             [
              0.8888888888888888,
              "#fdca26"
             ],
             [
              1,
              "#f0f921"
             ]
            ],
            "type": "surface"
           }
          ],
          "table": [
           {
            "cells": {
             "fill": {
              "color": "#EBF0F8"
             },
             "line": {
              "color": "white"
             }
            },
            "header": {
             "fill": {
              "color": "#C8D4E3"
             },
             "line": {
              "color": "white"
             }
            },
            "type": "table"
           }
          ]
         },
         "layout": {
          "annotationdefaults": {
           "arrowcolor": "#2a3f5f",
           "arrowhead": 0,
           "arrowwidth": 1
          },
          "autotypenumbers": "strict",
          "coloraxis": {
           "colorbar": {
            "outlinewidth": 0,
            "ticks": ""
           }
          },
          "colorscale": {
           "diverging": [
            [
             0,
             "#8e0152"
            ],
            [
             0.1,
             "#c51b7d"
            ],
            [
             0.2,
             "#de77ae"
            ],
            [
             0.3,
             "#f1b6da"
            ],
            [
             0.4,
             "#fde0ef"
            ],
            [
             0.5,
             "#f7f7f7"
            ],
            [
             0.6,
             "#e6f5d0"
            ],
            [
             0.7,
             "#b8e186"
            ],
            [
             0.8,
             "#7fbc41"
            ],
            [
             0.9,
             "#4d9221"
            ],
            [
             1,
             "#276419"
            ]
           ],
           "sequential": [
            [
             0,
             "#0d0887"
            ],
            [
             0.1111111111111111,
             "#46039f"
            ],
            [
             0.2222222222222222,
             "#7201a8"
            ],
            [
             0.3333333333333333,
             "#9c179e"
            ],
            [
             0.4444444444444444,
             "#bd3786"
            ],
            [
             0.5555555555555556,
             "#d8576b"
            ],
            [
             0.6666666666666666,
             "#ed7953"
            ],
            [
             0.7777777777777778,
             "#fb9f3a"
            ],
            [
             0.8888888888888888,
             "#fdca26"
            ],
            [
             1,
             "#f0f921"
            ]
           ],
           "sequentialminus": [
            [
             0,
             "#0d0887"
            ],
            [
             0.1111111111111111,
             "#46039f"
            ],
            [
             0.2222222222222222,
             "#7201a8"
            ],
            [
             0.3333333333333333,
             "#9c179e"
            ],
            [
             0.4444444444444444,
             "#bd3786"
            ],
            [
             0.5555555555555556,
             "#d8576b"
            ],
            [
             0.6666666666666666,
             "#ed7953"
            ],
            [
             0.7777777777777778,
             "#fb9f3a"
            ],
            [
             0.8888888888888888,
             "#fdca26"
            ],
            [
             1,
             "#f0f921"
            ]
           ]
          },
          "colorway": [
           "#636efa",
           "#EF553B",
           "#00cc96",
           "#ab63fa",
           "#FFA15A",
           "#19d3f3",
           "#FF6692",
           "#B6E880",
           "#FF97FF",
           "#FECB52"
          ],
          "font": {
           "color": "#2a3f5f"
          },
          "geo": {
           "bgcolor": "white",
           "lakecolor": "white",
           "landcolor": "#E5ECF6",
           "showlakes": true,
           "showland": true,
           "subunitcolor": "white"
          },
          "hoverlabel": {
           "align": "left"
          },
          "hovermode": "closest",
          "mapbox": {
           "style": "light"
          },
          "paper_bgcolor": "white",
          "plot_bgcolor": "#E5ECF6",
          "polar": {
           "angularaxis": {
            "gridcolor": "white",
            "linecolor": "white",
            "ticks": ""
           },
           "bgcolor": "#E5ECF6",
           "radialaxis": {
            "gridcolor": "white",
            "linecolor": "white",
            "ticks": ""
           }
          },
          "scene": {
           "xaxis": {
            "backgroundcolor": "#E5ECF6",
            "gridcolor": "white",
            "gridwidth": 2,
            "linecolor": "white",
            "showbackground": true,
            "ticks": "",
            "zerolinecolor": "white"
           },
           "yaxis": {
            "backgroundcolor": "#E5ECF6",
            "gridcolor": "white",
            "gridwidth": 2,
            "linecolor": "white",
            "showbackground": true,
            "ticks": "",
            "zerolinecolor": "white"
           },
           "zaxis": {
            "backgroundcolor": "#E5ECF6",
            "gridcolor": "white",
            "gridwidth": 2,
            "linecolor": "white",
            "showbackground": true,
            "ticks": "",
            "zerolinecolor": "white"
           }
          },
          "shapedefaults": {
           "line": {
            "color": "#2a3f5f"
           }
          },
          "ternary": {
           "aaxis": {
            "gridcolor": "white",
            "linecolor": "white",
            "ticks": ""
           },
           "baxis": {
            "gridcolor": "white",
            "linecolor": "white",
            "ticks": ""
           },
           "bgcolor": "#E5ECF6",
           "caxis": {
            "gridcolor": "white",
            "linecolor": "white",
            "ticks": ""
           }
          },
          "title": {
           "x": 0.05
          },
          "xaxis": {
           "automargin": true,
           "gridcolor": "white",
           "linecolor": "white",
           "ticks": "",
           "title": {
            "standoff": 15
           },
           "zerolinecolor": "white",
           "zerolinewidth": 2
          },
          "yaxis": {
           "automargin": true,
           "gridcolor": "white",
           "linecolor": "white",
           "ticks": "",
           "title": {
            "standoff": 15
           },
           "zerolinecolor": "white",
           "zerolinewidth": 2
          }
         }
        },
        "title": {
         "text": "Percentage of the people who took the 1st dose and the ones who took the 2nd dose"
        },
        "xaxis": {
         "anchor": "y",
         "domain": [
          0,
          1
         ],
         "title": {
          "text": "Län"
         }
        },
        "yaxis": {
         "anchor": "x",
         "domain": [
          0,
          1
         ],
         "title": {
          "text": "Andel %"
         }
        }
       }
      }
     },
     "metadata": {}
    }
   ],
   "metadata": {}
  },
  {
   "cell_type": "markdown",
   "source": [
    "- f) Rita ett stapeldiagram med län i x-axeln och staplar för befolkning > 16år, antal minst 1 dos och antal\n",
    "färdigvaccinerade."
   ],
   "metadata": {}
  },
  {
   "cell_type": "code",
   "execution_count": 85,
   "source": [
    "#taking away the data that concerns 16-17 old people \n",
    "vaccin_older_than_16 = vaccin[vaccin[\"Ålder\"]!=\"16-17\"]\n",
    "\n",
    "#plotting the figure\n",
    "fig = px.histogram(data_frame=vaccin_older_than_16,\n",
    "                    x=\"Län_namn\",\n",
    "                    y=[\"Antal minst 1 dos\",\"Antal färdigvaccinerade\"],\n",
    "                    barmode= \"group\",\n",
    "                    labels = {\"variable\":\"Variable\",\n",
    "                                \"sum of value\":\"Amount of people\",\n",
    "                                \"Län_namn\":\"Län\",\n",
    "                                \"Antal minst 1 dos\":\"People who took at least 1 dose\", \n",
    "                                \"Antal färdigvaccinerade\":\"People who took both doses\"},\n",
    "                    title = \"Number of people who took the 1st dose vs people who took both doses per region\"\n",
    "                    )\n",
    "fig.update_layout(yaxis_title=\"Antal personer\")\n",
    "fig.show()\n",
    "\n",
    "#saving the figure\n",
    "fig.write_html(\"Visualiseringar/Upp2_f_Number_of_people_who_took_the_1st_dose_vs_people_who_took_both_doses_per_region.html\")"
   ],
   "outputs": [
    {
     "output_type": "display_data",
     "data": {
      "application/vnd.plotly.v1+json": {
       "config": {
        "plotlyServerURL": "https://plot.ly"
       },
       "data": [
        {
         "alignmentgroup": "True",
         "bingroup": "x",
         "histfunc": "sum",
         "hovertemplate": "Variable=Antal minst 1 dos<br>Län=%{x}<br>sum of value=%{y}<extra></extra>",
         "legendgroup": "Antal minst 1 dos",
         "marker": {
          "color": "#636efa",
          "pattern": {
           "shape": ""
          }
         },
         "name": "Antal minst 1 dos",
         "offsetgroup": "Antal minst 1 dos",
         "orientation": "v",
         "showlegend": true,
         "type": "histogram",
         "x": [
          "Stockholm",
          "Stockholm",
          "Stockholm",
          "Stockholm",
          "Stockholm",
          "Stockholm",
          "Stockholm",
          "Stockholm",
          "Stockholm",
          "Stockholm",
          "Stockholm",
          "Stockholm",
          "Stockholm",
          "Stockholm",
          "Stockholm",
          "Stockholm",
          "Stockholm",
          "Stockholm",
          "Stockholm",
          "Stockholm",
          "Stockholm",
          "Stockholm",
          "Stockholm",
          "Stockholm",
          "Stockholm",
          "Stockholm",
          "Stockholm",
          "Stockholm",
          "Stockholm",
          "Stockholm",
          "Stockholm",
          "Stockholm",
          "Stockholm",
          "Stockholm",
          "Stockholm",
          "Stockholm",
          "Stockholm",
          "Stockholm",
          "Stockholm",
          "Stockholm",
          "Stockholm",
          "Stockholm",
          "Stockholm",
          "Stockholm",
          "Stockholm",
          "Stockholm",
          "Stockholm",
          "Stockholm",
          "Stockholm",
          "Stockholm",
          "Stockholm",
          "Stockholm",
          "Stockholm",
          "Stockholm",
          "Stockholm",
          "Stockholm",
          "Stockholm",
          "Stockholm",
          "Stockholm",
          "Stockholm",
          "Stockholm",
          "Stockholm",
          "Stockholm",
          "Stockholm",
          "Stockholm",
          "Stockholm",
          "Stockholm",
          "Stockholm",
          "Stockholm",
          "Stockholm",
          "Stockholm",
          "Stockholm",
          "Stockholm",
          "Stockholm",
          "Stockholm",
          "Stockholm",
          "Stockholm",
          "Stockholm",
          "Stockholm",
          "Stockholm",
          "Stockholm",
          "Stockholm",
          "Stockholm",
          "Stockholm",
          "Stockholm",
          "Stockholm",
          "Stockholm",
          "Stockholm",
          "Stockholm",
          "Stockholm",
          "Stockholm",
          "Stockholm",
          "Stockholm",
          "Stockholm",
          "Stockholm",
          "Stockholm",
          "Stockholm",
          "Stockholm",
          "Stockholm",
          "Stockholm",
          "Stockholm",
          "Stockholm",
          "Stockholm",
          "Stockholm",
          "Stockholm",
          "Stockholm",
          "Stockholm",
          "Stockholm",
          "Stockholm",
          "Stockholm",
          "Stockholm",
          "Stockholm",
          "Stockholm",
          "Stockholm",
          "Stockholm",
          "Stockholm",
          "Stockholm",
          "Stockholm",
          "Stockholm",
          "Stockholm",
          "Stockholm",
          "Stockholm",
          "Stockholm",
          "Stockholm",
          "Stockholm",
          "Stockholm",
          "Stockholm",
          "Stockholm",
          "Stockholm",
          "Stockholm",
          "Stockholm",
          "Stockholm",
          "Stockholm",
          "Stockholm",
          "Stockholm",
          "Stockholm",
          "Stockholm",
          "Stockholm",
          "Stockholm",
          "Stockholm",
          "Stockholm",
          "Stockholm",
          "Stockholm",
          "Stockholm",
          "Stockholm",
          "Stockholm",
          "Stockholm",
          "Stockholm",
          "Stockholm",
          "Stockholm",
          "Stockholm",
          "Stockholm",
          "Stockholm",
          "Stockholm",
          "Stockholm",
          "Stockholm",
          "Stockholm",
          "Stockholm",
          "Stockholm",
          "Stockholm",
          "Stockholm",
          "Stockholm",
          "Stockholm",
          "Stockholm",
          "Stockholm",
          "Stockholm",
          "Stockholm",
          "Stockholm",
          "Stockholm",
          "Stockholm",
          "Stockholm",
          "Stockholm",
          "Stockholm",
          "Stockholm",
          "Stockholm",
          "Stockholm",
          "Stockholm",
          "Stockholm",
          "Stockholm",
          "Stockholm",
          "Stockholm",
          "Stockholm",
          "Stockholm",
          "Stockholm",
          "Stockholm",
          "Stockholm",
          "Stockholm",
          "Stockholm",
          "Stockholm",
          "Stockholm",
          "Stockholm",
          "Stockholm",
          "Stockholm",
          "Stockholm",
          "Stockholm",
          "Stockholm",
          "Stockholm",
          "Stockholm",
          "Stockholm",
          "Stockholm",
          "Stockholm",
          "Stockholm",
          "Stockholm",
          "Stockholm",
          "Stockholm",
          "Stockholm",
          "Stockholm",
          "Stockholm",
          "Uppsala",
          "Uppsala",
          "Uppsala",
          "Uppsala",
          "Uppsala",
          "Uppsala",
          "Uppsala",
          "Uppsala",
          "Uppsala",
          "Uppsala",
          "Uppsala",
          "Uppsala",
          "Uppsala",
          "Uppsala",
          "Uppsala",
          "Uppsala",
          "Uppsala",
          "Uppsala",
          "Uppsala",
          "Uppsala",
          "Uppsala",
          "Uppsala",
          "Uppsala",
          "Uppsala",
          "Uppsala",
          "Uppsala",
          "Uppsala",
          "Uppsala",
          "Uppsala",
          "Uppsala",
          "Uppsala",
          "Uppsala",
          "Uppsala",
          "Uppsala",
          "Uppsala",
          "Uppsala",
          "Uppsala",
          "Uppsala",
          "Uppsala",
          "Uppsala",
          "Uppsala",
          "Uppsala",
          "Uppsala",
          "Uppsala",
          "Uppsala",
          "Uppsala",
          "Uppsala",
          "Uppsala",
          "Uppsala",
          "Uppsala",
          "Uppsala",
          "Uppsala",
          "Uppsala",
          "Uppsala",
          "Uppsala",
          "Uppsala",
          "Uppsala",
          "Uppsala",
          "Uppsala",
          "Uppsala",
          "Uppsala",
          "Uppsala",
          "Uppsala",
          "Uppsala",
          "Södermanland",
          "Södermanland",
          "Södermanland",
          "Södermanland",
          "Södermanland",
          "Södermanland",
          "Södermanland",
          "Södermanland",
          "Södermanland",
          "Södermanland",
          "Södermanland",
          "Södermanland",
          "Södermanland",
          "Södermanland",
          "Södermanland",
          "Södermanland",
          "Södermanland",
          "Södermanland",
          "Södermanland",
          "Södermanland",
          "Södermanland",
          "Södermanland",
          "Södermanland",
          "Södermanland",
          "Södermanland",
          "Södermanland",
          "Södermanland",
          "Södermanland",
          "Södermanland",
          "Södermanland",
          "Södermanland",
          "Södermanland",
          "Södermanland",
          "Södermanland",
          "Södermanland",
          "Södermanland",
          "Södermanland",
          "Södermanland",
          "Södermanland",
          "Södermanland",
          "Södermanland",
          "Södermanland",
          "Södermanland",
          "Södermanland",
          "Södermanland",
          "Södermanland",
          "Södermanland",
          "Södermanland",
          "Södermanland",
          "Södermanland",
          "Södermanland",
          "Södermanland",
          "Södermanland",
          "Södermanland",
          "Södermanland",
          "Södermanland",
          "Södermanland",
          "Södermanland",
          "Södermanland",
          "Södermanland",
          "Södermanland",
          "Södermanland",
          "Södermanland",
          "Södermanland",
          "Södermanland",
          "Södermanland",
          "Södermanland",
          "Södermanland",
          "Södermanland",
          "Södermanland",
          "Södermanland",
          "Södermanland",
          "Östergötland",
          "Östergötland",
          "Östergötland",
          "Östergötland",
          "Östergötland",
          "Östergötland",
          "Östergötland",
          "Östergötland",
          "Östergötland",
          "Östergötland",
          "Östergötland",
          "Östergötland",
          "Östergötland",
          "Östergötland",
          "Östergötland",
          "Östergötland",
          "Östergötland",
          "Östergötland",
          "Östergötland",
          "Östergötland",
          "Östergötland",
          "Östergötland",
          "Östergötland",
          "Östergötland",
          "Östergötland",
          "Östergötland",
          "Östergötland",
          "Östergötland",
          "Östergötland",
          "Östergötland",
          "Östergötland",
          "Östergötland",
          "Östergötland",
          "Östergötland",
          "Östergötland",
          "Östergötland",
          "Östergötland",
          "Östergötland",
          "Östergötland",
          "Östergötland",
          "Östergötland",
          "Östergötland",
          "Östergötland",
          "Östergötland",
          "Östergötland",
          "Östergötland",
          "Östergötland",
          "Östergötland",
          "Östergötland",
          "Östergötland",
          "Östergötland",
          "Östergötland",
          "Östergötland",
          "Östergötland",
          "Östergötland",
          "Östergötland",
          "Östergötland",
          "Östergötland",
          "Östergötland",
          "Östergötland",
          "Östergötland",
          "Östergötland",
          "Östergötland",
          "Östergötland",
          "Östergötland",
          "Östergötland",
          "Östergötland",
          "Östergötland",
          "Östergötland",
          "Östergötland",
          "Östergötland",
          "Östergötland",
          "Östergötland",
          "Östergötland",
          "Östergötland",
          "Östergötland",
          "Östergötland",
          "Östergötland",
          "Östergötland",
          "Östergötland",
          "Östergötland",
          "Östergötland",
          "Östergötland",
          "Östergötland",
          "Östergötland",
          "Östergötland",
          "Östergötland",
          "Östergötland",
          "Östergötland",
          "Östergötland",
          "Östergötland",
          "Östergötland",
          "Östergötland",
          "Östergötland",
          "Östergötland",
          "Östergötland",
          "Östergötland",
          "Östergötland",
          "Östergötland",
          "Östergötland",
          "Östergötland",
          "Östergötland",
          "Östergötland",
          "Östergötland",
          "Jönköping",
          "Jönköping",
          "Jönköping",
          "Jönköping",
          "Jönköping",
          "Jönköping",
          "Jönköping",
          "Jönköping",
          "Jönköping",
          "Jönköping",
          "Jönköping",
          "Jönköping",
          "Jönköping",
          "Jönköping",
          "Jönköping",
          "Jönköping",
          "Jönköping",
          "Jönköping",
          "Jönköping",
          "Jönköping",
          "Jönköping",
          "Jönköping",
          "Jönköping",
          "Jönköping",
          "Jönköping",
          "Jönköping",
          "Jönköping",
          "Jönköping",
          "Jönköping",
          "Jönköping",
          "Jönköping",
          "Jönköping",
          "Jönköping",
          "Jönköping",
          "Jönköping",
          "Jönköping",
          "Jönköping",
          "Jönköping",
          "Jönköping",
          "Jönköping",
          "Jönköping",
          "Jönköping",
          "Jönköping",
          "Jönköping",
          "Jönköping",
          "Jönköping",
          "Jönköping",
          "Jönköping",
          "Jönköping",
          "Jönköping",
          "Jönköping",
          "Jönköping",
          "Jönköping",
          "Jönköping",
          "Jönköping",
          "Jönköping",
          "Jönköping",
          "Jönköping",
          "Jönköping",
          "Jönköping",
          "Jönköping",
          "Jönköping",
          "Jönköping",
          "Jönköping",
          "Jönköping",
          "Jönköping",
          "Jönköping",
          "Jönköping",
          "Jönköping",
          "Jönköping",
          "Jönköping",
          "Jönköping",
          "Jönköping",
          "Jönköping",
          "Jönköping",
          "Jönköping",
          "Jönköping",
          "Jönköping",
          "Jönköping",
          "Jönköping",
          "Jönköping",
          "Jönköping",
          "Jönköping",
          "Jönköping",
          "Jönköping",
          "Jönköping",
          "Jönköping",
          "Jönköping",
          "Jönköping",
          "Jönköping",
          "Jönköping",
          "Jönköping",
          "Jönköping",
          "Jönköping",
          "Jönköping",
          "Jönköping",
          "Jönköping",
          "Jönköping",
          "Jönköping",
          "Jönköping",
          "Jönköping",
          "Jönköping",
          "Jönköping",
          "Jönköping",
          "Kronoberg",
          "Kronoberg",
          "Kronoberg",
          "Kronoberg",
          "Kronoberg",
          "Kronoberg",
          "Kronoberg",
          "Kronoberg",
          "Kronoberg",
          "Kronoberg",
          "Kronoberg",
          "Kronoberg",
          "Kronoberg",
          "Kronoberg",
          "Kronoberg",
          "Kronoberg",
          "Kronoberg",
          "Kronoberg",
          "Kronoberg",
          "Kronoberg",
          "Kronoberg",
          "Kronoberg",
          "Kronoberg",
          "Kronoberg",
          "Kronoberg",
          "Kronoberg",
          "Kronoberg",
          "Kronoberg",
          "Kronoberg",
          "Kronoberg",
          "Kronoberg",
          "Kronoberg",
          "Kronoberg",
          "Kronoberg",
          "Kronoberg",
          "Kronoberg",
          "Kronoberg",
          "Kronoberg",
          "Kronoberg",
          "Kronoberg",
          "Kronoberg",
          "Kronoberg",
          "Kronoberg",
          "Kronoberg",
          "Kronoberg",
          "Kronoberg",
          "Kronoberg",
          "Kronoberg",
          "Kronoberg",
          "Kronoberg",
          "Kronoberg",
          "Kronoberg",
          "Kronoberg",
          "Kronoberg",
          "Kronoberg",
          "Kronoberg",
          "Kronoberg",
          "Kronoberg",
          "Kronoberg",
          "Kronoberg",
          "Kronoberg",
          "Kronoberg",
          "Kronoberg",
          "Kronoberg",
          "Kalmar",
          "Kalmar",
          "Kalmar",
          "Kalmar",
          "Kalmar",
          "Kalmar",
          "Kalmar",
          "Kalmar",
          "Kalmar",
          "Kalmar",
          "Kalmar",
          "Kalmar",
          "Kalmar",
          "Kalmar",
          "Kalmar",
          "Kalmar",
          "Kalmar",
          "Kalmar",
          "Kalmar",
          "Kalmar",
          "Kalmar",
          "Kalmar",
          "Kalmar",
          "Kalmar",
          "Kalmar",
          "Kalmar",
          "Kalmar",
          "Kalmar",
          "Kalmar",
          "Kalmar",
          "Kalmar",
          "Kalmar",
          "Kalmar",
          "Kalmar",
          "Kalmar",
          "Kalmar",
          "Kalmar",
          "Kalmar",
          "Kalmar",
          "Kalmar",
          "Kalmar",
          "Kalmar",
          "Kalmar",
          "Kalmar",
          "Kalmar",
          "Kalmar",
          "Kalmar",
          "Kalmar",
          "Kalmar",
          "Kalmar",
          "Kalmar",
          "Kalmar",
          "Kalmar",
          "Kalmar",
          "Kalmar",
          "Kalmar",
          "Kalmar",
          "Kalmar",
          "Kalmar",
          "Kalmar",
          "Kalmar",
          "Kalmar",
          "Kalmar",
          "Kalmar",
          "Kalmar",
          "Kalmar",
          "Kalmar",
          "Kalmar",
          "Kalmar",
          "Kalmar",
          "Kalmar",
          "Kalmar",
          "Kalmar",
          "Kalmar",
          "Kalmar",
          "Kalmar",
          "Kalmar",
          "Kalmar",
          "Kalmar",
          "Kalmar",
          "Kalmar",
          "Kalmar",
          "Kalmar",
          "Kalmar",
          "Kalmar",
          "Kalmar",
          "Kalmar",
          "Kalmar",
          "Kalmar",
          "Kalmar",
          "Kalmar",
          "Kalmar",
          "Kalmar",
          "Kalmar",
          "Kalmar",
          "Kalmar",
          "Gotland",
          "Gotland",
          "Gotland",
          "Gotland",
          "Gotland",
          "Gotland",
          "Gotland",
          "Gotland",
          "Blekinge",
          "Blekinge",
          "Blekinge",
          "Blekinge",
          "Blekinge",
          "Blekinge",
          "Blekinge",
          "Blekinge",
          "Blekinge",
          "Blekinge",
          "Blekinge",
          "Blekinge",
          "Blekinge",
          "Blekinge",
          "Blekinge",
          "Blekinge",
          "Blekinge",
          "Blekinge",
          "Blekinge",
          "Blekinge",
          "Blekinge",
          "Blekinge",
          "Blekinge",
          "Blekinge",
          "Blekinge",
          "Blekinge",
          "Blekinge",
          "Blekinge",
          "Blekinge",
          "Blekinge",
          "Blekinge",
          "Blekinge",
          "Blekinge",
          "Blekinge",
          "Blekinge",
          "Blekinge",
          "Blekinge",
          "Blekinge",
          "Blekinge",
          "Blekinge",
          "Skåne",
          "Skåne",
          "Skåne",
          "Skåne",
          "Skåne",
          "Skåne",
          "Skåne",
          "Skåne",
          "Skåne",
          "Skåne",
          "Skåne",
          "Skåne",
          "Skåne",
          "Skåne",
          "Skåne",
          "Skåne",
          "Skåne",
          "Skåne",
          "Skåne",
          "Skåne",
          "Skåne",
          "Skåne",
          "Skåne",
          "Skåne",
          "Skåne",
          "Skåne",
          "Skåne",
          "Skåne",
          "Skåne",
          "Skåne",
          "Skåne",
          "Skåne",
          "Skåne",
          "Skåne",
          "Skåne",
          "Skåne",
          "Skåne",
          "Skåne",
          "Skåne",
          "Skåne",
          "Skåne",
          "Skåne",
          "Skåne",
          "Skåne",
          "Skåne",
          "Skåne",
          "Skåne",
          "Skåne",
          "Skåne",
          "Skåne",
          "Skåne",
          "Skåne",
          "Skåne",
          "Skåne",
          "Skåne",
          "Skåne",
          "Skåne",
          "Skåne",
          "Skåne",
          "Skåne",
          "Skåne",
          "Skåne",
          "Skåne",
          "Skåne",
          "Skåne",
          "Skåne",
          "Skåne",
          "Skåne",
          "Skåne",
          "Skåne",
          "Skåne",
          "Skåne",
          "Skåne",
          "Skåne",
          "Skåne",
          "Skåne",
          "Skåne",
          "Skåne",
          "Skåne",
          "Skåne",
          "Skåne",
          "Skåne",
          "Skåne",
          "Skåne",
          "Skåne",
          "Skåne",
          "Skåne",
          "Skåne",
          "Skåne",
          "Skåne",
          "Skåne",
          "Skåne",
          "Skåne",
          "Skåne",
          "Skåne",
          "Skåne",
          "Skåne",
          "Skåne",
          "Skåne",
          "Skåne",
          "Skåne",
          "Skåne",
          "Skåne",
          "Skåne",
          "Skåne",
          "Skåne",
          "Skåne",
          "Skåne",
          "Skåne",
          "Skåne",
          "Skåne",
          "Skåne",
          "Skåne",
          "Skåne",
          "Skåne",
          "Skåne",
          "Skåne",
          "Skåne",
          "Skåne",
          "Skåne",
          "Skåne",
          "Skåne",
          "Skåne",
          "Skåne",
          "Skåne",
          "Skåne",
          "Skåne",
          "Skåne",
          "Skåne",
          "Skåne",
          "Skåne",
          "Skåne",
          "Skåne",
          "Skåne",
          "Skåne",
          "Skåne",
          "Skåne",
          "Skåne",
          "Skåne",
          "Skåne",
          "Skåne",
          "Skåne",
          "Skåne",
          "Skåne",
          "Skåne",
          "Skåne",
          "Skåne",
          "Skåne",
          "Skåne",
          "Skåne",
          "Skåne",
          "Skåne",
          "Skåne",
          "Skåne",
          "Skåne",
          "Skåne",
          "Skåne",
          "Skåne",
          "Skåne",
          "Skåne",
          "Skåne",
          "Skåne",
          "Skåne",
          "Skåne",
          "Skåne",
          "Skåne",
          "Skåne",
          "Skåne",
          "Skåne",
          "Skåne",
          "Skåne",
          "Skåne",
          "Skåne",
          "Skåne",
          "Skåne",
          "Skåne",
          "Skåne",
          "Skåne",
          "Skåne",
          "Skåne",
          "Skåne",
          "Skåne",
          "Skåne",
          "Skåne",
          "Skåne",
          "Skåne",
          "Skåne",
          "Skåne",
          "Skåne",
          "Skåne",
          "Skåne",
          "Skåne",
          "Skåne",
          "Skåne",
          "Skåne",
          "Skåne",
          "Skåne",
          "Skåne",
          "Skåne",
          "Skåne",
          "Skåne",
          "Skåne",
          "Skåne",
          "Skåne",
          "Skåne",
          "Skåne",
          "Skåne",
          "Skåne",
          "Skåne",
          "Skåne",
          "Skåne",
          "Skåne",
          "Skåne",
          "Skåne",
          "Skåne",
          "Skåne",
          "Skåne",
          "Skåne",
          "Skåne",
          "Skåne",
          "Skåne",
          "Skåne",
          "Skåne",
          "Skåne",
          "Skåne",
          "Skåne",
          "Skåne",
          "Skåne",
          "Skåne",
          "Skåne",
          "Skåne",
          "Skåne",
          "Skåne",
          "Skåne",
          "Skåne",
          "Skåne",
          "Skåne",
          "Skåne",
          "Skåne",
          "Skåne",
          "Skåne",
          "Skåne",
          "Skåne",
          "Skåne",
          "Skåne",
          "Skåne",
          "Skåne",
          "Skåne",
          "Skåne",
          "Skåne",
          "Skåne",
          "Skåne",
          "Skåne",
          "Skåne",
          "Skåne",
          "Skåne",
          "Skåne",
          "Skåne",
          "Skåne",
          "Skåne",
          "Skåne",
          "Skåne",
          "Skåne",
          "Skåne",
          "Halland",
          "Halland",
          "Halland",
          "Halland",
          "Halland",
          "Halland",
          "Halland",
          "Halland",
          "Halland",
          "Halland",
          "Halland",
          "Halland",
          "Halland",
          "Halland",
          "Halland",
          "Halland",
          "Halland",
          "Halland",
          "Halland",
          "Halland",
          "Halland",
          "Halland",
          "Halland",
          "Halland",
          "Halland",
          "Halland",
          "Halland",
          "Halland",
          "Halland",
          "Halland",
          "Halland",
          "Halland",
          "Halland",
          "Halland",
          "Halland",
          "Halland",
          "Halland",
          "Halland",
          "Halland",
          "Halland",
          "Halland",
          "Halland",
          "Halland",
          "Halland",
          "Halland",
          "Halland",
          "Halland",
          "Halland",
          "Västra Götaland",
          "Västra Götaland",
          "Västra Götaland",
          "Västra Götaland",
          "Västra Götaland",
          "Västra Götaland",
          "Västra Götaland",
          "Västra Götaland",
          "Västra Götaland",
          "Västra Götaland",
          "Västra Götaland",
          "Västra Götaland",
          "Västra Götaland",
          "Västra Götaland",
          "Västra Götaland",
          "Västra Götaland",
          "Västra Götaland",
          "Västra Götaland",
          "Västra Götaland",
          "Västra Götaland",
          "Västra Götaland",
          "Västra Götaland",
          "Västra Götaland",
          "Västra Götaland",
          "Västra Götaland",
          "Västra Götaland",
          "Västra Götaland",
          "Västra Götaland",
          "Västra Götaland",
          "Västra Götaland",
          "Västra Götaland",
          "Västra Götaland",
          "Västra Götaland",
          "Västra Götaland",
          "Västra Götaland",
          "Västra Götaland",
          "Västra Götaland",
          "Västra Götaland",
          "Västra Götaland",
          "Västra Götaland",
          "Västra Götaland",
          "Västra Götaland",
          "Västra Götaland",
          "Västra Götaland",
          "Västra Götaland",
          "Västra Götaland",
          "Västra Götaland",
          "Västra Götaland",
          "Västra Götaland",
          "Västra Götaland",
          "Västra Götaland",
          "Västra Götaland",
          "Västra Götaland",
          "Västra Götaland",
          "Västra Götaland",
          "Västra Götaland",
          "Västra Götaland",
          "Västra Götaland",
          "Västra Götaland",
          "Västra Götaland",
          "Västra Götaland",
          "Västra Götaland",
          "Västra Götaland",
          "Västra Götaland",
          "Västra Götaland",
          "Västra Götaland",
          "Västra Götaland",
          "Västra Götaland",
          "Västra Götaland",
          "Västra Götaland",
          "Västra Götaland",
          "Västra Götaland",
          "Västra Götaland",
          "Västra Götaland",
          "Västra Götaland",
          "Västra Götaland",
          "Västra Götaland",
          "Västra Götaland",
          "Västra Götaland",
          "Västra Götaland",
          "Västra Götaland",
          "Västra Götaland",
          "Västra Götaland",
          "Västra Götaland",
          "Västra Götaland",
          "Västra Götaland",
          "Västra Götaland",
          "Västra Götaland",
          "Västra Götaland",
          "Västra Götaland",
          "Västra Götaland",
          "Västra Götaland",
          "Västra Götaland",
          "Västra Götaland",
          "Västra Götaland",
          "Västra Götaland",
          "Västra Götaland",
          "Västra Götaland",
          "Västra Götaland",
          "Västra Götaland",
          "Västra Götaland",
          "Västra Götaland",
          "Västra Götaland",
          "Västra Götaland",
          "Västra Götaland",
          "Västra Götaland",
          "Västra Götaland",
          "Västra Götaland",
          "Västra Götaland",
          "Västra Götaland",
          "Västra Götaland",
          "Västra Götaland",
          "Västra Götaland",
          "Västra Götaland",
          "Västra Götaland",
          "Västra Götaland",
          "Västra Götaland",
          "Västra Götaland",
          "Västra Götaland",
          "Västra Götaland",
          "Västra Götaland",
          "Västra Götaland",
          "Västra Götaland",
          "Västra Götaland",
          "Västra Götaland",
          "Västra Götaland",
          "Västra Götaland",
          "Västra Götaland",
          "Västra Götaland",
          "Västra Götaland",
          "Västra Götaland",
          "Västra Götaland",
          "Västra Götaland",
          "Västra Götaland",
          "Västra Götaland",
          "Västra Götaland",
          "Västra Götaland",
          "Västra Götaland",
          "Västra Götaland",
          "Västra Götaland",
          "Västra Götaland",
          "Västra Götaland",
          "Västra Götaland",
          "Västra Götaland",
          "Västra Götaland",
          "Västra Götaland",
          "Västra Götaland",
          "Västra Götaland",
          "Västra Götaland",
          "Västra Götaland",
          "Västra Götaland",
          "Västra Götaland",
          "Västra Götaland",
          "Västra Götaland",
          "Västra Götaland",
          "Västra Götaland",
          "Västra Götaland",
          "Västra Götaland",
          "Västra Götaland",
          "Västra Götaland",
          "Västra Götaland",
          "Västra Götaland",
          "Västra Götaland",
          "Västra Götaland",
          "Västra Götaland",
          "Västra Götaland",
          "Västra Götaland",
          "Västra Götaland",
          "Västra Götaland",
          "Västra Götaland",
          "Västra Götaland",
          "Västra Götaland",
          "Västra Götaland",
          "Västra Götaland",
          "Västra Götaland",
          "Västra Götaland",
          "Västra Götaland",
          "Västra Götaland",
          "Västra Götaland",
          "Västra Götaland",
          "Västra Götaland",
          "Västra Götaland",
          "Västra Götaland",
          "Västra Götaland",
          "Västra Götaland",
          "Västra Götaland",
          "Västra Götaland",
          "Västra Götaland",
          "Västra Götaland",
          "Västra Götaland",
          "Västra Götaland",
          "Västra Götaland",
          "Västra Götaland",
          "Västra Götaland",
          "Västra Götaland",
          "Västra Götaland",
          "Västra Götaland",
          "Västra Götaland",
          "Västra Götaland",
          "Västra Götaland",
          "Västra Götaland",
          "Västra Götaland",
          "Västra Götaland",
          "Västra Götaland",
          "Västra Götaland",
          "Västra Götaland",
          "Västra Götaland",
          "Västra Götaland",
          "Västra Götaland",
          "Västra Götaland",
          "Västra Götaland",
          "Västra Götaland",
          "Västra Götaland",
          "Västra Götaland",
          "Västra Götaland",
          "Västra Götaland",
          "Västra Götaland",
          "Västra Götaland",
          "Västra Götaland",
          "Västra Götaland",
          "Västra Götaland",
          "Västra Götaland",
          "Västra Götaland",
          "Västra Götaland",
          "Västra Götaland",
          "Västra Götaland",
          "Västra Götaland",
          "Västra Götaland",
          "Västra Götaland",
          "Västra Götaland",
          "Västra Götaland",
          "Västra Götaland",
          "Västra Götaland",
          "Västra Götaland",
          "Västra Götaland",
          "Västra Götaland",
          "Västra Götaland",
          "Västra Götaland",
          "Västra Götaland",
          "Västra Götaland",
          "Västra Götaland",
          "Västra Götaland",
          "Västra Götaland",
          "Västra Götaland",
          "Västra Götaland",
          "Västra Götaland",
          "Västra Götaland",
          "Västra Götaland",
          "Västra Götaland",
          "Västra Götaland",
          "Västra Götaland",
          "Västra Götaland",
          "Västra Götaland",
          "Västra Götaland",
          "Västra Götaland",
          "Västra Götaland",
          "Västra Götaland",
          "Västra Götaland",
          "Västra Götaland",
          "Västra Götaland",
          "Västra Götaland",
          "Västra Götaland",
          "Västra Götaland",
          "Västra Götaland",
          "Västra Götaland",
          "Västra Götaland",
          "Västra Götaland",
          "Västra Götaland",
          "Västra Götaland",
          "Västra Götaland",
          "Västra Götaland",
          "Västra Götaland",
          "Västra Götaland",
          "Västra Götaland",
          "Västra Götaland",
          "Västra Götaland",
          "Västra Götaland",
          "Västra Götaland",
          "Västra Götaland",
          "Västra Götaland",
          "Västra Götaland",
          "Västra Götaland",
          "Västra Götaland",
          "Västra Götaland",
          "Västra Götaland",
          "Västra Götaland",
          "Västra Götaland",
          "Västra Götaland",
          "Västra Götaland",
          "Västra Götaland",
          "Västra Götaland",
          "Västra Götaland",
          "Västra Götaland",
          "Västra Götaland",
          "Västra Götaland",
          "Västra Götaland",
          "Västra Götaland",
          "Västra Götaland",
          "Västra Götaland",
          "Västra Götaland",
          "Västra Götaland",
          "Västra Götaland",
          "Västra Götaland",
          "Västra Götaland",
          "Västra Götaland",
          "Västra Götaland",
          "Västra Götaland",
          "Västra Götaland",
          "Västra Götaland",
          "Västra Götaland",
          "Västra Götaland",
          "Västra Götaland",
          "Västra Götaland",
          "Västra Götaland",
          "Västra Götaland",
          "Västra Götaland",
          "Västra Götaland",
          "Västra Götaland",
          "Västra Götaland",
          "Västra Götaland",
          "Västra Götaland",
          "Västra Götaland",
          "Västra Götaland",
          "Västra Götaland",
          "Västra Götaland",
          "Västra Götaland",
          "Västra Götaland",
          "Västra Götaland",
          "Västra Götaland",
          "Västra Götaland",
          "Västra Götaland",
          "Västra Götaland",
          "Västra Götaland",
          "Västra Götaland",
          "Västra Götaland",
          "Västra Götaland",
          "Västra Götaland",
          "Västra Götaland",
          "Västra Götaland",
          "Västra Götaland",
          "Västra Götaland",
          "Västra Götaland",
          "Västra Götaland",
          "Västra Götaland",
          "Västra Götaland",
          "Västra Götaland",
          "Västra Götaland",
          "Västra Götaland",
          "Västra Götaland",
          "Västra Götaland",
          "Västra Götaland",
          "Västra Götaland",
          "Västra Götaland",
          "Västra Götaland",
          "Västra Götaland",
          "Västra Götaland",
          "Västra Götaland",
          "Västra Götaland",
          "Västra Götaland",
          "Västra Götaland",
          "Västra Götaland",
          "Västra Götaland",
          "Västra Götaland",
          "Västra Götaland",
          "Västra Götaland",
          "Västra Götaland",
          "Västra Götaland",
          "Västra Götaland",
          "Västra Götaland",
          "Västra Götaland",
          "Västra Götaland",
          "Västra Götaland",
          "Västra Götaland",
          "Västra Götaland",
          "Västra Götaland",
          "Västra Götaland",
          "Västra Götaland",
          "Västra Götaland",
          "Västra Götaland",
          "Västra Götaland",
          "Västra Götaland",
          "Västra Götaland",
          "Västra Götaland",
          "Västra Götaland",
          "Västra Götaland",
          "Västra Götaland",
          "Västra Götaland",
          "Västra Götaland",
          "Västra Götaland",
          "Västra Götaland",
          "Västra Götaland",
          "Västra Götaland",
          "Värmland",
          "Värmland",
          "Värmland",
          "Värmland",
          "Värmland",
          "Värmland",
          "Värmland",
          "Värmland",
          "Värmland",
          "Värmland",
          "Värmland",
          "Värmland",
          "Värmland",
          "Värmland",
          "Värmland",
          "Värmland",
          "Värmland",
          "Värmland",
          "Värmland",
          "Värmland",
          "Värmland",
          "Värmland",
          "Värmland",
          "Värmland",
          "Värmland",
          "Värmland",
          "Värmland",
          "Värmland",
          "Värmland",
          "Värmland",
          "Värmland",
          "Värmland",
          "Värmland",
          "Värmland",
          "Värmland",
          "Värmland",
          "Värmland",
          "Värmland",
          "Värmland",
          "Värmland",
          "Värmland",
          "Värmland",
          "Värmland",
          "Värmland",
          "Värmland",
          "Värmland",
          "Värmland",
          "Värmland",
          "Värmland",
          "Värmland",
          "Värmland",
          "Värmland",
          "Värmland",
          "Värmland",
          "Värmland",
          "Värmland",
          "Värmland",
          "Värmland",
          "Värmland",
          "Värmland",
          "Värmland",
          "Värmland",
          "Värmland",
          "Värmland",
          "Värmland",
          "Värmland",
          "Värmland",
          "Värmland",
          "Värmland",
          "Värmland",
          "Värmland",
          "Värmland",
          "Värmland",
          "Värmland",
          "Värmland",
          "Värmland",
          "Värmland",
          "Värmland",
          "Värmland",
          "Värmland",
          "Värmland",
          "Värmland",
          "Värmland",
          "Värmland",
          "Värmland",
          "Värmland",
          "Värmland",
          "Värmland",
          "Värmland",
          "Värmland",
          "Värmland",
          "Värmland",
          "Värmland",
          "Värmland",
          "Värmland",
          "Värmland",
          "Värmland",
          "Värmland",
          "Värmland",
          "Värmland",
          "Värmland",
          "Värmland",
          "Värmland",
          "Värmland",
          "Värmland",
          "Värmland",
          "Värmland",
          "Värmland",
          "Värmland",
          "Värmland",
          "Värmland",
          "Värmland",
          "Värmland",
          "Värmland",
          "Värmland",
          "Värmland",
          "Värmland",
          "Värmland",
          "Värmland",
          "Värmland",
          "Värmland",
          "Värmland",
          "Värmland",
          "Värmland",
          "Värmland",
          "Värmland",
          "Värmland",
          "Värmland",
          "Örebro",
          "Örebro",
          "Örebro",
          "Örebro",
          "Örebro",
          "Örebro",
          "Örebro",
          "Örebro",
          "Örebro",
          "Örebro",
          "Örebro",
          "Örebro",
          "Örebro",
          "Örebro",
          "Örebro",
          "Örebro",
          "Örebro",
          "Örebro",
          "Örebro",
          "Örebro",
          "Örebro",
          "Örebro",
          "Örebro",
          "Örebro",
          "Örebro",
          "Örebro",
          "Örebro",
          "Örebro",
          "Örebro",
          "Örebro",
          "Örebro",
          "Örebro",
          "Örebro",
          "Örebro",
          "Örebro",
          "Örebro",
          "Örebro",
          "Örebro",
          "Örebro",
          "Örebro",
          "Örebro",
          "Örebro",
          "Örebro",
          "Örebro",
          "Örebro",
          "Örebro",
          "Örebro",
          "Örebro",
          "Örebro",
          "Örebro",
          "Örebro",
          "Örebro",
          "Örebro",
          "Örebro",
          "Örebro",
          "Örebro",
          "Örebro",
          "Örebro",
          "Örebro",
          "Örebro",
          "Örebro",
          "Örebro",
          "Örebro",
          "Örebro",
          "Örebro",
          "Örebro",
          "Örebro",
          "Örebro",
          "Örebro",
          "Örebro",
          "Örebro",
          "Örebro",
          "Örebro",
          "Örebro",
          "Örebro",
          "Örebro",
          "Örebro",
          "Örebro",
          "Örebro",
          "Örebro",
          "Örebro",
          "Örebro",
          "Örebro",
          "Örebro",
          "Örebro",
          "Örebro",
          "Örebro",
          "Örebro",
          "Örebro",
          "Örebro",
          "Örebro",
          "Örebro",
          "Örebro",
          "Örebro",
          "Örebro",
          "Örebro",
          "Västmanland",
          "Västmanland",
          "Västmanland",
          "Västmanland",
          "Västmanland",
          "Västmanland",
          "Västmanland",
          "Västmanland",
          "Västmanland",
          "Västmanland",
          "Västmanland",
          "Västmanland",
          "Västmanland",
          "Västmanland",
          "Västmanland",
          "Västmanland",
          "Västmanland",
          "Västmanland",
          "Västmanland",
          "Västmanland",
          "Västmanland",
          "Västmanland",
          "Västmanland",
          "Västmanland",
          "Västmanland",
          "Västmanland",
          "Västmanland",
          "Västmanland",
          "Västmanland",
          "Västmanland",
          "Västmanland",
          "Västmanland",
          "Västmanland",
          "Västmanland",
          "Västmanland",
          "Västmanland",
          "Västmanland",
          "Västmanland",
          "Västmanland",
          "Västmanland",
          "Västmanland",
          "Västmanland",
          "Västmanland",
          "Västmanland",
          "Västmanland",
          "Västmanland",
          "Västmanland",
          "Västmanland",
          "Västmanland",
          "Västmanland",
          "Västmanland",
          "Västmanland",
          "Västmanland",
          "Västmanland",
          "Västmanland",
          "Västmanland",
          "Västmanland",
          "Västmanland",
          "Västmanland",
          "Västmanland",
          "Västmanland",
          "Västmanland",
          "Västmanland",
          "Västmanland",
          "Västmanland",
          "Västmanland",
          "Västmanland",
          "Västmanland",
          "Västmanland",
          "Västmanland",
          "Västmanland",
          "Västmanland",
          "Västmanland",
          "Västmanland",
          "Västmanland",
          "Västmanland",
          "Västmanland",
          "Västmanland",
          "Västmanland",
          "Västmanland",
          "Dalarna",
          "Dalarna",
          "Dalarna",
          "Dalarna",
          "Dalarna",
          "Dalarna",
          "Dalarna",
          "Dalarna",
          "Dalarna",
          "Dalarna",
          "Dalarna",
          "Dalarna",
          "Dalarna",
          "Dalarna",
          "Dalarna",
          "Dalarna",
          "Dalarna",
          "Dalarna",
          "Dalarna",
          "Dalarna",
          "Dalarna",
          "Dalarna",
          "Dalarna",
          "Dalarna",
          "Dalarna",
          "Dalarna",
          "Dalarna",
          "Dalarna",
          "Dalarna",
          "Dalarna",
          "Dalarna",
          "Dalarna",
          "Dalarna",
          "Dalarna",
          "Dalarna",
          "Dalarna",
          "Dalarna",
          "Dalarna",
          "Dalarna",
          "Dalarna",
          "Dalarna",
          "Dalarna",
          "Dalarna",
          "Dalarna",
          "Dalarna",
          "Dalarna",
          "Dalarna",
          "Dalarna",
          "Dalarna",
          "Dalarna",
          "Dalarna",
          "Dalarna",
          "Dalarna",
          "Dalarna",
          "Dalarna",
          "Dalarna",
          "Dalarna",
          "Dalarna",
          "Dalarna",
          "Dalarna",
          "Dalarna",
          "Dalarna",
          "Dalarna",
          "Dalarna",
          "Dalarna",
          "Dalarna",
          "Dalarna",
          "Dalarna",
          "Dalarna",
          "Dalarna",
          "Dalarna",
          "Dalarna",
          "Dalarna",
          "Dalarna",
          "Dalarna",
          "Dalarna",
          "Dalarna",
          "Dalarna",
          "Dalarna",
          "Dalarna",
          "Dalarna",
          "Dalarna",
          "Dalarna",
          "Dalarna",
          "Dalarna",
          "Dalarna",
          "Dalarna",
          "Dalarna",
          "Dalarna",
          "Dalarna",
          "Dalarna",
          "Dalarna",
          "Dalarna",
          "Dalarna",
          "Dalarna",
          "Dalarna",
          "Dalarna",
          "Dalarna",
          "Dalarna",
          "Dalarna",
          "Dalarna",
          "Dalarna",
          "Dalarna",
          "Dalarna",
          "Dalarna",
          "Dalarna",
          "Dalarna",
          "Dalarna",
          "Dalarna",
          "Dalarna",
          "Dalarna",
          "Dalarna",
          "Dalarna",
          "Dalarna",
          "Dalarna",
          "Dalarna",
          "Dalarna",
          "Dalarna",
          "Dalarna",
          "Dalarna",
          "Gävleborg",
          "Gävleborg",
          "Gävleborg",
          "Gävleborg",
          "Gävleborg",
          "Gävleborg",
          "Gävleborg",
          "Gävleborg",
          "Gävleborg",
          "Gävleborg",
          "Gävleborg",
          "Gävleborg",
          "Gävleborg",
          "Gävleborg",
          "Gävleborg",
          "Gävleborg",
          "Gävleborg",
          "Gävleborg",
          "Gävleborg",
          "Gävleborg",
          "Gävleborg",
          "Gävleborg",
          "Gävleborg",
          "Gävleborg",
          "Gävleborg",
          "Gävleborg",
          "Gävleborg",
          "Gävleborg",
          "Gävleborg",
          "Gävleborg",
          "Gävleborg",
          "Gävleborg",
          "Gävleborg",
          "Gävleborg",
          "Gävleborg",
          "Gävleborg",
          "Gävleborg",
          "Gävleborg",
          "Gävleborg",
          "Gävleborg",
          "Gävleborg",
          "Gävleborg",
          "Gävleborg",
          "Gävleborg",
          "Gävleborg",
          "Gävleborg",
          "Gävleborg",
          "Gävleborg",
          "Gävleborg",
          "Gävleborg",
          "Gävleborg",
          "Gävleborg",
          "Gävleborg",
          "Gävleborg",
          "Gävleborg",
          "Gävleborg",
          "Gävleborg",
          "Gävleborg",
          "Gävleborg",
          "Gävleborg",
          "Gävleborg",
          "Gävleborg",
          "Gävleborg",
          "Gävleborg",
          "Gävleborg",
          "Gävleborg",
          "Gävleborg",
          "Gävleborg",
          "Gävleborg",
          "Gävleborg",
          "Gävleborg",
          "Gävleborg",
          "Gävleborg",
          "Gävleborg",
          "Gävleborg",
          "Gävleborg",
          "Gävleborg",
          "Gävleborg",
          "Gävleborg",
          "Gävleborg",
          "Västernorrland",
          "Västernorrland",
          "Västernorrland",
          "Västernorrland",
          "Västernorrland",
          "Västernorrland",
          "Västernorrland",
          "Västernorrland",
          "Västernorrland",
          "Västernorrland",
          "Västernorrland",
          "Västernorrland",
          "Västernorrland",
          "Västernorrland",
          "Västernorrland",
          "Västernorrland",
          "Västernorrland",
          "Västernorrland",
          "Västernorrland",
          "Västernorrland",
          "Västernorrland",
          "Västernorrland",
          "Västernorrland",
          "Västernorrland",
          "Västernorrland",
          "Västernorrland",
          "Västernorrland",
          "Västernorrland",
          "Västernorrland",
          "Västernorrland",
          "Västernorrland",
          "Västernorrland",
          "Västernorrland",
          "Västernorrland",
          "Västernorrland",
          "Västernorrland",
          "Västernorrland",
          "Västernorrland",
          "Västernorrland",
          "Västernorrland",
          "Västernorrland",
          "Västernorrland",
          "Västernorrland",
          "Västernorrland",
          "Västernorrland",
          "Västernorrland",
          "Västernorrland",
          "Västernorrland",
          "Västernorrland",
          "Västernorrland",
          "Västernorrland",
          "Västernorrland",
          "Västernorrland",
          "Västernorrland",
          "Västernorrland",
          "Västernorrland",
          "Jämtland",
          "Jämtland",
          "Jämtland",
          "Jämtland",
          "Jämtland",
          "Jämtland",
          "Jämtland",
          "Jämtland",
          "Jämtland",
          "Jämtland",
          "Jämtland",
          "Jämtland",
          "Jämtland",
          "Jämtland",
          "Jämtland",
          "Jämtland",
          "Jämtland",
          "Jämtland",
          "Jämtland",
          "Jämtland",
          "Jämtland",
          "Jämtland",
          "Jämtland",
          "Jämtland",
          "Jämtland",
          "Jämtland",
          "Jämtland",
          "Jämtland",
          "Jämtland",
          "Jämtland",
          "Jämtland",
          "Jämtland",
          "Jämtland",
          "Jämtland",
          "Jämtland",
          "Jämtland",
          "Jämtland",
          "Jämtland",
          "Jämtland",
          "Jämtland",
          "Jämtland",
          "Jämtland",
          "Jämtland",
          "Jämtland",
          "Jämtland",
          "Jämtland",
          "Jämtland",
          "Jämtland",
          "Jämtland",
          "Jämtland",
          "Jämtland",
          "Jämtland",
          "Jämtland",
          "Jämtland",
          "Jämtland",
          "Jämtland",
          "Jämtland",
          "Jämtland",
          "Jämtland",
          "Jämtland",
          "Jämtland",
          "Jämtland",
          "Jämtland",
          "Jämtland",
          "Västerbotten",
          "Västerbotten",
          "Västerbotten",
          "Västerbotten",
          "Västerbotten",
          "Västerbotten",
          "Västerbotten",
          "Västerbotten",
          "Västerbotten",
          "Västerbotten",
          "Västerbotten",
          "Västerbotten",
          "Västerbotten",
          "Västerbotten",
          "Västerbotten",
          "Västerbotten",
          "Västerbotten",
          "Västerbotten",
          "Västerbotten",
          "Västerbotten",
          "Västerbotten",
          "Västerbotten",
          "Västerbotten",
          "Västerbotten",
          "Västerbotten",
          "Västerbotten",
          "Västerbotten",
          "Västerbotten",
          "Västerbotten",
          "Västerbotten",
          "Västerbotten",
          "Västerbotten",
          "Västerbotten",
          "Västerbotten",
          "Västerbotten",
          "Västerbotten",
          "Västerbotten",
          "Västerbotten",
          "Västerbotten",
          "Västerbotten",
          "Västerbotten",
          "Västerbotten",
          "Västerbotten",
          "Västerbotten",
          "Västerbotten",
          "Västerbotten",
          "Västerbotten",
          "Västerbotten",
          "Västerbotten",
          "Västerbotten",
          "Västerbotten",
          "Västerbotten",
          "Västerbotten",
          "Västerbotten",
          "Västerbotten",
          "Västerbotten",
          "Västerbotten",
          "Västerbotten",
          "Västerbotten",
          "Västerbotten",
          "Västerbotten",
          "Västerbotten",
          "Västerbotten",
          "Västerbotten",
          "Västerbotten",
          "Västerbotten",
          "Västerbotten",
          "Västerbotten",
          "Västerbotten",
          "Västerbotten",
          "Västerbotten",
          "Västerbotten",
          "Västerbotten",
          "Västerbotten",
          "Västerbotten",
          "Västerbotten",
          "Västerbotten",
          "Västerbotten",
          "Västerbotten",
          "Västerbotten",
          "Västerbotten",
          "Västerbotten",
          "Västerbotten",
          "Västerbotten",
          "Västerbotten",
          "Västerbotten",
          "Västerbotten",
          "Västerbotten",
          "Västerbotten",
          "Västerbotten",
          "Västerbotten",
          "Västerbotten",
          "Västerbotten",
          "Västerbotten",
          "Västerbotten",
          "Västerbotten",
          "Västerbotten",
          "Västerbotten",
          "Västerbotten",
          "Västerbotten",
          "Västerbotten",
          "Västerbotten",
          "Västerbotten",
          "Västerbotten",
          "Västerbotten",
          "Västerbotten",
          "Västerbotten",
          "Västerbotten",
          "Västerbotten",
          "Västerbotten",
          "Västerbotten",
          "Västerbotten",
          "Västerbotten",
          "Västerbotten",
          "Västerbotten",
          "Västerbotten",
          "Västerbotten",
          "Västerbotten",
          "Västerbotten",
          "Västerbotten",
          "Norrbotten",
          "Norrbotten",
          "Norrbotten",
          "Norrbotten",
          "Norrbotten",
          "Norrbotten",
          "Norrbotten",
          "Norrbotten",
          "Norrbotten",
          "Norrbotten",
          "Norrbotten",
          "Norrbotten",
          "Norrbotten",
          "Norrbotten",
          "Norrbotten",
          "Norrbotten",
          "Norrbotten",
          "Norrbotten",
          "Norrbotten",
          "Norrbotten",
          "Norrbotten",
          "Norrbotten",
          "Norrbotten",
          "Norrbotten",
          "Norrbotten",
          "Norrbotten",
          "Norrbotten",
          "Norrbotten",
          "Norrbotten",
          "Norrbotten",
          "Norrbotten",
          "Norrbotten",
          "Norrbotten",
          "Norrbotten",
          "Norrbotten",
          "Norrbotten",
          "Norrbotten",
          "Norrbotten",
          "Norrbotten",
          "Norrbotten",
          "Norrbotten",
          "Norrbotten",
          "Norrbotten",
          "Norrbotten",
          "Norrbotten",
          "Norrbotten",
          "Norrbotten",
          "Norrbotten",
          "Norrbotten",
          "Norrbotten",
          "Norrbotten",
          "Norrbotten",
          "Norrbotten",
          "Norrbotten",
          "Norrbotten",
          "Norrbotten",
          "Norrbotten",
          "Norrbotten",
          "Norrbotten",
          "Norrbotten",
          "Norrbotten",
          "Norrbotten",
          "Norrbotten",
          "Norrbotten",
          "Norrbotten",
          "Norrbotten",
          "Norrbotten",
          "Norrbotten",
          "Norrbotten",
          "Norrbotten",
          "Norrbotten",
          "Norrbotten",
          "Norrbotten",
          "Norrbotten",
          "Norrbotten",
          "Norrbotten",
          "Norrbotten",
          "Norrbotten",
          "Norrbotten",
          "Norrbotten",
          "Norrbotten",
          "Norrbotten",
          "Norrbotten",
          "Norrbotten",
          "Norrbotten",
          "Norrbotten",
          "Norrbotten",
          "Norrbotten",
          "Norrbotten",
          "Norrbotten",
          "Norrbotten",
          "Norrbotten",
          "Norrbotten",
          "Norrbotten",
          "Norrbotten",
          "Norrbotten",
          "Norrbotten",
          "Norrbotten",
          "Norrbotten",
          "Norrbotten",
          "Norrbotten",
          "Norrbotten",
          "Norrbotten",
          "Norrbotten",
          "Norrbotten",
          "Norrbotten",
          "Norrbotten",
          "Norrbotten",
          "Norrbotten",
          "Norrbotten",
          "Norrbotten",
          "Norrbotten"
         ],
         "xaxis": "x",
         "y": [
          4195,
          5004,
          5329,
          5363,
          3722,
          3799,
          1702,
          321,
          3065,
          3308,
          4677,
          4408,
          2863,
          2579,
          1296,
          235,
          4502,
          4656,
          5751,
          6294,
          4121,
          4474,
          1826,
          358,
          4128,
          4407,
          5776,
          6162,
          4414,
          4067,
          1509,
          278,
          7737,
          8582,
          9084,
          8674,
          6532,
          6082,
          3117,
          666,
          2146,
          2383,
          3870,
          3853,
          2598,
          2491,
          1101,
          221,
          10778,
          11268,
          13494,
          12701,
          8564,
          7034,
          3150,
          676,
          7258,
          7729,
          9435,
          9569,
          6912,
          6024,
          2501,
          471,
          1464,
          1427,
          2006,
          2097,
          1178,
          1426,
          787,
          140,
          8877,
          9718,
          10139,
          9922,
          6869,
          6862,
          2876,
          471,
          4541,
          4523,
          6031,
          6486,
          3894,
          3882,
          2037,
          395,
          2830,
          3121,
          3372,
          3158,
          2366,
          2344,
          883,
          182,
          963,
          1156,
          1423,
          1498,
          974,
          981,
          410,
          47,
          7583,
          6795,
          9596,
          9721,
          6203,
          6696,
          3440,
          811,
          3428,
          2385,
          4071,
          4439,
          2858,
          2968,
          1716,
          524,
          7097,
          7540,
          9212,
          9391,
          6164,
          5451,
          2649,
          605,
          112127,
          137264,
          111177,
          104535,
          85058,
          67014,
          27997,
          8614,
          7813,
          8325,
          8887,
          10728,
          8244,
          6999,
          3651,
          733,
          10274,
          11212,
          14114,
          13226,
          8876,
          8580,
          3618,
          961,
          6217,
          8434,
          5713,
          4994,
          4075,
          3034,
          1182,
          326,
          10932,
          14011,
          8994,
          7859,
          6456,
          5759,
          2608,
          771,
          4596,
          4279,
          5998,
          5862,
          4454,
          4670,
          2298,
          736,
          1044,
          841,
          1502,
          1711,
          1285,
          1449,
          456,
          111,
          5718,
          5745,
          5755,
          7848,
          8077,
          8722,
          3772,
          872,
          4360,
          4646,
          5270,
          5670,
          3825,
          3201,
          1744,
          272,
          2363,
          2632,
          2773,
          3565,
          2926,
          3145,
          1384,
          280,
          2089,
          2151,
          2731,
          2974,
          1884,
          2096,
          783,
          124,
          812,
          881,
          976,
          1231,
          1147,
          1133,
          496,
          114,
          1971,
          2417,
          2771,
          2225,
          1471,
          1393,
          481,
          114,
          1351,
          1396,
          1263,
          1723,
          1780,
          1629,
          811,
          187,
          2082,
          2084,
          2068,
          2626,
          2435,
          2462,
          1145,
          306,
          39571,
          29291,
          25250,
          24047,
          20552,
          19200,
          8130,
          2195,
          4873,
          5000,
          4712,
          5787,
          4852,
          4618,
          2143,
          512,
          2046,
          2132,
          2055,
          2709,
          2979,
          3092,
          1335,
          330,
          860,
          732,
          830,
          1101,
          1148,
          1206,
          475,
          108,
          909,
          1060,
          1212,
          1295,
          1248,
          1386,
          530,
          104,
          5498,
          5565,
          5832,
          6532,
          6137,
          6584,
          3293,
          792,
          957,
          1099,
          1126,
          1326,
          1427,
          1583,
          808,
          177,
          1269,
          1047,
          1368,
          1888,
          2098,
          2267,
          1003,
          214,
          3573,
          3287,
          3321,
          3962,
          3874,
          3751,
          1821,
          509,
          10777,
          10625,
          10813,
          12436,
          10380,
          10186,
          4705,
          1181,
          3111,
          3441,
          4106,
          4531,
          4092,
          4298,
          1770,
          373,
          1139,
          1250,
          1565,
          1782,
          1617,
          1895,
          660,
          129,
          420,
          436,
          530,
          622,
          620,
          738,
          310,
          83,
          271,
          289,
          322,
          433,
          542,
          569,
          235,
          64,
          882,
          924,
          964,
          1257,
          1273,
          1285,
          632,
          171,
          517,
          506,
          497,
          739,
          710,
          734,
          298,
          72,
          1044,
          1078,
          1178,
          1447,
          1373,
          1462,
          741,
          169,
          1960,
          2071,
          2110,
          2641,
          2459,
          2597,
          1269,
          299,
          567,
          573,
          651,
          950,
          1045,
          1267,
          494,
          128,
          27033,
          18884,
          17725,
          17832,
          14536,
          13150,
          6954,
          1885,
          16019,
          15111,
          14987,
          16072,
          13807,
          13054,
          6053,
          1483,
          1103,
          1384,
          1584,
          1845,
          1812,
          1870,
          759,
          172,
          4116,
          4177,
          4513,
          5469,
          5111,
          4859,
          2290,
          593,
          640,
          616,
          651,
          968,
          998,
          1230,
          565,
          142,
          2978,
          3003,
          3160,
          3267,
          2859,
          2939,
          1386,
          359,
          600,
          703,
          641,
          797,
          864,
          727,
          324,
          78,
          858,
          809,
          983,
          1184,
          1005,
          977,
          399,
          130,
          660,
          690,
          745,
          817,
          794,
          930,
          348,
          107,
          1009,
          1564,
          1517,
          1293,
          1117,
          1141,
          472,
          85,
          2597,
          2454,
          2897,
          3745,
          3129,
          2771,
          1430,
          393,
          1180,
          1510,
          1475,
          1624,
          1449,
          1383,
          626,
          166,
          18238,
          14817,
          14616,
          15547,
          12763,
          12566,
          6364,
          1740,
          2966,
          3036,
          2910,
          3619,
          3361,
          3215,
          1495,
          437,
          3244,
          3249,
          3430,
          4235,
          3972,
          3338,
          1768,
          428,
          987,
          951,
          1025,
          1296,
          1192,
          1273,
          618,
          193,
          2577,
          2454,
          2580,
          3270,
          3079,
          3098,
          1553,
          442,
          1732,
          1698,
          1665,
          2009,
          2125,
          2036,
          1007,
          284,
          2002,
          1734,
          1810,
          2216,
          1931,
          2160,
          1209,
          335,
          795,
          779,
          877,
          1074,
          1011,
          1032,
          519,
          159,
          697,
          716,
          840,
          938,
          916,
          1021,
          417,
          113,
          946,
          989,
          1098,
          1441,
          1554,
          1513,
          826,
          246,
          1653,
          1881,
          1922,
          2098,
          2184,
          2040,
          1017,
          292,
          1501,
          1867,
          2015,
          1954,
          1667,
          1626,
          812,
          235,
          788,
          791,
          892,
          1142,
          1088,
          1152,
          589,
          166,
          12962,
          10072,
          9726,
          9873,
          8417,
          8428,
          4057,
          989,
          2406,
          2378,
          2615,
          3448,
          3101,
          3097,
          1597,
          427,
          376,
          385,
          450,
          624,
          777,
          674,
          314,
          83,
          524,
          534,
          606,
          895,
          897,
          991,
          430,
          103,
          1080,
          1415,
          1711,
          1821,
          2009,
          2216,
          860,
          165,
          1078,
          1045,
          1104,
          1689,
          1797,
          1714,
          893,
          240,
          1011,
          1091,
          1179,
          1574,
          1632,
          1663,
          785,
          186,
          745,
          708,
          796,
          1130,
          1181,
          1151,
          611,
          156,
          9556,
          7886,
          7327,
          7983,
          6844,
          6672,
          3277,
          834,
          1746,
          1891,
          1789,
          2377,
          2273,
          2308,
          1267,
          301,
          2581,
          2365,
          2629,
          3248,
          2930,
          3141,
          1633,
          371,
          3194,
          3099,
          3360,
          4461,
          4727,
          5073,
          2477,
          635,
          1482,
          1406,
          1439,
          1837,
          1828,
          1842,
          965,
          235,
          698,
          743,
          886,
          1273,
          1770,
          1970,
          890,
          186,
          6260,
          5727,
          6039,
          7387,
          7806,
          7611,
          3531,
          809,
          1173,
          1097,
          1067,
          1696,
          1503,
          1549,
          937,
          198,
          8031,
          6771,
          7252,
          7596,
          6787,
          7009,
          3485,
          845,
          2455,
          2457,
          2945,
          3398,
          3086,
          3394,
          1780,
          449,
          3137,
          2919,
          2984,
          4075,
          3507,
          3703,
          1975,
          461,
          1602,
          1461,
          1702,
          2144,
          2076,
          2209,
          1057,
          239,
          1169,
          1358,
          1527,
          1681,
          1361,
          1224,
          509,
          128,
          2112,
          2746,
          3486,
          3151,
          1961,
          2296,
          1271,
          225,
          1638,
          1834,
          2057,
          1942,
          1634,
          1476,
          716,
          176,
          2729,
          3058,
          4584,
          5162,
          3682,
          4322,
          1978,
          390,
          1272,
          1300,
          1382,
          1714,
          1509,
          1579,
          729,
          179,
          809,
          750,
          880,
          1124,
          1169,
          1145,
          527,
          145,
          1138,
          1199,
          1462,
          1778,
          1498,
          1383,
          578,
          107,
          2627,
          3353,
          4468,
          4054,
          2628,
          3109,
          1291,
          264,
          1792,
          1904,
          3594,
          3360,
          2133,
          2509,
          1432,
          285,
          1737,
          2464,
          3001,
          2540,
          1977,
          1970,
          829,
          186,
          1416,
          1514,
          1651,
          1952,
          1651,
          1568,
          646,
          151,
          1475,
          1661,
          1835,
          2397,
          2279,
          2081,
          959,
          212,
          1229,
          1491,
          1526,
          1767,
          1772,
          1637,
          735,
          198,
          1322,
          1603,
          1844,
          2117,
          1854,
          1650,
          745,
          193,
          1116,
          1140,
          1207,
          1458,
          1673,
          1604,
          798,
          185,
          986,
          1059,
          1254,
          1548,
          1361,
          1504,
          716,
          146,
          1149,
          1130,
          1193,
          1491,
          1447,
          1529,
          829,
          231,
          606,
          596,
          607,
          824,
          761,
          723,
          376,
          88,
          1560,
          1389,
          1596,
          2013,
          1796,
          1848,
          830,
          217,
          1139,
          1377,
          1605,
          1717,
          1351,
          1338,
          604,
          110,
          1131,
          1104,
          1502,
          1839,
          2095,
          2311,
          1095,
          277,
          37610,
          43267,
          34258,
          31542,
          27077,
          22386,
          10952,
          3086,
          23893,
          13040,
          13346,
          12540,
          10698,
          10314,
          4589,
          1183,
          3705,
          4097,
          4488,
          5069,
          4500,
          4526,
          1955,
          475,
          14357,
          14151,
          14825,
          16640,
          13886,
          12662,
          6022,
          1532,
          1889,
          2072,
          3026,
          3352,
          3077,
          3703,
          1640,
          382,
          3320,
          3386,
          3719,
          4036,
          3190,
          2902,
          1451,
          343,
          2803,
          2737,
          3068,
          3669,
          3946,
          4208,
          1884,
          497,
          3946,
          4172,
          4597,
          5575,
          4751,
          4660,
          2226,
          513,
          8710,
          8391,
          8595,
          9835,
          9032,
          8710,
          4334,
          1097,
          1379,
          1204,
          1455,
          2232,
          2868,
          3210,
          1466,
          346,
          3845,
          4012,
          4371,
          5172,
          4659,
          4862,
          2351,
          678,
          4836,
          4561,
          4856,
          6030,
          5400,
          5544,
          2881,
          801,
          880,
          867,
          954,
          1199,
          1139,
          1050,
          570,
          165,
          11944,
          10730,
          10344,
          11540,
          10229,
          9922,
          5017,
          1263,
          2073,
          2206,
          2489,
          2948,
          3158,
          3194,
          1391,
          356,
          4319,
          4275,
          4437,
          5244,
          5262,
          5225,
          2574,
          679,
          6406,
          6651,
          6859,
          7668,
          7588,
          7646,
          3386,
          908,
          7793,
          7825,
          10497,
          11435,
          8279,
          8259,
          4021,
          914,
          3227,
          3687,
          5400,
          4964,
          3365,
          3041,
          1370,
          326,
          3517,
          4288,
          4858,
          4614,
          3611,
          3070,
          1492,
          416,
          1139,
          917,
          1351,
          1762,
          1633,
          1671,
          736,
          159,
          2562,
          2638,
          3079,
          3410,
          2610,
          2542,
          1301,
          244,
          1248,
          1401,
          1561,
          2019,
          2239,
          2292,
          958,
          209,
          1207,
          1094,
          1383,
          1887,
          2196,
          2290,
          986,
          218,
          676,
          648,
          837,
          1140,
          1459,
          1587,
          585,
          184,
          904,
          979,
          971,
          1195,
          1222,
          1233,
          596,
          158,
          1099,
          1074,
          1207,
          1517,
          1809,
          1829,
          773,
          216,
          459,
          444,
          429,
          552,
          516,
          648,
          346,
          65,
          584,
          557,
          604,
          789,
          831,
          782,
          377,
          86,
          2881,
          3416,
          3787,
          3595,
          2608,
          2792,
          1214,
          225,
          3416,
          4507,
          5653,
          5400,
          3686,
          3665,
          1850,
          397,
          1150,
          1242,
          1243,
          1393,
          1278,
          1220,
          513,
          118,
          844,
          924,
          1113,
          1178,
          982,
          987,
          408,
          89,
          542,
          515,
          548,
          756,
          714,
          690,
          342,
          93,
          447,
          486,
          538,
          662,
          705,
          706,
          324,
          72,
          651,
          616,
          646,
          807,
          868,
          1091,
          446,
          106,
          343,
          322,
          392,
          653,
          787,
          770,
          338,
          83,
          958,
          1017,
          1151,
          1493,
          1333,
          1390,
          640,
          170,
          829,
          710,
          811,
          1152,
          1183,
          1395,
          602,
          211,
          783,
          756,
          738,
          1046,
          1199,
          1174,
          561,
          160,
          1168,
          1404,
          1296,
          1707,
          1514,
          1364,
          554,
          129,
          3127,
          2981,
          3401,
          4127,
          3887,
          3737,
          1775,
          468,
          820,
          892,
          946,
          1307,
          1317,
          1348,
          556,
          130,
          883,
          845,
          852,
          1153,
          1117,
          1105,
          493,
          126,
          1516,
          1385,
          1583,
          1911,
          1970,
          1785,
          867,
          207,
          1061,
          1177,
          1276,
          1717,
          1734,
          1646,
          713,
          156,
          972,
          1027,
          988,
          1339,
          1206,
          1266,
          706,
          158,
          785,
          747,
          804,
          1083,
          1228,
          1139,
          504,
          133,
          75212,
          74822,
          59301,
          58404,
          49487,
          41017,
          18354,
          5096,
          8225,
          8687,
          8626,
          8183,
          6059,
          4979,
          2468,
          626,
          4678,
          5023,
          5162,
          5892,
          4751,
          4491,
          2315,
          547,
          1112,
          1099,
          1288,
          1781,
          2060,
          2086,
          979,
          258,
          5808,
          5598,
          5730,
          6605,
          6152,
          5458,
          2908,
          766,
          1188,
          1286,
          1416,
          1428,
          1439,
          1481,
          673,
          183,
          3833,
          3688,
          3833,
          4790,
          4338,
          4235,
          2216,
          476,
          6824,
          5876,
          5949,
          6867,
          5564,
          5163,
          2586,
          652,
          4021,
          4159,
          4588,
          4570,
          4370,
          4573,
          2085,
          511,
          12690,
          11552,
          11308,
          12659,
          10514,
          9945,
          5116,
          1314,
          2371,
          2230,
          2391,
          2986,
          2759,
          2713,
          1308,
          374,
          1043,
          1022,
          1134,
          1541,
          1550,
          1488,
          813,
          215,
          2519,
          2449,
          2211,
          3023,
          2898,
          3086,
          1618,
          364,
          4433,
          4127,
          4182,
          4983,
          4576,
          4515,
          2182,
          522,
          1870,
          1750,
          1731,
          2383,
          2020,
          2011,
          968,
          230,
          7602,
          6558,
          5470,
          6384,
          5517,
          5165,
          2632,
          653,
          816,
          854,
          883,
          1098,
          1114,
          1220,
          546,
          136,
          1308,
          1194,
          1173,
          1593,
          1471,
          1410,
          763,
          185,
          3224,
          3183,
          3197,
          3748,
          3533,
          3255,
          1824,
          475,
          1060,
          1247,
          1317,
          1409,
          1392,
          1442,
          693,
          147,
          735,
          822,
          797,
          1052,
          1078,
          969,
          492,
          116,
          1146,
          1021,
          1074,
          1423,
          1580,
          1587,
          792,
          201,
          314,
          312,
          308,
          547,
          558,
          609,
          201,
          62,
          1309,
          2022,
          2238,
          2033,
          1717,
          1597,
          733,
          160,
          326,
          300,
          287,
          468,
          467,
          441,
          282,
          88,
          1047,
          1257,
          1186,
          1470,
          1175,
          1354,
          638,
          127,
          797,
          845,
          834,
          1165,
          1106,
          1141,
          544,
          132,
          1006,
          905,
          944,
          1260,
          1167,
          1153,
          557,
          149,
          1386,
          1182,
          1299,
          1732,
          1763,
          1545,
          766,
          205,
          14318,
          10864,
          9988,
          10923,
          9717,
          9029,
          4524,
          1188,
          2342,
          2193,
          2348,
          3082,
          2989,
          3182,
          1463,
          377,
          1083,
          860,
          902,
          1196,
          1293,
          1372,
          654,
          197,
          984,
          915,
          955,
          1508,
          1674,
          1541,
          869,
          204,
          2590,
          2586,
          2629,
          3174,
          3085,
          3190,
          1583,
          458,
          1467,
          1276,
          1322,
          1952,
          1934,
          1963,
          1063,
          276,
          662,
          1023,
          910,
          898,
          861,
          860,
          378,
          94,
          437,
          438,
          472,
          747,
          732,
          753,
          353,
          107,
          1468,
          1626,
          1589,
          1876,
          1751,
          1795,
          772,
          175,
          816,
          678,
          960,
          1181,
          1185,
          1314,
          624,
          130,
          693,
          510,
          496,
          829,
          817,
          925,
          513,
          105,
          337,
          270,
          379,
          544,
          660,
          646,
          336,
          62,
          21774,
          16818,
          16369,
          16548,
          13997,
          13633,
          6061,
          1642,
          2153,
          2414,
          2571,
          2536,
          1998,
          2150,
          991,
          216,
          963,
          910,
          991,
          1386,
          1528,
          1631,
          699,
          144,
          3320,
          2980,
          2958,
          3801,
          3406,
          3557,
          1872,
          434,
          861,
          943,
          1057,
          1246,
          1243,
          1459,
          669,
          116,
          2197,
          2066,
          2188,
          2720,
          2683,
          2902,
          1286,
          346,
          322,
          280,
          338,
          541,
          602,
          661,
          266,
          57,
          830,
          835,
          959,
          1160,
          1110,
          1258,
          571,
          116,
          758,
          771,
          820,
          1070,
          987,
          1028,
          454,
          108,
          1444,
          1555,
          1532,
          1893,
          1737,
          1809,
          986,
          225,
          443,
          489,
          488,
          660,
          730,
          779,
          315,
          94,
          16903,
          16459,
          16195,
          18262,
          14526,
          14260,
          7083,
          1807,
          2026,
          2141,
          2219,
          2684,
          2632,
          2779,
          1243,
          322,
          1034,
          1162,
          1195,
          1506,
          1460,
          1394,
          806,
          194,
          2364,
          2245,
          2324,
          3050,
          2884,
          2910,
          1471,
          399,
          1343,
          1233,
          1269,
          1710,
          1590,
          1810,
          877,
          209,
          629,
          564,
          553,
          817,
          830,
          885,
          430,
          90,
          908,
          881,
          956,
          1244,
          1223,
          1312,
          631,
          149,
          816,
          1015,
          987,
          1247,
          1285,
          1324,
          568,
          129,
          1335,
          1389,
          1515,
          1917,
          2081,
          2337,
          992,
          253,
          942,
          803,
          882,
          1230,
          1464,
          1810,
          836,
          227,
          633,
          568,
          512,
          873,
          865,
          904,
          428,
          109,
          614,
          556,
          646,
          810,
          873,
          946,
          487,
          109,
          790,
          895,
          1007,
          1355,
          1492,
          1551,
          636,
          124,
          1744,
          1816,
          1975,
          2285,
          2530,
          2726,
          1264,
          271,
          6366,
          6524,
          6406,
          6581,
          6545,
          6437,
          3035,
          707,
          5452,
          5297,
          5113,
          5922,
          5255,
          5055,
          2437,
          565,
          889,
          1145,
          1157,
          1286,
          1439,
          1447,
          602,
          144,
          1399,
          1366,
          1367,
          1854,
          1941,
          1950,
          899,
          208,
          2045,
          2045,
          2131,
          2586,
          2795,
          2771,
          1366,
          342,
          2249,
          2563,
          2427,
          2871,
          2976,
          3149,
          1476,
          437,
          411,
          450,
          500,
          716,
          802,
          866,
          278,
          98,
          878,
          789,
          773,
          1203,
          1210,
          1217,
          538,
          129,
          998,
          1099,
          1010,
          1402,
          1445,
          1553,
          726,
          184,
          683,
          715,
          732,
          1142,
          1189,
          1267,
          499,
          110,
          1621,
          1575,
          1684,
          2170,
          2380,
          2514,
          1159,
          275,
          11466,
          10612,
          10700,
          11952,
          10321,
          10054,
          4848,
          1042,
          3707,
          3756,
          3858,
          4904,
          4335,
          4485,
          2245,
          486,
          2070,
          2051,
          2246,
          3070,
          3248,
          3393,
          1519,
          381,
          2311,
          2401,
          2549,
          3084,
          3138,
          3362,
          1570,
          383,
          3467,
          3371,
          3635,
          4377,
          4574,
          4826,
          2089,
          472,
          860,
          746,
          822,
          1196,
          1315,
          1181,
          606,
          120,
          1786,
          1640,
          1917,
          2275,
          1932,
          2096,
          922,
          167,
          2428,
          2462,
          2464,
          2856,
          2909,
          3262,
          1509,
          298,
          10834,
          10263,
          10737,
          12124,
          10388,
          10340,
          5073,
          1083,
          1512,
          1397,
          1551,
          2265,
          2487,
          2488,
          1129,
          262,
          1562,
          1570,
          1609,
          2155,
          2570,
          2439,
          1259,
          274,
          5375,
          5508,
          5899,
          6607,
          6522,
          6555,
          3231,
          718,
          388,
          455,
          399,
          652,
          709,
          681,
          382,
          81,
          450,
          432,
          513,
          813,
          863,
          878,
          343,
          93,
          1155,
          1506,
          1848,
          1775,
          1647,
          1663,
          632,
          150,
          938,
          928,
          958,
          1297,
          1575,
          1609,
          793,
          185,
          1386,
          1515,
          1443,
          1346,
          1253,
          950,
          435,
          96,
          535,
          598,
          539,
          813,
          940,
          954,
          472,
          122,
          904,
          900,
          875,
          1252,
          1365,
          1423,
          688,
          172,
          7507,
          7060,
          6752,
          7005,
          6655,
          6692,
          3069,
          722,
          703,
          577,
          685,
          863,
          891,
          949,
          489,
          115,
          227,
          226,
          197,
          273,
          284,
          320,
          180,
          68,
          474,
          498,
          551,
          553,
          692,
          723,
          332,
          105,
          550,
          739,
          624,
          754,
          979,
          848,
          376,
          112,
          328,
          370,
          347,
          488,
          570,
          541,
          260,
          64,
          260,
          246,
          255,
          320,
          450,
          399,
          213,
          46,
          495,
          467,
          514,
          739,
          838,
          781,
          413,
          101,
          217,
          206,
          199,
          305,
          362,
          305,
          199,
          38,
          197,
          211,
          222,
          285,
          387,
          375,
          199,
          59,
          907,
          1064,
          954,
          1009,
          962,
          906,
          474,
          120,
          666,
          566,
          563,
          684,
          912,
          808,
          417,
          97,
          271,
          219,
          256,
          296,
          389,
          395,
          208,
          55,
          22607,
          16964,
          14667,
          13521,
          11646,
          10911,
          4874,
          1079,
          1256,
          1274,
          1090,
          1411,
          1510,
          1413,
          757,
          172,
          7837,
          7608,
          7841,
          8697,
          8890,
          8232,
          4173,
          895,
          573,
          603,
          561,
          717,
          815,
          787,
          447,
          87,
          233,
          266,
          224,
          335,
          396,
          354,
          198,
          53,
          441,
          438,
          406,
          615,
          701,
          662,
          323,
          73,
          258,
          271,
          214,
          368,
          526,
          520,
          299,
          63,
          1441,
          1350,
          1489,
          2040,
          2119,
          2144,
          1164,
          222,
          363,
          265,
          306,
          487,
          755,
          716,
          342,
          76,
          428,
          396,
          393,
          655,
          939,
          926,
          540,
          76,
          1695,
          1909,
          1574,
          2118,
          2296,
          1924,
          1163,
          250,
          788,
          721,
          755,
          940,
          999,
          987,
          512,
          135,
          11046,
          8463,
          8184,
          9700,
          8324,
          7734,
          3942,
          845,
          4786,
          4454,
          4547,
          5183,
          4966,
          5054,
          2195,
          447,
          3198,
          2831,
          2854,
          3305,
          3475,
          3392,
          1563,
          378,
          758,
          669,
          771,
          1042,
          1367,
          1334,
          631,
          98,
          2502,
          2419,
          2113,
          2916,
          2596,
          2159,
          1233,
          222
         ],
         "yaxis": "y"
        },
        {
         "alignmentgroup": "True",
         "bingroup": "x",
         "histfunc": "sum",
         "hovertemplate": "Variable=Antal färdigvaccinerade<br>Län=%{x}<br>sum of value=%{y}<extra></extra>",
         "legendgroup": "Antal färdigvaccinerade",
         "marker": {
          "color": "#EF553B",
          "pattern": {
           "shape": ""
          }
         },
         "name": "Antal färdigvaccinerade",
         "offsetgroup": "Antal färdigvaccinerade",
         "orientation": "v",
         "showlegend": true,
         "type": "histogram",
         "x": [
          "Stockholm",
          "Stockholm",
          "Stockholm",
          "Stockholm",
          "Stockholm",
          "Stockholm",
          "Stockholm",
          "Stockholm",
          "Stockholm",
          "Stockholm",
          "Stockholm",
          "Stockholm",
          "Stockholm",
          "Stockholm",
          "Stockholm",
          "Stockholm",
          "Stockholm",
          "Stockholm",
          "Stockholm",
          "Stockholm",
          "Stockholm",
          "Stockholm",
          "Stockholm",
          "Stockholm",
          "Stockholm",
          "Stockholm",
          "Stockholm",
          "Stockholm",
          "Stockholm",
          "Stockholm",
          "Stockholm",
          "Stockholm",
          "Stockholm",
          "Stockholm",
          "Stockholm",
          "Stockholm",
          "Stockholm",
          "Stockholm",
          "Stockholm",
          "Stockholm",
          "Stockholm",
          "Stockholm",
          "Stockholm",
          "Stockholm",
          "Stockholm",
          "Stockholm",
          "Stockholm",
          "Stockholm",
          "Stockholm",
          "Stockholm",
          "Stockholm",
          "Stockholm",
          "Stockholm",
          "Stockholm",
          "Stockholm",
          "Stockholm",
          "Stockholm",
          "Stockholm",
          "Stockholm",
          "Stockholm",
          "Stockholm",
          "Stockholm",
          "Stockholm",
          "Stockholm",
          "Stockholm",
          "Stockholm",
          "Stockholm",
          "Stockholm",
          "Stockholm",
          "Stockholm",
          "Stockholm",
          "Stockholm",
          "Stockholm",
          "Stockholm",
          "Stockholm",
          "Stockholm",
          "Stockholm",
          "Stockholm",
          "Stockholm",
          "Stockholm",
          "Stockholm",
          "Stockholm",
          "Stockholm",
          "Stockholm",
          "Stockholm",
          "Stockholm",
          "Stockholm",
          "Stockholm",
          "Stockholm",
          "Stockholm",
          "Stockholm",
          "Stockholm",
          "Stockholm",
          "Stockholm",
          "Stockholm",
          "Stockholm",
          "Stockholm",
          "Stockholm",
          "Stockholm",
          "Stockholm",
          "Stockholm",
          "Stockholm",
          "Stockholm",
          "Stockholm",
          "Stockholm",
          "Stockholm",
          "Stockholm",
          "Stockholm",
          "Stockholm",
          "Stockholm",
          "Stockholm",
          "Stockholm",
          "Stockholm",
          "Stockholm",
          "Stockholm",
          "Stockholm",
          "Stockholm",
          "Stockholm",
          "Stockholm",
          "Stockholm",
          "Stockholm",
          "Stockholm",
          "Stockholm",
          "Stockholm",
          "Stockholm",
          "Stockholm",
          "Stockholm",
          "Stockholm",
          "Stockholm",
          "Stockholm",
          "Stockholm",
          "Stockholm",
          "Stockholm",
          "Stockholm",
          "Stockholm",
          "Stockholm",
          "Stockholm",
          "Stockholm",
          "Stockholm",
          "Stockholm",
          "Stockholm",
          "Stockholm",
          "Stockholm",
          "Stockholm",
          "Stockholm",
          "Stockholm",
          "Stockholm",
          "Stockholm",
          "Stockholm",
          "Stockholm",
          "Stockholm",
          "Stockholm",
          "Stockholm",
          "Stockholm",
          "Stockholm",
          "Stockholm",
          "Stockholm",
          "Stockholm",
          "Stockholm",
          "Stockholm",
          "Stockholm",
          "Stockholm",
          "Stockholm",
          "Stockholm",
          "Stockholm",
          "Stockholm",
          "Stockholm",
          "Stockholm",
          "Stockholm",
          "Stockholm",
          "Stockholm",
          "Stockholm",
          "Stockholm",
          "Stockholm",
          "Stockholm",
          "Stockholm",
          "Stockholm",
          "Stockholm",
          "Stockholm",
          "Stockholm",
          "Stockholm",
          "Stockholm",
          "Stockholm",
          "Stockholm",
          "Stockholm",
          "Stockholm",
          "Stockholm",
          "Stockholm",
          "Stockholm",
          "Stockholm",
          "Stockholm",
          "Stockholm",
          "Stockholm",
          "Stockholm",
          "Stockholm",
          "Stockholm",
          "Stockholm",
          "Stockholm",
          "Stockholm",
          "Stockholm",
          "Stockholm",
          "Stockholm",
          "Stockholm",
          "Stockholm",
          "Stockholm",
          "Stockholm",
          "Stockholm",
          "Stockholm",
          "Uppsala",
          "Uppsala",
          "Uppsala",
          "Uppsala",
          "Uppsala",
          "Uppsala",
          "Uppsala",
          "Uppsala",
          "Uppsala",
          "Uppsala",
          "Uppsala",
          "Uppsala",
          "Uppsala",
          "Uppsala",
          "Uppsala",
          "Uppsala",
          "Uppsala",
          "Uppsala",
          "Uppsala",
          "Uppsala",
          "Uppsala",
          "Uppsala",
          "Uppsala",
          "Uppsala",
          "Uppsala",
          "Uppsala",
          "Uppsala",
          "Uppsala",
          "Uppsala",
          "Uppsala",
          "Uppsala",
          "Uppsala",
          "Uppsala",
          "Uppsala",
          "Uppsala",
          "Uppsala",
          "Uppsala",
          "Uppsala",
          "Uppsala",
          "Uppsala",
          "Uppsala",
          "Uppsala",
          "Uppsala",
          "Uppsala",
          "Uppsala",
          "Uppsala",
          "Uppsala",
          "Uppsala",
          "Uppsala",
          "Uppsala",
          "Uppsala",
          "Uppsala",
          "Uppsala",
          "Uppsala",
          "Uppsala",
          "Uppsala",
          "Uppsala",
          "Uppsala",
          "Uppsala",
          "Uppsala",
          "Uppsala",
          "Uppsala",
          "Uppsala",
          "Uppsala",
          "Södermanland",
          "Södermanland",
          "Södermanland",
          "Södermanland",
          "Södermanland",
          "Södermanland",
          "Södermanland",
          "Södermanland",
          "Södermanland",
          "Södermanland",
          "Södermanland",
          "Södermanland",
          "Södermanland",
          "Södermanland",
          "Södermanland",
          "Södermanland",
          "Södermanland",
          "Södermanland",
          "Södermanland",
          "Södermanland",
          "Södermanland",
          "Södermanland",
          "Södermanland",
          "Södermanland",
          "Södermanland",
          "Södermanland",
          "Södermanland",
          "Södermanland",
          "Södermanland",
          "Södermanland",
          "Södermanland",
          "Södermanland",
          "Södermanland",
          "Södermanland",
          "Södermanland",
          "Södermanland",
          "Södermanland",
          "Södermanland",
          "Södermanland",
          "Södermanland",
          "Södermanland",
          "Södermanland",
          "Södermanland",
          "Södermanland",
          "Södermanland",
          "Södermanland",
          "Södermanland",
          "Södermanland",
          "Södermanland",
          "Södermanland",
          "Södermanland",
          "Södermanland",
          "Södermanland",
          "Södermanland",
          "Södermanland",
          "Södermanland",
          "Södermanland",
          "Södermanland",
          "Södermanland",
          "Södermanland",
          "Södermanland",
          "Södermanland",
          "Södermanland",
          "Södermanland",
          "Södermanland",
          "Södermanland",
          "Södermanland",
          "Södermanland",
          "Södermanland",
          "Södermanland",
          "Södermanland",
          "Södermanland",
          "Östergötland",
          "Östergötland",
          "Östergötland",
          "Östergötland",
          "Östergötland",
          "Östergötland",
          "Östergötland",
          "Östergötland",
          "Östergötland",
          "Östergötland",
          "Östergötland",
          "Östergötland",
          "Östergötland",
          "Östergötland",
          "Östergötland",
          "Östergötland",
          "Östergötland",
          "Östergötland",
          "Östergötland",
          "Östergötland",
          "Östergötland",
          "Östergötland",
          "Östergötland",
          "Östergötland",
          "Östergötland",
          "Östergötland",
          "Östergötland",
          "Östergötland",
          "Östergötland",
          "Östergötland",
          "Östergötland",
          "Östergötland",
          "Östergötland",
          "Östergötland",
          "Östergötland",
          "Östergötland",
          "Östergötland",
          "Östergötland",
          "Östergötland",
          "Östergötland",
          "Östergötland",
          "Östergötland",
          "Östergötland",
          "Östergötland",
          "Östergötland",
          "Östergötland",
          "Östergötland",
          "Östergötland",
          "Östergötland",
          "Östergötland",
          "Östergötland",
          "Östergötland",
          "Östergötland",
          "Östergötland",
          "Östergötland",
          "Östergötland",
          "Östergötland",
          "Östergötland",
          "Östergötland",
          "Östergötland",
          "Östergötland",
          "Östergötland",
          "Östergötland",
          "Östergötland",
          "Östergötland",
          "Östergötland",
          "Östergötland",
          "Östergötland",
          "Östergötland",
          "Östergötland",
          "Östergötland",
          "Östergötland",
          "Östergötland",
          "Östergötland",
          "Östergötland",
          "Östergötland",
          "Östergötland",
          "Östergötland",
          "Östergötland",
          "Östergötland",
          "Östergötland",
          "Östergötland",
          "Östergötland",
          "Östergötland",
          "Östergötland",
          "Östergötland",
          "Östergötland",
          "Östergötland",
          "Östergötland",
          "Östergötland",
          "Östergötland",
          "Östergötland",
          "Östergötland",
          "Östergötland",
          "Östergötland",
          "Östergötland",
          "Östergötland",
          "Östergötland",
          "Östergötland",
          "Östergötland",
          "Östergötland",
          "Östergötland",
          "Östergötland",
          "Östergötland",
          "Jönköping",
          "Jönköping",
          "Jönköping",
          "Jönköping",
          "Jönköping",
          "Jönköping",
          "Jönköping",
          "Jönköping",
          "Jönköping",
          "Jönköping",
          "Jönköping",
          "Jönköping",
          "Jönköping",
          "Jönköping",
          "Jönköping",
          "Jönköping",
          "Jönköping",
          "Jönköping",
          "Jönköping",
          "Jönköping",
          "Jönköping",
          "Jönköping",
          "Jönköping",
          "Jönköping",
          "Jönköping",
          "Jönköping",
          "Jönköping",
          "Jönköping",
          "Jönköping",
          "Jönköping",
          "Jönköping",
          "Jönköping",
          "Jönköping",
          "Jönköping",
          "Jönköping",
          "Jönköping",
          "Jönköping",
          "Jönköping",
          "Jönköping",
          "Jönköping",
          "Jönköping",
          "Jönköping",
          "Jönköping",
          "Jönköping",
          "Jönköping",
          "Jönköping",
          "Jönköping",
          "Jönköping",
          "Jönköping",
          "Jönköping",
          "Jönköping",
          "Jönköping",
          "Jönköping",
          "Jönköping",
          "Jönköping",
          "Jönköping",
          "Jönköping",
          "Jönköping",
          "Jönköping",
          "Jönköping",
          "Jönköping",
          "Jönköping",
          "Jönköping",
          "Jönköping",
          "Jönköping",
          "Jönköping",
          "Jönköping",
          "Jönköping",
          "Jönköping",
          "Jönköping",
          "Jönköping",
          "Jönköping",
          "Jönköping",
          "Jönköping",
          "Jönköping",
          "Jönköping",
          "Jönköping",
          "Jönköping",
          "Jönköping",
          "Jönköping",
          "Jönköping",
          "Jönköping",
          "Jönköping",
          "Jönköping",
          "Jönköping",
          "Jönköping",
          "Jönköping",
          "Jönköping",
          "Jönköping",
          "Jönköping",
          "Jönköping",
          "Jönköping",
          "Jönköping",
          "Jönköping",
          "Jönköping",
          "Jönköping",
          "Jönköping",
          "Jönköping",
          "Jönköping",
          "Jönköping",
          "Jönköping",
          "Jönköping",
          "Jönköping",
          "Jönköping",
          "Kronoberg",
          "Kronoberg",
          "Kronoberg",
          "Kronoberg",
          "Kronoberg",
          "Kronoberg",
          "Kronoberg",
          "Kronoberg",
          "Kronoberg",
          "Kronoberg",
          "Kronoberg",
          "Kronoberg",
          "Kronoberg",
          "Kronoberg",
          "Kronoberg",
          "Kronoberg",
          "Kronoberg",
          "Kronoberg",
          "Kronoberg",
          "Kronoberg",
          "Kronoberg",
          "Kronoberg",
          "Kronoberg",
          "Kronoberg",
          "Kronoberg",
          "Kronoberg",
          "Kronoberg",
          "Kronoberg",
          "Kronoberg",
          "Kronoberg",
          "Kronoberg",
          "Kronoberg",
          "Kronoberg",
          "Kronoberg",
          "Kronoberg",
          "Kronoberg",
          "Kronoberg",
          "Kronoberg",
          "Kronoberg",
          "Kronoberg",
          "Kronoberg",
          "Kronoberg",
          "Kronoberg",
          "Kronoberg",
          "Kronoberg",
          "Kronoberg",
          "Kronoberg",
          "Kronoberg",
          "Kronoberg",
          "Kronoberg",
          "Kronoberg",
          "Kronoberg",
          "Kronoberg",
          "Kronoberg",
          "Kronoberg",
          "Kronoberg",
          "Kronoberg",
          "Kronoberg",
          "Kronoberg",
          "Kronoberg",
          "Kronoberg",
          "Kronoberg",
          "Kronoberg",
          "Kronoberg",
          "Kalmar",
          "Kalmar",
          "Kalmar",
          "Kalmar",
          "Kalmar",
          "Kalmar",
          "Kalmar",
          "Kalmar",
          "Kalmar",
          "Kalmar",
          "Kalmar",
          "Kalmar",
          "Kalmar",
          "Kalmar",
          "Kalmar",
          "Kalmar",
          "Kalmar",
          "Kalmar",
          "Kalmar",
          "Kalmar",
          "Kalmar",
          "Kalmar",
          "Kalmar",
          "Kalmar",
          "Kalmar",
          "Kalmar",
          "Kalmar",
          "Kalmar",
          "Kalmar",
          "Kalmar",
          "Kalmar",
          "Kalmar",
          "Kalmar",
          "Kalmar",
          "Kalmar",
          "Kalmar",
          "Kalmar",
          "Kalmar",
          "Kalmar",
          "Kalmar",
          "Kalmar",
          "Kalmar",
          "Kalmar",
          "Kalmar",
          "Kalmar",
          "Kalmar",
          "Kalmar",
          "Kalmar",
          "Kalmar",
          "Kalmar",
          "Kalmar",
          "Kalmar",
          "Kalmar",
          "Kalmar",
          "Kalmar",
          "Kalmar",
          "Kalmar",
          "Kalmar",
          "Kalmar",
          "Kalmar",
          "Kalmar",
          "Kalmar",
          "Kalmar",
          "Kalmar",
          "Kalmar",
          "Kalmar",
          "Kalmar",
          "Kalmar",
          "Kalmar",
          "Kalmar",
          "Kalmar",
          "Kalmar",
          "Kalmar",
          "Kalmar",
          "Kalmar",
          "Kalmar",
          "Kalmar",
          "Kalmar",
          "Kalmar",
          "Kalmar",
          "Kalmar",
          "Kalmar",
          "Kalmar",
          "Kalmar",
          "Kalmar",
          "Kalmar",
          "Kalmar",
          "Kalmar",
          "Kalmar",
          "Kalmar",
          "Kalmar",
          "Kalmar",
          "Kalmar",
          "Kalmar",
          "Kalmar",
          "Kalmar",
          "Gotland",
          "Gotland",
          "Gotland",
          "Gotland",
          "Gotland",
          "Gotland",
          "Gotland",
          "Gotland",
          "Blekinge",
          "Blekinge",
          "Blekinge",
          "Blekinge",
          "Blekinge",
          "Blekinge",
          "Blekinge",
          "Blekinge",
          "Blekinge",
          "Blekinge",
          "Blekinge",
          "Blekinge",
          "Blekinge",
          "Blekinge",
          "Blekinge",
          "Blekinge",
          "Blekinge",
          "Blekinge",
          "Blekinge",
          "Blekinge",
          "Blekinge",
          "Blekinge",
          "Blekinge",
          "Blekinge",
          "Blekinge",
          "Blekinge",
          "Blekinge",
          "Blekinge",
          "Blekinge",
          "Blekinge",
          "Blekinge",
          "Blekinge",
          "Blekinge",
          "Blekinge",
          "Blekinge",
          "Blekinge",
          "Blekinge",
          "Blekinge",
          "Blekinge",
          "Blekinge",
          "Skåne",
          "Skåne",
          "Skåne",
          "Skåne",
          "Skåne",
          "Skåne",
          "Skåne",
          "Skåne",
          "Skåne",
          "Skåne",
          "Skåne",
          "Skåne",
          "Skåne",
          "Skåne",
          "Skåne",
          "Skåne",
          "Skåne",
          "Skåne",
          "Skåne",
          "Skåne",
          "Skåne",
          "Skåne",
          "Skåne",
          "Skåne",
          "Skåne",
          "Skåne",
          "Skåne",
          "Skåne",
          "Skåne",
          "Skåne",
          "Skåne",
          "Skåne",
          "Skåne",
          "Skåne",
          "Skåne",
          "Skåne",
          "Skåne",
          "Skåne",
          "Skåne",
          "Skåne",
          "Skåne",
          "Skåne",
          "Skåne",
          "Skåne",
          "Skåne",
          "Skåne",
          "Skåne",
          "Skåne",
          "Skåne",
          "Skåne",
          "Skåne",
          "Skåne",
          "Skåne",
          "Skåne",
          "Skåne",
          "Skåne",
          "Skåne",
          "Skåne",
          "Skåne",
          "Skåne",
          "Skåne",
          "Skåne",
          "Skåne",
          "Skåne",
          "Skåne",
          "Skåne",
          "Skåne",
          "Skåne",
          "Skåne",
          "Skåne",
          "Skåne",
          "Skåne",
          "Skåne",
          "Skåne",
          "Skåne",
          "Skåne",
          "Skåne",
          "Skåne",
          "Skåne",
          "Skåne",
          "Skåne",
          "Skåne",
          "Skåne",
          "Skåne",
          "Skåne",
          "Skåne",
          "Skåne",
          "Skåne",
          "Skåne",
          "Skåne",
          "Skåne",
          "Skåne",
          "Skåne",
          "Skåne",
          "Skåne",
          "Skåne",
          "Skåne",
          "Skåne",
          "Skåne",
          "Skåne",
          "Skåne",
          "Skåne",
          "Skåne",
          "Skåne",
          "Skåne",
          "Skåne",
          "Skåne",
          "Skåne",
          "Skåne",
          "Skåne",
          "Skåne",
          "Skåne",
          "Skåne",
          "Skåne",
          "Skåne",
          "Skåne",
          "Skåne",
          "Skåne",
          "Skåne",
          "Skåne",
          "Skåne",
          "Skåne",
          "Skåne",
          "Skåne",
          "Skåne",
          "Skåne",
          "Skåne",
          "Skåne",
          "Skåne",
          "Skåne",
          "Skåne",
          "Skåne",
          "Skåne",
          "Skåne",
          "Skåne",
          "Skåne",
          "Skåne",
          "Skåne",
          "Skåne",
          "Skåne",
          "Skåne",
          "Skåne",
          "Skåne",
          "Skåne",
          "Skåne",
          "Skåne",
          "Skåne",
          "Skåne",
          "Skåne",
          "Skåne",
          "Skåne",
          "Skåne",
          "Skåne",
          "Skåne",
          "Skåne",
          "Skåne",
          "Skåne",
          "Skåne",
          "Skåne",
          "Skåne",
          "Skåne",
          "Skåne",
          "Skåne",
          "Skåne",
          "Skåne",
          "Skåne",
          "Skåne",
          "Skåne",
          "Skåne",
          "Skåne",
          "Skåne",
          "Skåne",
          "Skåne",
          "Skåne",
          "Skåne",
          "Skåne",
          "Skåne",
          "Skåne",
          "Skåne",
          "Skåne",
          "Skåne",
          "Skåne",
          "Skåne",
          "Skåne",
          "Skåne",
          "Skåne",
          "Skåne",
          "Skåne",
          "Skåne",
          "Skåne",
          "Skåne",
          "Skåne",
          "Skåne",
          "Skåne",
          "Skåne",
          "Skåne",
          "Skåne",
          "Skåne",
          "Skåne",
          "Skåne",
          "Skåne",
          "Skåne",
          "Skåne",
          "Skåne",
          "Skåne",
          "Skåne",
          "Skåne",
          "Skåne",
          "Skåne",
          "Skåne",
          "Skåne",
          "Skåne",
          "Skåne",
          "Skåne",
          "Skåne",
          "Skåne",
          "Skåne",
          "Skåne",
          "Skåne",
          "Skåne",
          "Skåne",
          "Skåne",
          "Skåne",
          "Skåne",
          "Skåne",
          "Skåne",
          "Skåne",
          "Skåne",
          "Skåne",
          "Skåne",
          "Skåne",
          "Skåne",
          "Skåne",
          "Skåne",
          "Skåne",
          "Skåne",
          "Skåne",
          "Skåne",
          "Skåne",
          "Skåne",
          "Skåne",
          "Skåne",
          "Skåne",
          "Skåne",
          "Skåne",
          "Skåne",
          "Skåne",
          "Skåne",
          "Skåne",
          "Skåne",
          "Skåne",
          "Skåne",
          "Skåne",
          "Skåne",
          "Skåne",
          "Skåne",
          "Skåne",
          "Skåne",
          "Skåne",
          "Skåne",
          "Skåne",
          "Skåne",
          "Skåne",
          "Skåne",
          "Halland",
          "Halland",
          "Halland",
          "Halland",
          "Halland",
          "Halland",
          "Halland",
          "Halland",
          "Halland",
          "Halland",
          "Halland",
          "Halland",
          "Halland",
          "Halland",
          "Halland",
          "Halland",
          "Halland",
          "Halland",
          "Halland",
          "Halland",
          "Halland",
          "Halland",
          "Halland",
          "Halland",
          "Halland",
          "Halland",
          "Halland",
          "Halland",
          "Halland",
          "Halland",
          "Halland",
          "Halland",
          "Halland",
          "Halland",
          "Halland",
          "Halland",
          "Halland",
          "Halland",
          "Halland",
          "Halland",
          "Halland",
          "Halland",
          "Halland",
          "Halland",
          "Halland",
          "Halland",
          "Halland",
          "Halland",
          "Västra Götaland",
          "Västra Götaland",
          "Västra Götaland",
          "Västra Götaland",
          "Västra Götaland",
          "Västra Götaland",
          "Västra Götaland",
          "Västra Götaland",
          "Västra Götaland",
          "Västra Götaland",
          "Västra Götaland",
          "Västra Götaland",
          "Västra Götaland",
          "Västra Götaland",
          "Västra Götaland",
          "Västra Götaland",
          "Västra Götaland",
          "Västra Götaland",
          "Västra Götaland",
          "Västra Götaland",
          "Västra Götaland",
          "Västra Götaland",
          "Västra Götaland",
          "Västra Götaland",
          "Västra Götaland",
          "Västra Götaland",
          "Västra Götaland",
          "Västra Götaland",
          "Västra Götaland",
          "Västra Götaland",
          "Västra Götaland",
          "Västra Götaland",
          "Västra Götaland",
          "Västra Götaland",
          "Västra Götaland",
          "Västra Götaland",
          "Västra Götaland",
          "Västra Götaland",
          "Västra Götaland",
          "Västra Götaland",
          "Västra Götaland",
          "Västra Götaland",
          "Västra Götaland",
          "Västra Götaland",
          "Västra Götaland",
          "Västra Götaland",
          "Västra Götaland",
          "Västra Götaland",
          "Västra Götaland",
          "Västra Götaland",
          "Västra Götaland",
          "Västra Götaland",
          "Västra Götaland",
          "Västra Götaland",
          "Västra Götaland",
          "Västra Götaland",
          "Västra Götaland",
          "Västra Götaland",
          "Västra Götaland",
          "Västra Götaland",
          "Västra Götaland",
          "Västra Götaland",
          "Västra Götaland",
          "Västra Götaland",
          "Västra Götaland",
          "Västra Götaland",
          "Västra Götaland",
          "Västra Götaland",
          "Västra Götaland",
          "Västra Götaland",
          "Västra Götaland",
          "Västra Götaland",
          "Västra Götaland",
          "Västra Götaland",
          "Västra Götaland",
          "Västra Götaland",
          "Västra Götaland",
          "Västra Götaland",
          "Västra Götaland",
          "Västra Götaland",
          "Västra Götaland",
          "Västra Götaland",
          "Västra Götaland",
          "Västra Götaland",
          "Västra Götaland",
          "Västra Götaland",
          "Västra Götaland",
          "Västra Götaland",
          "Västra Götaland",
          "Västra Götaland",
          "Västra Götaland",
          "Västra Götaland",
          "Västra Götaland",
          "Västra Götaland",
          "Västra Götaland",
          "Västra Götaland",
          "Västra Götaland",
          "Västra Götaland",
          "Västra Götaland",
          "Västra Götaland",
          "Västra Götaland",
          "Västra Götaland",
          "Västra Götaland",
          "Västra Götaland",
          "Västra Götaland",
          "Västra Götaland",
          "Västra Götaland",
          "Västra Götaland",
          "Västra Götaland",
          "Västra Götaland",
          "Västra Götaland",
          "Västra Götaland",
          "Västra Götaland",
          "Västra Götaland",
          "Västra Götaland",
          "Västra Götaland",
          "Västra Götaland",
          "Västra Götaland",
          "Västra Götaland",
          "Västra Götaland",
          "Västra Götaland",
          "Västra Götaland",
          "Västra Götaland",
          "Västra Götaland",
          "Västra Götaland",
          "Västra Götaland",
          "Västra Götaland",
          "Västra Götaland",
          "Västra Götaland",
          "Västra Götaland",
          "Västra Götaland",
          "Västra Götaland",
          "Västra Götaland",
          "Västra Götaland",
          "Västra Götaland",
          "Västra Götaland",
          "Västra Götaland",
          "Västra Götaland",
          "Västra Götaland",
          "Västra Götaland",
          "Västra Götaland",
          "Västra Götaland",
          "Västra Götaland",
          "Västra Götaland",
          "Västra Götaland",
          "Västra Götaland",
          "Västra Götaland",
          "Västra Götaland",
          "Västra Götaland",
          "Västra Götaland",
          "Västra Götaland",
          "Västra Götaland",
          "Västra Götaland",
          "Västra Götaland",
          "Västra Götaland",
          "Västra Götaland",
          "Västra Götaland",
          "Västra Götaland",
          "Västra Götaland",
          "Västra Götaland",
          "Västra Götaland",
          "Västra Götaland",
          "Västra Götaland",
          "Västra Götaland",
          "Västra Götaland",
          "Västra Götaland",
          "Västra Götaland",
          "Västra Götaland",
          "Västra Götaland",
          "Västra Götaland",
          "Västra Götaland",
          "Västra Götaland",
          "Västra Götaland",
          "Västra Götaland",
          "Västra Götaland",
          "Västra Götaland",
          "Västra Götaland",
          "Västra Götaland",
          "Västra Götaland",
          "Västra Götaland",
          "Västra Götaland",
          "Västra Götaland",
          "Västra Götaland",
          "Västra Götaland",
          "Västra Götaland",
          "Västra Götaland",
          "Västra Götaland",
          "Västra Götaland",
          "Västra Götaland",
          "Västra Götaland",
          "Västra Götaland",
          "Västra Götaland",
          "Västra Götaland",
          "Västra Götaland",
          "Västra Götaland",
          "Västra Götaland",
          "Västra Götaland",
          "Västra Götaland",
          "Västra Götaland",
          "Västra Götaland",
          "Västra Götaland",
          "Västra Götaland",
          "Västra Götaland",
          "Västra Götaland",
          "Västra Götaland",
          "Västra Götaland",
          "Västra Götaland",
          "Västra Götaland",
          "Västra Götaland",
          "Västra Götaland",
          "Västra Götaland",
          "Västra Götaland",
          "Västra Götaland",
          "Västra Götaland",
          "Västra Götaland",
          "Västra Götaland",
          "Västra Götaland",
          "Västra Götaland",
          "Västra Götaland",
          "Västra Götaland",
          "Västra Götaland",
          "Västra Götaland",
          "Västra Götaland",
          "Västra Götaland",
          "Västra Götaland",
          "Västra Götaland",
          "Västra Götaland",
          "Västra Götaland",
          "Västra Götaland",
          "Västra Götaland",
          "Västra Götaland",
          "Västra Götaland",
          "Västra Götaland",
          "Västra Götaland",
          "Västra Götaland",
          "Västra Götaland",
          "Västra Götaland",
          "Västra Götaland",
          "Västra Götaland",
          "Västra Götaland",
          "Västra Götaland",
          "Västra Götaland",
          "Västra Götaland",
          "Västra Götaland",
          "Västra Götaland",
          "Västra Götaland",
          "Västra Götaland",
          "Västra Götaland",
          "Västra Götaland",
          "Västra Götaland",
          "Västra Götaland",
          "Västra Götaland",
          "Västra Götaland",
          "Västra Götaland",
          "Västra Götaland",
          "Västra Götaland",
          "Västra Götaland",
          "Västra Götaland",
          "Västra Götaland",
          "Västra Götaland",
          "Västra Götaland",
          "Västra Götaland",
          "Västra Götaland",
          "Västra Götaland",
          "Västra Götaland",
          "Västra Götaland",
          "Västra Götaland",
          "Västra Götaland",
          "Västra Götaland",
          "Västra Götaland",
          "Västra Götaland",
          "Västra Götaland",
          "Västra Götaland",
          "Västra Götaland",
          "Västra Götaland",
          "Västra Götaland",
          "Västra Götaland",
          "Västra Götaland",
          "Västra Götaland",
          "Västra Götaland",
          "Västra Götaland",
          "Västra Götaland",
          "Västra Götaland",
          "Västra Götaland",
          "Västra Götaland",
          "Västra Götaland",
          "Västra Götaland",
          "Västra Götaland",
          "Västra Götaland",
          "Västra Götaland",
          "Västra Götaland",
          "Västra Götaland",
          "Västra Götaland",
          "Västra Götaland",
          "Västra Götaland",
          "Västra Götaland",
          "Västra Götaland",
          "Västra Götaland",
          "Västra Götaland",
          "Västra Götaland",
          "Västra Götaland",
          "Västra Götaland",
          "Västra Götaland",
          "Västra Götaland",
          "Västra Götaland",
          "Västra Götaland",
          "Västra Götaland",
          "Västra Götaland",
          "Västra Götaland",
          "Västra Götaland",
          "Västra Götaland",
          "Västra Götaland",
          "Västra Götaland",
          "Västra Götaland",
          "Västra Götaland",
          "Västra Götaland",
          "Västra Götaland",
          "Västra Götaland",
          "Västra Götaland",
          "Västra Götaland",
          "Västra Götaland",
          "Västra Götaland",
          "Västra Götaland",
          "Västra Götaland",
          "Västra Götaland",
          "Västra Götaland",
          "Västra Götaland",
          "Västra Götaland",
          "Västra Götaland",
          "Västra Götaland",
          "Västra Götaland",
          "Västra Götaland",
          "Västra Götaland",
          "Västra Götaland",
          "Västra Götaland",
          "Västra Götaland",
          "Västra Götaland",
          "Västra Götaland",
          "Västra Götaland",
          "Västra Götaland",
          "Västra Götaland",
          "Västra Götaland",
          "Västra Götaland",
          "Västra Götaland",
          "Västra Götaland",
          "Västra Götaland",
          "Västra Götaland",
          "Västra Götaland",
          "Västra Götaland",
          "Västra Götaland",
          "Västra Götaland",
          "Västra Götaland",
          "Västra Götaland",
          "Västra Götaland",
          "Västra Götaland",
          "Västra Götaland",
          "Västra Götaland",
          "Västra Götaland",
          "Västra Götaland",
          "Västra Götaland",
          "Västra Götaland",
          "Västra Götaland",
          "Västra Götaland",
          "Västra Götaland",
          "Västra Götaland",
          "Västra Götaland",
          "Västra Götaland",
          "Västra Götaland",
          "Västra Götaland",
          "Västra Götaland",
          "Västra Götaland",
          "Västra Götaland",
          "Västra Götaland",
          "Västra Götaland",
          "Västra Götaland",
          "Västra Götaland",
          "Västra Götaland",
          "Västra Götaland",
          "Västra Götaland",
          "Västra Götaland",
          "Västra Götaland",
          "Västra Götaland",
          "Västra Götaland",
          "Västra Götaland",
          "Västra Götaland",
          "Västra Götaland",
          "Västra Götaland",
          "Västra Götaland",
          "Västra Götaland",
          "Västra Götaland",
          "Västra Götaland",
          "Västra Götaland",
          "Värmland",
          "Värmland",
          "Värmland",
          "Värmland",
          "Värmland",
          "Värmland",
          "Värmland",
          "Värmland",
          "Värmland",
          "Värmland",
          "Värmland",
          "Värmland",
          "Värmland",
          "Värmland",
          "Värmland",
          "Värmland",
          "Värmland",
          "Värmland",
          "Värmland",
          "Värmland",
          "Värmland",
          "Värmland",
          "Värmland",
          "Värmland",
          "Värmland",
          "Värmland",
          "Värmland",
          "Värmland",
          "Värmland",
          "Värmland",
          "Värmland",
          "Värmland",
          "Värmland",
          "Värmland",
          "Värmland",
          "Värmland",
          "Värmland",
          "Värmland",
          "Värmland",
          "Värmland",
          "Värmland",
          "Värmland",
          "Värmland",
          "Värmland",
          "Värmland",
          "Värmland",
          "Värmland",
          "Värmland",
          "Värmland",
          "Värmland",
          "Värmland",
          "Värmland",
          "Värmland",
          "Värmland",
          "Värmland",
          "Värmland",
          "Värmland",
          "Värmland",
          "Värmland",
          "Värmland",
          "Värmland",
          "Värmland",
          "Värmland",
          "Värmland",
          "Värmland",
          "Värmland",
          "Värmland",
          "Värmland",
          "Värmland",
          "Värmland",
          "Värmland",
          "Värmland",
          "Värmland",
          "Värmland",
          "Värmland",
          "Värmland",
          "Värmland",
          "Värmland",
          "Värmland",
          "Värmland",
          "Värmland",
          "Värmland",
          "Värmland",
          "Värmland",
          "Värmland",
          "Värmland",
          "Värmland",
          "Värmland",
          "Värmland",
          "Värmland",
          "Värmland",
          "Värmland",
          "Värmland",
          "Värmland",
          "Värmland",
          "Värmland",
          "Värmland",
          "Värmland",
          "Värmland",
          "Värmland",
          "Värmland",
          "Värmland",
          "Värmland",
          "Värmland",
          "Värmland",
          "Värmland",
          "Värmland",
          "Värmland",
          "Värmland",
          "Värmland",
          "Värmland",
          "Värmland",
          "Värmland",
          "Värmland",
          "Värmland",
          "Värmland",
          "Värmland",
          "Värmland",
          "Värmland",
          "Värmland",
          "Värmland",
          "Värmland",
          "Värmland",
          "Värmland",
          "Värmland",
          "Värmland",
          "Värmland",
          "Värmland",
          "Örebro",
          "Örebro",
          "Örebro",
          "Örebro",
          "Örebro",
          "Örebro",
          "Örebro",
          "Örebro",
          "Örebro",
          "Örebro",
          "Örebro",
          "Örebro",
          "Örebro",
          "Örebro",
          "Örebro",
          "Örebro",
          "Örebro",
          "Örebro",
          "Örebro",
          "Örebro",
          "Örebro",
          "Örebro",
          "Örebro",
          "Örebro",
          "Örebro",
          "Örebro",
          "Örebro",
          "Örebro",
          "Örebro",
          "Örebro",
          "Örebro",
          "Örebro",
          "Örebro",
          "Örebro",
          "Örebro",
          "Örebro",
          "Örebro",
          "Örebro",
          "Örebro",
          "Örebro",
          "Örebro",
          "Örebro",
          "Örebro",
          "Örebro",
          "Örebro",
          "Örebro",
          "Örebro",
          "Örebro",
          "Örebro",
          "Örebro",
          "Örebro",
          "Örebro",
          "Örebro",
          "Örebro",
          "Örebro",
          "Örebro",
          "Örebro",
          "Örebro",
          "Örebro",
          "Örebro",
          "Örebro",
          "Örebro",
          "Örebro",
          "Örebro",
          "Örebro",
          "Örebro",
          "Örebro",
          "Örebro",
          "Örebro",
          "Örebro",
          "Örebro",
          "Örebro",
          "Örebro",
          "Örebro",
          "Örebro",
          "Örebro",
          "Örebro",
          "Örebro",
          "Örebro",
          "Örebro",
          "Örebro",
          "Örebro",
          "Örebro",
          "Örebro",
          "Örebro",
          "Örebro",
          "Örebro",
          "Örebro",
          "Örebro",
          "Örebro",
          "Örebro",
          "Örebro",
          "Örebro",
          "Örebro",
          "Örebro",
          "Örebro",
          "Västmanland",
          "Västmanland",
          "Västmanland",
          "Västmanland",
          "Västmanland",
          "Västmanland",
          "Västmanland",
          "Västmanland",
          "Västmanland",
          "Västmanland",
          "Västmanland",
          "Västmanland",
          "Västmanland",
          "Västmanland",
          "Västmanland",
          "Västmanland",
          "Västmanland",
          "Västmanland",
          "Västmanland",
          "Västmanland",
          "Västmanland",
          "Västmanland",
          "Västmanland",
          "Västmanland",
          "Västmanland",
          "Västmanland",
          "Västmanland",
          "Västmanland",
          "Västmanland",
          "Västmanland",
          "Västmanland",
          "Västmanland",
          "Västmanland",
          "Västmanland",
          "Västmanland",
          "Västmanland",
          "Västmanland",
          "Västmanland",
          "Västmanland",
          "Västmanland",
          "Västmanland",
          "Västmanland",
          "Västmanland",
          "Västmanland",
          "Västmanland",
          "Västmanland",
          "Västmanland",
          "Västmanland",
          "Västmanland",
          "Västmanland",
          "Västmanland",
          "Västmanland",
          "Västmanland",
          "Västmanland",
          "Västmanland",
          "Västmanland",
          "Västmanland",
          "Västmanland",
          "Västmanland",
          "Västmanland",
          "Västmanland",
          "Västmanland",
          "Västmanland",
          "Västmanland",
          "Västmanland",
          "Västmanland",
          "Västmanland",
          "Västmanland",
          "Västmanland",
          "Västmanland",
          "Västmanland",
          "Västmanland",
          "Västmanland",
          "Västmanland",
          "Västmanland",
          "Västmanland",
          "Västmanland",
          "Västmanland",
          "Västmanland",
          "Västmanland",
          "Dalarna",
          "Dalarna",
          "Dalarna",
          "Dalarna",
          "Dalarna",
          "Dalarna",
          "Dalarna",
          "Dalarna",
          "Dalarna",
          "Dalarna",
          "Dalarna",
          "Dalarna",
          "Dalarna",
          "Dalarna",
          "Dalarna",
          "Dalarna",
          "Dalarna",
          "Dalarna",
          "Dalarna",
          "Dalarna",
          "Dalarna",
          "Dalarna",
          "Dalarna",
          "Dalarna",
          "Dalarna",
          "Dalarna",
          "Dalarna",
          "Dalarna",
          "Dalarna",
          "Dalarna",
          "Dalarna",
          "Dalarna",
          "Dalarna",
          "Dalarna",
          "Dalarna",
          "Dalarna",
          "Dalarna",
          "Dalarna",
          "Dalarna",
          "Dalarna",
          "Dalarna",
          "Dalarna",
          "Dalarna",
          "Dalarna",
          "Dalarna",
          "Dalarna",
          "Dalarna",
          "Dalarna",
          "Dalarna",
          "Dalarna",
          "Dalarna",
          "Dalarna",
          "Dalarna",
          "Dalarna",
          "Dalarna",
          "Dalarna",
          "Dalarna",
          "Dalarna",
          "Dalarna",
          "Dalarna",
          "Dalarna",
          "Dalarna",
          "Dalarna",
          "Dalarna",
          "Dalarna",
          "Dalarna",
          "Dalarna",
          "Dalarna",
          "Dalarna",
          "Dalarna",
          "Dalarna",
          "Dalarna",
          "Dalarna",
          "Dalarna",
          "Dalarna",
          "Dalarna",
          "Dalarna",
          "Dalarna",
          "Dalarna",
          "Dalarna",
          "Dalarna",
          "Dalarna",
          "Dalarna",
          "Dalarna",
          "Dalarna",
          "Dalarna",
          "Dalarna",
          "Dalarna",
          "Dalarna",
          "Dalarna",
          "Dalarna",
          "Dalarna",
          "Dalarna",
          "Dalarna",
          "Dalarna",
          "Dalarna",
          "Dalarna",
          "Dalarna",
          "Dalarna",
          "Dalarna",
          "Dalarna",
          "Dalarna",
          "Dalarna",
          "Dalarna",
          "Dalarna",
          "Dalarna",
          "Dalarna",
          "Dalarna",
          "Dalarna",
          "Dalarna",
          "Dalarna",
          "Dalarna",
          "Dalarna",
          "Dalarna",
          "Dalarna",
          "Dalarna",
          "Dalarna",
          "Dalarna",
          "Dalarna",
          "Dalarna",
          "Gävleborg",
          "Gävleborg",
          "Gävleborg",
          "Gävleborg",
          "Gävleborg",
          "Gävleborg",
          "Gävleborg",
          "Gävleborg",
          "Gävleborg",
          "Gävleborg",
          "Gävleborg",
          "Gävleborg",
          "Gävleborg",
          "Gävleborg",
          "Gävleborg",
          "Gävleborg",
          "Gävleborg",
          "Gävleborg",
          "Gävleborg",
          "Gävleborg",
          "Gävleborg",
          "Gävleborg",
          "Gävleborg",
          "Gävleborg",
          "Gävleborg",
          "Gävleborg",
          "Gävleborg",
          "Gävleborg",
          "Gävleborg",
          "Gävleborg",
          "Gävleborg",
          "Gävleborg",
          "Gävleborg",
          "Gävleborg",
          "Gävleborg",
          "Gävleborg",
          "Gävleborg",
          "Gävleborg",
          "Gävleborg",
          "Gävleborg",
          "Gävleborg",
          "Gävleborg",
          "Gävleborg",
          "Gävleborg",
          "Gävleborg",
          "Gävleborg",
          "Gävleborg",
          "Gävleborg",
          "Gävleborg",
          "Gävleborg",
          "Gävleborg",
          "Gävleborg",
          "Gävleborg",
          "Gävleborg",
          "Gävleborg",
          "Gävleborg",
          "Gävleborg",
          "Gävleborg",
          "Gävleborg",
          "Gävleborg",
          "Gävleborg",
          "Gävleborg",
          "Gävleborg",
          "Gävleborg",
          "Gävleborg",
          "Gävleborg",
          "Gävleborg",
          "Gävleborg",
          "Gävleborg",
          "Gävleborg",
          "Gävleborg",
          "Gävleborg",
          "Gävleborg",
          "Gävleborg",
          "Gävleborg",
          "Gävleborg",
          "Gävleborg",
          "Gävleborg",
          "Gävleborg",
          "Gävleborg",
          "Västernorrland",
          "Västernorrland",
          "Västernorrland",
          "Västernorrland",
          "Västernorrland",
          "Västernorrland",
          "Västernorrland",
          "Västernorrland",
          "Västernorrland",
          "Västernorrland",
          "Västernorrland",
          "Västernorrland",
          "Västernorrland",
          "Västernorrland",
          "Västernorrland",
          "Västernorrland",
          "Västernorrland",
          "Västernorrland",
          "Västernorrland",
          "Västernorrland",
          "Västernorrland",
          "Västernorrland",
          "Västernorrland",
          "Västernorrland",
          "Västernorrland",
          "Västernorrland",
          "Västernorrland",
          "Västernorrland",
          "Västernorrland",
          "Västernorrland",
          "Västernorrland",
          "Västernorrland",
          "Västernorrland",
          "Västernorrland",
          "Västernorrland",
          "Västernorrland",
          "Västernorrland",
          "Västernorrland",
          "Västernorrland",
          "Västernorrland",
          "Västernorrland",
          "Västernorrland",
          "Västernorrland",
          "Västernorrland",
          "Västernorrland",
          "Västernorrland",
          "Västernorrland",
          "Västernorrland",
          "Västernorrland",
          "Västernorrland",
          "Västernorrland",
          "Västernorrland",
          "Västernorrland",
          "Västernorrland",
          "Västernorrland",
          "Västernorrland",
          "Jämtland",
          "Jämtland",
          "Jämtland",
          "Jämtland",
          "Jämtland",
          "Jämtland",
          "Jämtland",
          "Jämtland",
          "Jämtland",
          "Jämtland",
          "Jämtland",
          "Jämtland",
          "Jämtland",
          "Jämtland",
          "Jämtland",
          "Jämtland",
          "Jämtland",
          "Jämtland",
          "Jämtland",
          "Jämtland",
          "Jämtland",
          "Jämtland",
          "Jämtland",
          "Jämtland",
          "Jämtland",
          "Jämtland",
          "Jämtland",
          "Jämtland",
          "Jämtland",
          "Jämtland",
          "Jämtland",
          "Jämtland",
          "Jämtland",
          "Jämtland",
          "Jämtland",
          "Jämtland",
          "Jämtland",
          "Jämtland",
          "Jämtland",
          "Jämtland",
          "Jämtland",
          "Jämtland",
          "Jämtland",
          "Jämtland",
          "Jämtland",
          "Jämtland",
          "Jämtland",
          "Jämtland",
          "Jämtland",
          "Jämtland",
          "Jämtland",
          "Jämtland",
          "Jämtland",
          "Jämtland",
          "Jämtland",
          "Jämtland",
          "Jämtland",
          "Jämtland",
          "Jämtland",
          "Jämtland",
          "Jämtland",
          "Jämtland",
          "Jämtland",
          "Jämtland",
          "Västerbotten",
          "Västerbotten",
          "Västerbotten",
          "Västerbotten",
          "Västerbotten",
          "Västerbotten",
          "Västerbotten",
          "Västerbotten",
          "Västerbotten",
          "Västerbotten",
          "Västerbotten",
          "Västerbotten",
          "Västerbotten",
          "Västerbotten",
          "Västerbotten",
          "Västerbotten",
          "Västerbotten",
          "Västerbotten",
          "Västerbotten",
          "Västerbotten",
          "Västerbotten",
          "Västerbotten",
          "Västerbotten",
          "Västerbotten",
          "Västerbotten",
          "Västerbotten",
          "Västerbotten",
          "Västerbotten",
          "Västerbotten",
          "Västerbotten",
          "Västerbotten",
          "Västerbotten",
          "Västerbotten",
          "Västerbotten",
          "Västerbotten",
          "Västerbotten",
          "Västerbotten",
          "Västerbotten",
          "Västerbotten",
          "Västerbotten",
          "Västerbotten",
          "Västerbotten",
          "Västerbotten",
          "Västerbotten",
          "Västerbotten",
          "Västerbotten",
          "Västerbotten",
          "Västerbotten",
          "Västerbotten",
          "Västerbotten",
          "Västerbotten",
          "Västerbotten",
          "Västerbotten",
          "Västerbotten",
          "Västerbotten",
          "Västerbotten",
          "Västerbotten",
          "Västerbotten",
          "Västerbotten",
          "Västerbotten",
          "Västerbotten",
          "Västerbotten",
          "Västerbotten",
          "Västerbotten",
          "Västerbotten",
          "Västerbotten",
          "Västerbotten",
          "Västerbotten",
          "Västerbotten",
          "Västerbotten",
          "Västerbotten",
          "Västerbotten",
          "Västerbotten",
          "Västerbotten",
          "Västerbotten",
          "Västerbotten",
          "Västerbotten",
          "Västerbotten",
          "Västerbotten",
          "Västerbotten",
          "Västerbotten",
          "Västerbotten",
          "Västerbotten",
          "Västerbotten",
          "Västerbotten",
          "Västerbotten",
          "Västerbotten",
          "Västerbotten",
          "Västerbotten",
          "Västerbotten",
          "Västerbotten",
          "Västerbotten",
          "Västerbotten",
          "Västerbotten",
          "Västerbotten",
          "Västerbotten",
          "Västerbotten",
          "Västerbotten",
          "Västerbotten",
          "Västerbotten",
          "Västerbotten",
          "Västerbotten",
          "Västerbotten",
          "Västerbotten",
          "Västerbotten",
          "Västerbotten",
          "Västerbotten",
          "Västerbotten",
          "Västerbotten",
          "Västerbotten",
          "Västerbotten",
          "Västerbotten",
          "Västerbotten",
          "Västerbotten",
          "Västerbotten",
          "Västerbotten",
          "Västerbotten",
          "Västerbotten",
          "Västerbotten",
          "Västerbotten",
          "Norrbotten",
          "Norrbotten",
          "Norrbotten",
          "Norrbotten",
          "Norrbotten",
          "Norrbotten",
          "Norrbotten",
          "Norrbotten",
          "Norrbotten",
          "Norrbotten",
          "Norrbotten",
          "Norrbotten",
          "Norrbotten",
          "Norrbotten",
          "Norrbotten",
          "Norrbotten",
          "Norrbotten",
          "Norrbotten",
          "Norrbotten",
          "Norrbotten",
          "Norrbotten",
          "Norrbotten",
          "Norrbotten",
          "Norrbotten",
          "Norrbotten",
          "Norrbotten",
          "Norrbotten",
          "Norrbotten",
          "Norrbotten",
          "Norrbotten",
          "Norrbotten",
          "Norrbotten",
          "Norrbotten",
          "Norrbotten",
          "Norrbotten",
          "Norrbotten",
          "Norrbotten",
          "Norrbotten",
          "Norrbotten",
          "Norrbotten",
          "Norrbotten",
          "Norrbotten",
          "Norrbotten",
          "Norrbotten",
          "Norrbotten",
          "Norrbotten",
          "Norrbotten",
          "Norrbotten",
          "Norrbotten",
          "Norrbotten",
          "Norrbotten",
          "Norrbotten",
          "Norrbotten",
          "Norrbotten",
          "Norrbotten",
          "Norrbotten",
          "Norrbotten",
          "Norrbotten",
          "Norrbotten",
          "Norrbotten",
          "Norrbotten",
          "Norrbotten",
          "Norrbotten",
          "Norrbotten",
          "Norrbotten",
          "Norrbotten",
          "Norrbotten",
          "Norrbotten",
          "Norrbotten",
          "Norrbotten",
          "Norrbotten",
          "Norrbotten",
          "Norrbotten",
          "Norrbotten",
          "Norrbotten",
          "Norrbotten",
          "Norrbotten",
          "Norrbotten",
          "Norrbotten",
          "Norrbotten",
          "Norrbotten",
          "Norrbotten",
          "Norrbotten",
          "Norrbotten",
          "Norrbotten",
          "Norrbotten",
          "Norrbotten",
          "Norrbotten",
          "Norrbotten",
          "Norrbotten",
          "Norrbotten",
          "Norrbotten",
          "Norrbotten",
          "Norrbotten",
          "Norrbotten",
          "Norrbotten",
          "Norrbotten",
          "Norrbotten",
          "Norrbotten",
          "Norrbotten",
          "Norrbotten",
          "Norrbotten",
          "Norrbotten",
          "Norrbotten",
          "Norrbotten",
          "Norrbotten",
          "Norrbotten",
          "Norrbotten",
          "Norrbotten",
          "Norrbotten",
          "Norrbotten",
          "Norrbotten"
         ],
         "xaxis": "x",
         "y": [
          3413,
          4425,
          5030,
          5210,
          3642,
          3719,
          1637,
          297,
          2612,
          3061,
          4494,
          4299,
          2800,
          2527,
          1268,
          228,
          3783,
          4248,
          5500,
          6110,
          4038,
          4376,
          1790,
          349,
          3202,
          3937,
          5515,
          5963,
          4307,
          3960,
          1465,
          268,
          6385,
          7638,
          8532,
          8418,
          6355,
          5959,
          3066,
          644,
          1706,
          2166,
          3707,
          3759,
          2546,
          2453,
          1075,
          212,
          8698,
          10029,
          12769,
          12243,
          8327,
          6883,
          3077,
          651,
          5575,
          6558,
          8654,
          9158,
          6662,
          5856,
          2410,
          449,
          1168,
          1243,
          1902,
          2028,
          1145,
          1401,
          772,
          133,
          7031,
          8527,
          9499,
          9565,
          6681,
          6676,
          2776,
          447,
          3713,
          4055,
          5735,
          6307,
          3807,
          3778,
          1985,
          372,
          2287,
          2768,
          3163,
          3046,
          2305,
          2303,
          867,
          171,
          786,
          1050,
          1363,
          1462,
          955,
          968,
          399,
          44,
          6535,
          6302,
          9296,
          9530,
          6071,
          6558,
          3357,
          783,
          2923,
          2203,
          3936,
          4343,
          2794,
          2918,
          1671,
          480,
          5965,
          6879,
          8835,
          9186,
          6009,
          5359,
          2586,
          590,
          95317,
          125883,
          105401,
          100877,
          82561,
          65392,
          27183,
          8212,
          6259,
          7148,
          8190,
          10254,
          7953,
          6809,
          3554,
          695,
          8535,
          10167,
          13497,
          12818,
          8648,
          8383,
          3511,
          920,
          5249,
          7621,
          5377,
          4839,
          3963,
          2959,
          1150,
          307,
          9438,
          12907,
          8557,
          7636,
          6272,
          5610,
          2507,
          740,
          3855,
          3916,
          5736,
          5719,
          4365,
          4557,
          2231,
          709,
          879,
          757,
          1435,
          1668,
          1263,
          1416,
          445,
          110,
          4849,
          5125,
          5453,
          7620,
          7893,
          8576,
          3697,
          844,
          3442,
          4065,
          4914,
          5465,
          3753,
          3151,
          1691,
          250,
          1793,
          2258,
          2604,
          3433,
          2827,
          3058,
          1349,
          270,
          1900,
          2026,
          2645,
          2922,
          1850,
          2049,
          767,
          115,
          731,
          833,
          952,
          1206,
          1125,
          1112,
          479,
          110,
          1773,
          2303,
          2711,
          2189,
          1448,
          1364,
          469,
          111,
          1220,
          1337,
          1229,
          1697,
          1759,
          1600,
          781,
          178,
          1911,
          1967,
          2013,
          2603,
          2407,
          2438,
          1129,
          295,
          36020,
          27725,
          24517,
          23656,
          20223,
          18851,
          7963,
          2114,
          4477,
          4750,
          4588,
          5699,
          4785,
          4551,
          2102,
          493,
          1889,
          2043,
          2014,
          2678,
          2949,
          3040,
          1301,
          319,
          786,
          694,
          808,
          1075,
          1132,
          1194,
          470,
          106,
          768,
          955,
          1149,
          1253,
          1227,
          1359,
          519,
          102,
          4957,
          5220,
          5627,
          6407,
          6066,
          6501,
          3237,
          758,
          848,
          1025,
          1078,
          1298,
          1403,
          1570,
          797,
          174,
          1078,
          943,
          1292,
          1820,
          2048,
          2228,
          988,
          203,
          3336,
          3132,
          3201,
          3897,
          3839,
          3699,
          1791,
          500,
          9356,
          9717,
          10207,
          12030,
          10188,
          10022,
          4639,
          1137,
          2662,
          3149,
          3903,
          4424,
          4032,
          4231,
          1743,
          367,
          909,
          1136,
          1491,
          1741,
          1596,
          1865,
          654,
          126,
          385,
          416,
          518,
          612,
          611,
          733,
          306,
          81,
          253,
          277,
          311,
          430,
          535,
          568,
          232,
          63,
          831,
          880,
          941,
          1235,
          1264,
          1276,
          624,
          161,
          489,
          485,
          486,
          728,
          705,
          727,
          296,
          68,
          973,
          1043,
          1155,
          1422,
          1368,
          1457,
          736,
          168,
          1817,
          1950,
          2062,
          2597,
          2429,
          2578,
          1257,
          292,
          526,
          548,
          633,
          939,
          1038,
          1261,
          488,
          123,
          25389,
          18142,
          17331,
          17595,
          14422,
          13044,
          6879,
          1834,
          14797,
          14343,
          14501,
          15776,
          13671,
          12960,
          5953,
          1442,
          1032,
          1323,
          1552,
          1819,
          1794,
          1856,
          703,
          151,
          3807,
          3963,
          4401,
          5393,
          5068,
          4827,
          2264,
          581,
          602,
          594,
          636,
          953,
          994,
          1223,
          558,
          139,
          2782,
          2903,
          3111,
          3228,
          2839,
          2925,
          1369,
          351,
          549,
          663,
          627,
          788,
          853,
          722,
          320,
          78,
          751,
          772,
          950,
          1169,
          996,
          966,
          391,
          118,
          555,
          658,
          718,
          811,
          789,
          926,
          343,
          100,
          881,
          1501,
          1475,
          1259,
          1102,
          1127,
          465,
          83,
          2268,
          2317,
          2798,
          3689,
          3089,
          2731,
          1397,
          375,
          1044,
          1442,
          1430,
          1592,
          1435,
          1372,
          611,
          162,
          16177,
          13929,
          14122,
          15228,
          12615,
          12438,
          6266,
          1691,
          2559,
          2817,
          2791,
          3553,
          3305,
          3160,
          1442,
          416,
          2947,
          3078,
          3336,
          4158,
          3928,
          3296,
          1734,
          412,
          826,
          894,
          987,
          1253,
          1172,
          1259,
          605,
          185,
          2184,
          2294,
          2496,
          3220,
          3040,
          3075,
          1536,
          425,
          1535,
          1597,
          1601,
          1969,
          2104,
          2014,
          985,
          280,
          1794,
          1640,
          1770,
          2177,
          1915,
          2150,
          1195,
          326,
          698,
          717,
          829,
          1044,
          993,
          1012,
          507,
          156,
          638,
          663,
          805,
          914,
          898,
          999,
          404,
          107,
          865,
          925,
          1064,
          1413,
          1540,
          1496,
          812,
          238,
          1442,
          1742,
          1849,
          2019,
          2138,
          2005,
          990,
          283,
          1341,
          1754,
          1939,
          1899,
          1630,
          1605,
          799,
          227,
          680,
          717,
          833,
          1108,
          1058,
          1124,
          572,
          159,
          11744,
          9456,
          9405,
          9665,
          8295,
          8321,
          3982,
          952,
          2058,
          2119,
          2483,
          3333,
          3039,
          3042,
          1565,
          415,
          329,
          359,
          430,
          611,
          768,
          664,
          311,
          82,
          470,
          503,
          591,
          878,
          882,
          983,
          421,
          102,
          954,
          1367,
          1682,
          1795,
          1990,
          2192,
          850,
          161,
          935,
          987,
          1049,
          1635,
          1769,
          1680,
          878,
          236,
          903,
          1031,
          1131,
          1541,
          1605,
          1650,
          773,
          182,
          635,
          670,
          778,
          1118,
          1170,
          1147,
          604,
          153,
          8673,
          7471,
          7129,
          7869,
          6766,
          6574,
          3211,
          813,
          1604,
          1808,
          1739,
          2344,
          2250,
          2280,
          1253,
          295,
          2309,
          2245,
          2587,
          3188,
          2901,
          3110,
          1612,
          354,
          2886,
          2941,
          3265,
          4389,
          4665,
          4986,
          2423,
          614,
          1274,
          1326,
          1405,
          1811,
          1801,
          1821,
          950,
          231,
          621,
          708,
          858,
          1254,
          1754,
          1941,
          884,
          177,
          5673,
          5423,
          5859,
          7238,
          7695,
          7506,
          3478,
          788,
          1051,
          1026,
          1031,
          1665,
          1480,
          1518,
          890,
          179,
          7454,
          6516,
          7095,
          7475,
          6716,
          6914,
          3417,
          820,
          2283,
          2332,
          2860,
          3337,
          3033,
          3325,
          1750,
          435,
          2908,
          2772,
          2922,
          4005,
          3467,
          3669,
          1938,
          454,
          1482,
          1386,
          1656,
          2115,
          2054,
          2186,
          1035,
          227,
          995,
          1247,
          1455,
          1645,
          1338,
          1212,
          502,
          125,
          1959,
          2635,
          3404,
          3095,
          1938,
          2265,
          1244,
          214,
          1442,
          1701,
          1977,
          1879,
          1594,
          1449,
          689,
          171,
          2523,
          2963,
          4492,
          5105,
          3660,
          4274,
          1958,
          380,
          1057,
          1163,
          1279,
          1662,
          1481,
          1552,
          725,
          175,
          705,
          698,
          840,
          1098,
          1142,
          1130,
          515,
          142,
          1002,
          1097,
          1391,
          1724,
          1461,
          1351,
          566,
          100,
          2407,
          3199,
          4369,
          3985,
          2572,
          3079,
          1263,
          256,
          1658,
          1836,
          3535,
          3309,
          2116,
          2484,
          1406,
          276,
          1585,
          2333,
          2919,
          2501,
          1947,
          1946,
          813,
          182,
          1224,
          1404,
          1578,
          1904,
          1614,
          1549,
          631,
          148,
          1340,
          1571,
          1775,
          2343,
          2245,
          2044,
          941,
          206,
          1105,
          1395,
          1493,
          1721,
          1721,
          1590,
          693,
          193,
          1222,
          1518,
          1791,
          2062,
          1814,
          1622,
          738,
          189,
          993,
          1065,
          1167,
          1423,
          1644,
          1569,
          775,
          175,
          887,
          998,
          1211,
          1529,
          1339,
          1464,
          701,
          140,
          1033,
          1063,
          1132,
          1457,
          1433,
          1505,
          822,
          225,
          528,
          540,
          570,
          797,
          741,
          699,
          365,
          87,
          1391,
          1279,
          1536,
          1954,
          1764,
          1817,
          812,
          208,
          1005,
          1276,
          1541,
          1680,
          1333,
          1311,
          590,
          107,
          985,
          1015,
          1437,
          1792,
          2076,
          2272,
          1068,
          270,
          33794,
          40469,
          32612,
          30608,
          26487,
          21961,
          10655,
          2966,
          22128,
          12336,
          12951,
          12272,
          10558,
          10192,
          4492,
          1135,
          3214,
          3707,
          4281,
          4904,
          4432,
          4463,
          1929,
          458,
          12624,
          13029,
          14176,
          16186,
          13655,
          12453,
          5880,
          1470,
          1668,
          1944,
          2956,
          3295,
          3046,
          3658,
          1609,
          369,
          3012,
          3167,
          3605,
          3921,
          3130,
          2853,
          1414,
          329,
          2545,
          2588,
          2967,
          3566,
          3886,
          4139,
          1850,
          478,
          3592,
          3924,
          4450,
          5478,
          4685,
          4581,
          2183,
          494,
          7810,
          7776,
          8227,
          9583,
          8888,
          8513,
          4257,
          1065,
          1235,
          1132,
          1409,
          2171,
          2810,
          3169,
          1436,
          336,
          3463,
          3764,
          4213,
          5067,
          4573,
          4763,
          2293,
          654,
          4273,
          4203,
          4651,
          5869,
          5305,
          5390,
          2793,
          779,
          810,
          828,
          935,
          1180,
          1126,
          1037,
          564,
          159,
          11065,
          10215,
          10086,
          11348,
          10129,
          9863,
          4954,
          1219,
          1876,
          2085,
          2431,
          2912,
          3132,
          3176,
          1379,
          348,
          4005,
          4107,
          4344,
          5168,
          5229,
          5196,
          2549,
          665,
          5902,
          6425,
          6738,
          7544,
          7532,
          7574,
          3346,
          887,
          7201,
          7532,
          10292,
          11279,
          8193,
          8209,
          3983,
          892,
          2771,
          3359,
          5187,
          4833,
          3286,
          2990,
          1327,
          306,
          3032,
          3926,
          4635,
          4509,
          3549,
          3020,
          1464,
          398,
          950,
          798,
          1273,
          1708,
          1595,
          1627,
          710,
          145,
          2243,
          2434,
          2963,
          3325,
          2545,
          2473,
          1224,
          209,
          1100,
          1323,
          1509,
          1986,
          2211,
          2262,
          936,
          192,
          1046,
          990,
          1318,
          1845,
          2172,
          2250,
          980,
          214,
          593,
          593,
          795,
          1120,
          1435,
          1574,
          575,
          181,
          802,
          909,
          923,
          1157,
          1191,
          1210,
          583,
          150,
          953,
          978,
          1131,
          1478,
          1777,
          1801,
          753,
          209,
          414,
          412,
          411,
          539,
          509,
          629,
          319,
          62,
          535,
          514,
          575,
          774,
          807,
          762,
          365,
          84,
          2418,
          3105,
          3612,
          3489,
          2559,
          2746,
          1182,
          206,
          2980,
          4185,
          5437,
          5286,
          3623,
          3600,
          1756,
          380,
          959,
          1115,
          1170,
          1344,
          1224,
          1171,
          493,
          109,
          747,
          857,
          1063,
          1144,
          957,
          972,
          392,
          88,
          436,
          463,
          516,
          742,
          695,
          681,
          335,
          88,
          355,
          438,
          501,
          644,
          683,
          688,
          308,
          71,
          561,
          559,
          617,
          798,
          855,
          1066,
          435,
          98,
          262,
          280,
          363,
          624,
          764,
          756,
          333,
          80,
          844,
          937,
          1093,
          1448,
          1315,
          1368,
          619,
          160,
          727,
          658,
          783,
          1125,
          1161,
          1361,
          580,
          205,
          685,
          681,
          704,
          1011,
          1156,
          1145,
          551,
          158,
          988,
          1287,
          1221,
          1660,
          1495,
          1347,
          540,
          126,
          2617,
          2672,
          3216,
          3992,
          3770,
          3662,
          1742,
          452,
          693,
          782,
          888,
          1265,
          1299,
          1328,
          543,
          125,
          753,
          761,
          823,
          1130,
          1080,
          1066,
          472,
          118,
          1257,
          1269,
          1510,
          1848,
          1914,
          1734,
          854,
          196,
          841,
          1065,
          1212,
          1668,
          1705,
          1625,
          707,
          154,
          785,
          943,
          941,
          1294,
          1179,
          1238,
          687,
          148,
          621,
          638,
          750,
          1044,
          1200,
          1121,
          495,
          125,
          65168,
          68026,
          55538,
          56115,
          48033,
          39967,
          17815,
          4873,
          7173,
          7880,
          8097,
          7858,
          5899,
          4839,
          2358,
          597,
          4108,
          4620,
          4942,
          5759,
          4680,
          4423,
          2258,
          529,
          965,
          1017,
          1233,
          1717,
          2023,
          2063,
          968,
          246,
          5091,
          5119,
          5439,
          6433,
          6012,
          5331,
          2818,
          735,
          1041,
          1196,
          1363,
          1401,
          1422,
          1467,
          658,
          175,
          3277,
          3359,
          3643,
          4680,
          4252,
          4147,
          2157,
          461,
          5667,
          5285,
          5661,
          6673,
          5400,
          5050,
          2519,
          621,
          3425,
          3740,
          4357,
          4439,
          4265,
          4472,
          2032,
          498,
          10966,
          10683,
          10812,
          12346,
          10298,
          9736,
          4988,
          1264,
          2010,
          2086,
          2317,
          2911,
          2717,
          2671,
          1289,
          364,
          941,
          951,
          1092,
          1493,
          1528,
          1469,
          799,
          210,
          2070,
          2203,
          2108,
          2935,
          2833,
          3010,
          1585,
          351,
          3874,
          3835,
          4042,
          4857,
          4491,
          4443,
          2138,
          504,
          1520,
          1603,
          1651,
          2321,
          1985,
          1971,
          952,
          221,
          6408,
          5995,
          5185,
          6174,
          5368,
          5051,
          2555,
          627,
          713,
          764,
          843,
          1061,
          1085,
          1179,
          526,
          128,
          1102,
          1085,
          1111,
          1550,
          1439,
          1391,
          742,
          181,
          2748,
          2899,
          3020,
          3623,
          3462,
          3184,
          1789,
          447,
          1007,
          1213,
          1297,
          1389,
          1375,
          1429,
          682,
          143,
          699,
          803,
          783,
          1046,
          1067,
          957,
          483,
          113,
          1120,
          998,
          1062,
          1412,
          1568,
          1571,
          783,
          194,
          303,
          305,
          303,
          541,
          555,
          604,
          201,
          60,
          1248,
          1975,
          2216,
          2011,
          1704,
          1583,
          720,
          149,
          295,
          283,
          282,
          454,
          462,
          431,
          273,
          85,
          995,
          1210,
          1156,
          1447,
          1162,
          1336,
          624,
          120,
          753,
          806,
          812,
          1138,
          1089,
          1118,
          531,
          129,
          954,
          871,
          929,
          1243,
          1155,
          1140,
          546,
          148,
          1338,
          1158,
          1277,
          1707,
          1752,
          1518,
          743,
          198,
          13676,
          10515,
          9821,
          10803,
          9658,
          8958,
          4451,
          1150,
          2220,
          2118,
          2312,
          3043,
          2970,
          3155,
          1451,
          368,
          1018,
          833,
          879,
          1181,
          1285,
          1368,
          645,
          192,
          918,
          862,
          925,
          1456,
          1625,
          1497,
          838,
          194,
          2447,
          2503,
          2582,
          3132,
          3072,
          3155,
          1566,
          447,
          1397,
          1238,
          1295,
          1926,
          1910,
          1931,
          1041,
          268,
          593,
          977,
          892,
          887,
          849,
          856,
          376,
          91,
          405,
          416,
          456,
          738,
          725,
          746,
          351,
          103,
          1362,
          1573,
          1547,
          1857,
          1736,
          1778,
          749,
          159,
          740,
          653,
          930,
          1163,
          1173,
          1299,
          619,
          124,
          572,
          449,
          468,
          798,
          805,
          914,
          502,
          102,
          283,
          245,
          361,
          523,
          645,
          638,
          329,
          61,
          19628,
          15887,
          15919,
          16266,
          13853,
          13530,
          6001,
          1595,
          2008,
          2323,
          2504,
          2500,
          1985,
          2138,
          984,
          213,
          888,
          876,
          977,
          1367,
          1519,
          1617,
          689,
          141,
          3099,
          2846,
          2893,
          3762,
          3380,
          3529,
          1857,
          418,
          784,
          886,
          1016,
          1217,
          1230,
          1442,
          660,
          112,
          1952,
          1948,
          2129,
          2679,
          2662,
          2879,
          1272,
          339,
          297,
          264,
          331,
          531,
          595,
          651,
          264,
          55,
          733,
          761,
          915,
          1129,
          1086,
          1224,
          553,
          111,
          689,
          717,
          797,
          1045,
          972,
          1006,
          427,
          100,
          1244,
          1414,
          1452,
          1836,
          1663,
          1734,
          940,
          202,
          398,
          457,
          468,
          649,
          721,
          771,
          310,
          91,
          15340,
          15342,
          15528,
          17815,
          14210,
          13949,
          6917,
          1718,
          1824,
          1999,
          2132,
          2619,
          2568,
          2723,
          1210,
          313,
          954,
          1095,
          1143,
          1473,
          1436,
          1374,
          796,
          188,
          2138,
          2106,
          2236,
          2971,
          2822,
          2855,
          1419,
          377,
          1203,
          1165,
          1230,
          1678,
          1575,
          1779,
          847,
          192,
          579,
          530,
          536,
          807,
          822,
          881,
          425,
          90,
          827,
          846,
          926,
          1214,
          1212,
          1298,
          625,
          148,
          734,
          976,
          957,
          1232,
          1277,
          1306,
          565,
          125,
          1255,
          1333,
          1479,
          1898,
          2058,
          2330,
          988,
          247,
          802,
          752,
          847,
          1204,
          1444,
          1798,
          826,
          223,
          492,
          531,
          484,
          857,
          853,
          899,
          425,
          108,
          558,
          529,
          633,
          792,
          864,
          941,
          477,
          109,
          704,
          845,
          987,
          1326,
          1466,
          1526,
          623,
          121,
          1519,
          1746,
          1927,
          2238,
          2493,
          2674,
          1223,
          250,
          5722,
          6262,
          6241,
          6469,
          6443,
          6372,
          3003,
          695,
          4797,
          4987,
          4957,
          5807,
          5191,
          5000,
          2404,
          545,
          797,
          1105,
          1128,
          1268,
          1429,
          1428,
          585,
          138,
          1270,
          1305,
          1328,
          1828,
          1909,
          1927,
          883,
          204,
          1786,
          1912,
          2057,
          2527,
          2743,
          2727,
          1338,
          332,
          1990,
          2426,
          2362,
          2808,
          2940,
          3125,
          1456,
          432,
          349,
          398,
          473,
          696,
          789,
          851,
          272,
          96,
          740,
          718,
          729,
          1169,
          1171,
          1195,
          525,
          125,
          896,
          1025,
          992,
          1370,
          1418,
          1522,
          712,
          181,
          569,
          646,
          679,
          1098,
          1140,
          1237,
          483,
          108,
          1427,
          1459,
          1606,
          2113,
          2334,
          2468,
          1149,
          271,
          10123,
          9853,
          10295,
          11675,
          10161,
          9827,
          4750,
          992,
          3165,
          3439,
          3655,
          4793,
          4261,
          4403,
          2193,
          467,
          1789,
          1866,
          2137,
          2975,
          3183,
          3328,
          1492,
          370,
          2022,
          2195,
          2455,
          3011,
          3105,
          3300,
          1539,
          380,
          2975,
          3092,
          3472,
          4249,
          4476,
          4720,
          2030,
          453,
          778,
          711,
          798,
          1183,
          1306,
          1169,
          596,
          116,
          1689,
          1584,
          1886,
          2247,
          1915,
          2078,
          900,
          157,
          2295,
          2368,
          2416,
          2826,
          2875,
          3214,
          1487,
          281,
          10204,
          9895,
          10508,
          11990,
          10277,
          10220,
          4977,
          1060,
          1422,
          1329,
          1503,
          2231,
          2459,
          2460,
          1110,
          256,
          1465,
          1503,
          1568,
          2120,
          2543,
          2417,
          1244,
          267,
          5069,
          5319,
          5784,
          6516,
          6463,
          6497,
          3186,
          702,
          336,
          418,
          384,
          630,
          699,
          667,
          368,
          79,
          382,
          403,
          483,
          792,
          840,
          822,
          340,
          91,
          1009,
          1451,
          1791,
          1719,
          1629,
          1638,
          623,
          148,
          825,
          872,
          931,
          1270,
          1550,
          1590,
          776,
          183,
          1197,
          1387,
          1390,
          1314,
          1239,
          938,
          428,
          88,
          468,
          550,
          498,
          779,
          919,
          943,
          465,
          121,
          810,
          852,
          855,
          1227,
          1330,
          1405,
          680,
          169,
          6706,
          6666,
          6541,
          6851,
          6548,
          6596,
          3012,
          699,
          650,
          556,
          667,
          847,
          882,
          937,
          485,
          111,
          203,
          211,
          191,
          267,
          283,
          318,
          178,
          66,
          425,
          469,
          533,
          536,
          681,
          713,
          329,
          104,
          489,
          707,
          610,
          738,
          971,
          840,
          372,
          111,
          274,
          349,
          338,
          480,
          561,
          535,
          258,
          63,
          213,
          227,
          245,
          314,
          447,
          395,
          211,
          44,
          464,
          453,
          500,
          727,
          832,
          772,
          411,
          100,
          195,
          194,
          191,
          300,
          360,
          303,
          195,
          37,
          177,
          204,
          217,
          281,
          385,
          371,
          198,
          58,
          794,
          1008,
          936,
          989,
          952,
          899,
          462,
          116,
          495,
          524,
          532,
          670,
          898,
          798,
          410,
          96,
          256,
          214,
          250,
          291,
          386,
          393,
          203,
          55,
          21167,
          16335,
          14318,
          13303,
          11479,
          10747,
          4789,
          1049,
          1123,
          1214,
          1053,
          1375,
          1493,
          1393,
          749,
          158,
          6400,
          7008,
          7517,
          8519,
          8787,
          8133,
          4121,
          865,
          517,
          561,
          533,
          691,
          794,
          766,
          430,
          85,
          209,
          248,
          217,
          332,
          390,
          352,
          191,
          52,
          396,
          402,
          387,
          596,
          672,
          625,
          312,
          65,
          199,
          251,
          207,
          356,
          511,
          504,
          284,
          60,
          1264,
          1253,
          1425,
          1978,
          2061,
          2103,
          1116,
          216,
          309,
          246,
          296,
          475,
          744,
          697,
          334,
          76,
          364,
          366,
          371,
          621,
          918,
          908,
          521,
          72,
          1495,
          1807,
          1499,
          2069,
          2247,
          1865,
          1115,
          235,
          716,
          673,
          727,
          915,
          977,
          963,
          492,
          129,
          10034,
          8038,
          7944,
          9466,
          8125,
          7483,
          3826,
          814,
          4444,
          4246,
          4407,
          5058,
          4826,
          4883,
          2117,
          417,
          2943,
          2679,
          2783,
          3222,
          3406,
          3317,
          1522,
          363,
          655,
          627,
          738,
          1012,
          1335,
          1298,
          596,
          92,
          2304,
          2275,
          2037,
          2862,
          2542,
          2095,
          1192,
          206
         ],
         "yaxis": "y"
        }
       ],
       "layout": {
        "barmode": "group",
        "legend": {
         "title": {
          "text": "Variable"
         },
         "tracegroupgap": 0
        },
        "template": {
         "data": {
          "bar": [
           {
            "error_x": {
             "color": "#2a3f5f"
            },
            "error_y": {
             "color": "#2a3f5f"
            },
            "marker": {
             "line": {
              "color": "#E5ECF6",
              "width": 0.5
             },
             "pattern": {
              "fillmode": "overlay",
              "size": 10,
              "solidity": 0.2
             }
            },
            "type": "bar"
           }
          ],
          "barpolar": [
           {
            "marker": {
             "line": {
              "color": "#E5ECF6",
              "width": 0.5
             },
             "pattern": {
              "fillmode": "overlay",
              "size": 10,
              "solidity": 0.2
             }
            },
            "type": "barpolar"
           }
          ],
          "carpet": [
           {
            "aaxis": {
             "endlinecolor": "#2a3f5f",
             "gridcolor": "white",
             "linecolor": "white",
             "minorgridcolor": "white",
             "startlinecolor": "#2a3f5f"
            },
            "baxis": {
             "endlinecolor": "#2a3f5f",
             "gridcolor": "white",
             "linecolor": "white",
             "minorgridcolor": "white",
             "startlinecolor": "#2a3f5f"
            },
            "type": "carpet"
           }
          ],
          "choropleth": [
           {
            "colorbar": {
             "outlinewidth": 0,
             "ticks": ""
            },
            "type": "choropleth"
           }
          ],
          "contour": [
           {
            "colorbar": {
             "outlinewidth": 0,
             "ticks": ""
            },
            "colorscale": [
             [
              0,
              "#0d0887"
             ],
             [
              0.1111111111111111,
              "#46039f"
             ],
             [
              0.2222222222222222,
              "#7201a8"
             ],
             [
              0.3333333333333333,
              "#9c179e"
             ],
             [
              0.4444444444444444,
              "#bd3786"
             ],
             [
              0.5555555555555556,
              "#d8576b"
             ],
             [
              0.6666666666666666,
              "#ed7953"
             ],
             [
              0.7777777777777778,
              "#fb9f3a"
             ],
             [
              0.8888888888888888,
              "#fdca26"
             ],
             [
              1,
              "#f0f921"
             ]
            ],
            "type": "contour"
           }
          ],
          "contourcarpet": [
           {
            "colorbar": {
             "outlinewidth": 0,
             "ticks": ""
            },
            "type": "contourcarpet"
           }
          ],
          "heatmap": [
           {
            "colorbar": {
             "outlinewidth": 0,
             "ticks": ""
            },
            "colorscale": [
             [
              0,
              "#0d0887"
             ],
             [
              0.1111111111111111,
              "#46039f"
             ],
             [
              0.2222222222222222,
              "#7201a8"
             ],
             [
              0.3333333333333333,
              "#9c179e"
             ],
             [
              0.4444444444444444,
              "#bd3786"
             ],
             [
              0.5555555555555556,
              "#d8576b"
             ],
             [
              0.6666666666666666,
              "#ed7953"
             ],
             [
              0.7777777777777778,
              "#fb9f3a"
             ],
             [
              0.8888888888888888,
              "#fdca26"
             ],
             [
              1,
              "#f0f921"
             ]
            ],
            "type": "heatmap"
           }
          ],
          "heatmapgl": [
           {
            "colorbar": {
             "outlinewidth": 0,
             "ticks": ""
            },
            "colorscale": [
             [
              0,
              "#0d0887"
             ],
             [
              0.1111111111111111,
              "#46039f"
             ],
             [
              0.2222222222222222,
              "#7201a8"
             ],
             [
              0.3333333333333333,
              "#9c179e"
             ],
             [
              0.4444444444444444,
              "#bd3786"
             ],
             [
              0.5555555555555556,
              "#d8576b"
             ],
             [
              0.6666666666666666,
              "#ed7953"
             ],
             [
              0.7777777777777778,
              "#fb9f3a"
             ],
             [
              0.8888888888888888,
              "#fdca26"
             ],
             [
              1,
              "#f0f921"
             ]
            ],
            "type": "heatmapgl"
           }
          ],
          "histogram": [
           {
            "marker": {
             "pattern": {
              "fillmode": "overlay",
              "size": 10,
              "solidity": 0.2
             }
            },
            "type": "histogram"
           }
          ],
          "histogram2d": [
           {
            "colorbar": {
             "outlinewidth": 0,
             "ticks": ""
            },
            "colorscale": [
             [
              0,
              "#0d0887"
             ],
             [
              0.1111111111111111,
              "#46039f"
             ],
             [
              0.2222222222222222,
              "#7201a8"
             ],
             [
              0.3333333333333333,
              "#9c179e"
             ],
             [
              0.4444444444444444,
              "#bd3786"
             ],
             [
              0.5555555555555556,
              "#d8576b"
             ],
             [
              0.6666666666666666,
              "#ed7953"
             ],
             [
              0.7777777777777778,
              "#fb9f3a"
             ],
             [
              0.8888888888888888,
              "#fdca26"
             ],
             [
              1,
              "#f0f921"
             ]
            ],
            "type": "histogram2d"
           }
          ],
          "histogram2dcontour": [
           {
            "colorbar": {
             "outlinewidth": 0,
             "ticks": ""
            },
            "colorscale": [
             [
              0,
              "#0d0887"
             ],
             [
              0.1111111111111111,
              "#46039f"
             ],
             [
              0.2222222222222222,
              "#7201a8"
             ],
             [
              0.3333333333333333,
              "#9c179e"
             ],
             [
              0.4444444444444444,
              "#bd3786"
             ],
             [
              0.5555555555555556,
              "#d8576b"
             ],
             [
              0.6666666666666666,
              "#ed7953"
             ],
             [
              0.7777777777777778,
              "#fb9f3a"
             ],
             [
              0.8888888888888888,
              "#fdca26"
             ],
             [
              1,
              "#f0f921"
             ]
            ],
            "type": "histogram2dcontour"
           }
          ],
          "mesh3d": [
           {
            "colorbar": {
             "outlinewidth": 0,
             "ticks": ""
            },
            "type": "mesh3d"
           }
          ],
          "parcoords": [
           {
            "line": {
             "colorbar": {
              "outlinewidth": 0,
              "ticks": ""
             }
            },
            "type": "parcoords"
           }
          ],
          "pie": [
           {
            "automargin": true,
            "type": "pie"
           }
          ],
          "scatter": [
           {
            "marker": {
             "colorbar": {
              "outlinewidth": 0,
              "ticks": ""
             }
            },
            "type": "scatter"
           }
          ],
          "scatter3d": [
           {
            "line": {
             "colorbar": {
              "outlinewidth": 0,
              "ticks": ""
             }
            },
            "marker": {
             "colorbar": {
              "outlinewidth": 0,
              "ticks": ""
             }
            },
            "type": "scatter3d"
           }
          ],
          "scattercarpet": [
           {
            "marker": {
             "colorbar": {
              "outlinewidth": 0,
              "ticks": ""
             }
            },
            "type": "scattercarpet"
           }
          ],
          "scattergeo": [
           {
            "marker": {
             "colorbar": {
              "outlinewidth": 0,
              "ticks": ""
             }
            },
            "type": "scattergeo"
           }
          ],
          "scattergl": [
           {
            "marker": {
             "colorbar": {
              "outlinewidth": 0,
              "ticks": ""
             }
            },
            "type": "scattergl"
           }
          ],
          "scattermapbox": [
           {
            "marker": {
             "colorbar": {
              "outlinewidth": 0,
              "ticks": ""
             }
            },
            "type": "scattermapbox"
           }
          ],
          "scatterpolar": [
           {
            "marker": {
             "colorbar": {
              "outlinewidth": 0,
              "ticks": ""
             }
            },
            "type": "scatterpolar"
           }
          ],
          "scatterpolargl": [
           {
            "marker": {
             "colorbar": {
              "outlinewidth": 0,
              "ticks": ""
             }
            },
            "type": "scatterpolargl"
           }
          ],
          "scatterternary": [
           {
            "marker": {
             "colorbar": {
              "outlinewidth": 0,
              "ticks": ""
             }
            },
            "type": "scatterternary"
           }
          ],
          "surface": [
           {
            "colorbar": {
             "outlinewidth": 0,
             "ticks": ""
            },
            "colorscale": [
             [
              0,
              "#0d0887"
             ],
             [
              0.1111111111111111,
              "#46039f"
             ],
             [
              0.2222222222222222,
              "#7201a8"
             ],
             [
              0.3333333333333333,
              "#9c179e"
             ],
             [
              0.4444444444444444,
              "#bd3786"
             ],
             [
              0.5555555555555556,
              "#d8576b"
             ],
             [
              0.6666666666666666,
              "#ed7953"
             ],
             [
              0.7777777777777778,
              "#fb9f3a"
             ],
             [
              0.8888888888888888,
              "#fdca26"
             ],
             [
              1,
              "#f0f921"
             ]
            ],
            "type": "surface"
           }
          ],
          "table": [
           {
            "cells": {
             "fill": {
              "color": "#EBF0F8"
             },
             "line": {
              "color": "white"
             }
            },
            "header": {
             "fill": {
              "color": "#C8D4E3"
             },
             "line": {
              "color": "white"
             }
            },
            "type": "table"
           }
          ]
         },
         "layout": {
          "annotationdefaults": {
           "arrowcolor": "#2a3f5f",
           "arrowhead": 0,
           "arrowwidth": 1
          },
          "autotypenumbers": "strict",
          "coloraxis": {
           "colorbar": {
            "outlinewidth": 0,
            "ticks": ""
           }
          },
          "colorscale": {
           "diverging": [
            [
             0,
             "#8e0152"
            ],
            [
             0.1,
             "#c51b7d"
            ],
            [
             0.2,
             "#de77ae"
            ],
            [
             0.3,
             "#f1b6da"
            ],
            [
             0.4,
             "#fde0ef"
            ],
            [
             0.5,
             "#f7f7f7"
            ],
            [
             0.6,
             "#e6f5d0"
            ],
            [
             0.7,
             "#b8e186"
            ],
            [
             0.8,
             "#7fbc41"
            ],
            [
             0.9,
             "#4d9221"
            ],
            [
             1,
             "#276419"
            ]
           ],
           "sequential": [
            [
             0,
             "#0d0887"
            ],
            [
             0.1111111111111111,
             "#46039f"
            ],
            [
             0.2222222222222222,
             "#7201a8"
            ],
            [
             0.3333333333333333,
             "#9c179e"
            ],
            [
             0.4444444444444444,
             "#bd3786"
            ],
            [
             0.5555555555555556,
             "#d8576b"
            ],
            [
             0.6666666666666666,
             "#ed7953"
            ],
            [
             0.7777777777777778,
             "#fb9f3a"
            ],
            [
             0.8888888888888888,
             "#fdca26"
            ],
            [
             1,
             "#f0f921"
            ]
           ],
           "sequentialminus": [
            [
             0,
             "#0d0887"
            ],
            [
             0.1111111111111111,
             "#46039f"
            ],
            [
             0.2222222222222222,
             "#7201a8"
            ],
            [
             0.3333333333333333,
             "#9c179e"
            ],
            [
             0.4444444444444444,
             "#bd3786"
            ],
            [
             0.5555555555555556,
             "#d8576b"
            ],
            [
             0.6666666666666666,
             "#ed7953"
            ],
            [
             0.7777777777777778,
             "#fb9f3a"
            ],
            [
             0.8888888888888888,
             "#fdca26"
            ],
            [
             1,
             "#f0f921"
            ]
           ]
          },
          "colorway": [
           "#636efa",
           "#EF553B",
           "#00cc96",
           "#ab63fa",
           "#FFA15A",
           "#19d3f3",
           "#FF6692",
           "#B6E880",
           "#FF97FF",
           "#FECB52"
          ],
          "font": {
           "color": "#2a3f5f"
          },
          "geo": {
           "bgcolor": "white",
           "lakecolor": "white",
           "landcolor": "#E5ECF6",
           "showlakes": true,
           "showland": true,
           "subunitcolor": "white"
          },
          "hoverlabel": {
           "align": "left"
          },
          "hovermode": "closest",
          "mapbox": {
           "style": "light"
          },
          "paper_bgcolor": "white",
          "plot_bgcolor": "#E5ECF6",
          "polar": {
           "angularaxis": {
            "gridcolor": "white",
            "linecolor": "white",
            "ticks": ""
           },
           "bgcolor": "#E5ECF6",
           "radialaxis": {
            "gridcolor": "white",
            "linecolor": "white",
            "ticks": ""
           }
          },
          "scene": {
           "xaxis": {
            "backgroundcolor": "#E5ECF6",
            "gridcolor": "white",
            "gridwidth": 2,
            "linecolor": "white",
            "showbackground": true,
            "ticks": "",
            "zerolinecolor": "white"
           },
           "yaxis": {
            "backgroundcolor": "#E5ECF6",
            "gridcolor": "white",
            "gridwidth": 2,
            "linecolor": "white",
            "showbackground": true,
            "ticks": "",
            "zerolinecolor": "white"
           },
           "zaxis": {
            "backgroundcolor": "#E5ECF6",
            "gridcolor": "white",
            "gridwidth": 2,
            "linecolor": "white",
            "showbackground": true,
            "ticks": "",
            "zerolinecolor": "white"
           }
          },
          "shapedefaults": {
           "line": {
            "color": "#2a3f5f"
           }
          },
          "ternary": {
           "aaxis": {
            "gridcolor": "white",
            "linecolor": "white",
            "ticks": ""
           },
           "baxis": {
            "gridcolor": "white",
            "linecolor": "white",
            "ticks": ""
           },
           "bgcolor": "#E5ECF6",
           "caxis": {
            "gridcolor": "white",
            "linecolor": "white",
            "ticks": ""
           }
          },
          "title": {
           "x": 0.05
          },
          "xaxis": {
           "automargin": true,
           "gridcolor": "white",
           "linecolor": "white",
           "ticks": "",
           "title": {
            "standoff": 15
           },
           "zerolinecolor": "white",
           "zerolinewidth": 2
          },
          "yaxis": {
           "automargin": true,
           "gridcolor": "white",
           "linecolor": "white",
           "ticks": "",
           "title": {
            "standoff": 15
           },
           "zerolinecolor": "white",
           "zerolinewidth": 2
          }
         }
        },
        "title": {
         "text": "Number of people who took the 1st dose vs people who took both doses per region"
        },
        "xaxis": {
         "anchor": "y",
         "domain": [
          0,
          1
         ],
         "title": {
          "text": "Län"
         }
        },
        "yaxis": {
         "anchor": "x",
         "domain": [
          0,
          1
         ],
         "title": {
          "text": "Antal personer"
         }
        }
       }
      }
     },
     "metadata": {}
    }
   ],
   "metadata": {}
  },
  {
   "cell_type": "markdown",
   "source": [
    "# Uppgift 3 - KPIer & explorativ dataanalys\n",
    "Definiera 3-6 KPIer utöver de som använts i ovanstående uppgifter och gör explorativ dataanalys på flera sheets på båda Excel-filerna. Se till att dokumentera vad du undersöker med markdown kombinerad med kod i Jupyter notebook eller om du använder Pythonskript, skriv en markdown vid sidan om. Dokumentera också vad du kommer fram till och spara alla visualiseringar.\n",
    "\n",
    "## KPI's :\n",
    "Since we can't use the same indicators as what we already worked with in the tasks above, the most interesting KPIs in my opinion would be :\n",
    "- Total Vaccinated with 1st dose\n",
    "- Total Vaccinated with 2nd dose\n",
    "- Vaccinations performed every week\n",
    "- Patients sitting in intensive care"
   ],
   "metadata": {}
  },
  {
   "cell_type": "code",
   "execution_count": 86,
   "source": [
    "# creating a function for cleaning the data from our excel sheet\n",
    "\n",
    "\n",
    "def create_df(df:\"pd.DataFrame\",criteria:str,column_name:str):\n",
    "    #grabbing the data that has our criteria only ( mist 1 dos OR fully vaccinated), then dropping vaccination status\n",
    "    main_df = df[df[\"Vaccinationsstatus\"]==criteria].drop(columns=[\"Vaccinationsstatus\",\"Andel vaccinerade\"])\n",
    "\n",
    "    #grabbing only the data concerning the whole country, then dropping the region column\n",
    "    main_df = main_df[main_df[\"Region\"]==\"| Sverige |\"].drop(columns=[\"Region\"])\n",
    "\n",
    "    #grouping the year and week columns into 1 column\n",
    "    main_df[\"Vecka\"] = main_df[\"År\"].astype(str) + \"v\" + main_df[\"Vecka\"].astype(str)\n",
    "\n",
    "    #dropping the \"year\" column then renaming the column \"Antal vaccinerade\" to the name we need (1st dose OR 2nd dose in this case)\n",
    "    main_df = main_df.drop(columns=\"År\").rename(columns={\"Antal vaccinerade\":column_name})\n",
    "\n",
    "    #return our dataframe\n",
    "    return main_df\n",
    "\n",
    "\n",
    "# read in the excel sheet data\n",
    "vaccinerade_by_time = pd.read_excel(covid19_vaccine_file_path, sheet_name=\"Vaccinerade tidsserie\")\n",
    "\n",
    "# cleaning the data and creating 2 seperate dataframes\n",
    "vaccinerade_1_dos = create_df(vaccinerade_by_time,\"Minst 1 dos\",\"1st dose\")\n",
    "vaccinerade_2_dos = create_df(vaccinerade_by_time,\"Färdigvaccinerade\",\"2nd dose\")\n",
    "\n",
    "# concatenating the 2 dataframes by making the column \"Vecka\" the index for both.\n",
    "vaccinerade = pd.concat([vaccinerade_1_dos.set_index(\"Vecka\"),vaccinerade_2_dos.set_index(\"Vecka\")], axis=\"columns\")\n",
    "\n",
    "\n",
    "# creating and plotting the figure with plotly express\n",
    "fig = px.line(data_frame=vaccinerade, \n",
    "                labels={\"variable\":\"Variable\",\"value\":\"Value\",\"Vecka\":\"Week\"}, \n",
    "                title = \"Progress of the vaccination process in Sweden\")\n",
    "fig.show()\n",
    "\n",
    "#saving the figure as a html file \n",
    "fig.write_html(\"Visualiseringar/Upp3_KPI1_KPI2_Progress_of_the_vaccination_process_in_Sweden.html\")"
   ],
   "outputs": [
    {
     "output_type": "display_data",
     "data": {
      "application/vnd.plotly.v1+json": {
       "config": {
        "plotlyServerURL": "https://plot.ly"
       },
       "data": [
        {
         "hovertemplate": "Variable=1st dose<br>Week=%{x}<br>Value=%{y}<extra></extra>",
         "legendgroup": "1st dose",
         "line": {
          "color": "#636efa",
          "dash": "solid"
         },
         "marker": {
          "symbol": "circle"
         },
         "mode": "lines",
         "name": "1st dose",
         "orientation": "v",
         "showlegend": true,
         "type": "scatter",
         "x": [
          "2020v52",
          "2020v53",
          "2021v1",
          "2021v2",
          "2021v3",
          "2021v4",
          "2021v5",
          "2021v6",
          "2021v7",
          "2021v8",
          "2021v9",
          "2021v10",
          "2021v11",
          "2021v12",
          "2021v13",
          "2021v14",
          "2021v15",
          "2021v16",
          "2021v17",
          "2021v18",
          "2021v19",
          "2021v20",
          "2021v21",
          "2021v22",
          "2021v23",
          "2021v24",
          "2021v25",
          "2021v26",
          "2021v27",
          "2021v28",
          "2021v29",
          "2021v30",
          "2021v31",
          "2021v32",
          "2021v33",
          "2021v34",
          "2021v35",
          "2021v36",
          "2021v37",
          "2021v38",
          "2021v39",
          "2021v40",
          "2021v41",
          "2021v42"
         ],
         "xaxis": "x",
         "y": [
          2472,
          16514,
          52943,
          132176,
          237382,
          302086,
          345424,
          391880,
          462115,
          563878,
          715948,
          898016,
          1017046,
          1145993,
          1343258,
          1595509,
          2004400,
          2407382,
          2780299,
          3123469,
          3402235,
          3651759,
          3847624,
          4064203,
          4333570,
          4636503,
          4925305,
          5336222,
          5722719,
          6072782,
          6311606,
          6451176,
          6559607,
          6694322,
          6803978,
          6893057,
          6968197,
          7033807,
          7089994,
          7134073,
          7167636,
          7189274,
          7214329,
          7229620
         ],
         "yaxis": "y"
        },
        {
         "hovertemplate": "Variable=2nd dose<br>Week=%{x}<br>Value=%{y}<extra></extra>",
         "legendgroup": "2nd dose",
         "line": {
          "color": "#EF553B",
          "dash": "solid"
         },
         "marker": {
          "symbol": "circle"
         },
         "mode": "lines",
         "name": "2nd dose",
         "orientation": "v",
         "showlegend": true,
         "type": "scatter",
         "x": [
          "2020v52",
          "2020v53",
          "2021v1",
          "2021v2",
          "2021v3",
          "2021v4",
          "2021v5",
          "2021v6",
          "2021v7",
          "2021v8",
          "2021v9",
          "2021v10",
          "2021v11",
          "2021v12",
          "2021v13",
          "2021v14",
          "2021v15",
          "2021v16",
          "2021v17",
          "2021v18",
          "2021v19",
          "2021v20",
          "2021v21",
          "2021v22",
          "2021v23",
          "2021v24",
          "2021v25",
          "2021v26",
          "2021v27",
          "2021v28",
          "2021v29",
          "2021v30",
          "2021v31",
          "2021v32",
          "2021v33",
          "2021v34",
          "2021v35",
          "2021v36",
          "2021v37",
          "2021v38",
          "2021v39",
          "2021v40",
          "2021v41",
          "2021v42"
         ],
         "xaxis": "x",
         "y": [
          0,
          0,
          0,
          560,
          11909,
          38386,
          95213,
          166790,
          251337,
          306298,
          344352,
          383842,
          439435,
          509139,
          577678,
          671902,
          738791,
          777298,
          805108,
          921074,
          1068994,
          1274350,
          1563275,
          1931864,
          2343418,
          2813050,
          3161840,
          3483828,
          3694230,
          3854234,
          4059241,
          4318413,
          4613582,
          4949822,
          5362602,
          5748770,
          6046195,
          6262844,
          6438360,
          6568942,
          6677088,
          6752600,
          6812793,
          6858972
         ],
         "yaxis": "y"
        }
       ],
       "layout": {
        "legend": {
         "title": {
          "text": "Variable"
         },
         "tracegroupgap": 0
        },
        "template": {
         "data": {
          "bar": [
           {
            "error_x": {
             "color": "#2a3f5f"
            },
            "error_y": {
             "color": "#2a3f5f"
            },
            "marker": {
             "line": {
              "color": "#E5ECF6",
              "width": 0.5
             },
             "pattern": {
              "fillmode": "overlay",
              "size": 10,
              "solidity": 0.2
             }
            },
            "type": "bar"
           }
          ],
          "barpolar": [
           {
            "marker": {
             "line": {
              "color": "#E5ECF6",
              "width": 0.5
             },
             "pattern": {
              "fillmode": "overlay",
              "size": 10,
              "solidity": 0.2
             }
            },
            "type": "barpolar"
           }
          ],
          "carpet": [
           {
            "aaxis": {
             "endlinecolor": "#2a3f5f",
             "gridcolor": "white",
             "linecolor": "white",
             "minorgridcolor": "white",
             "startlinecolor": "#2a3f5f"
            },
            "baxis": {
             "endlinecolor": "#2a3f5f",
             "gridcolor": "white",
             "linecolor": "white",
             "minorgridcolor": "white",
             "startlinecolor": "#2a3f5f"
            },
            "type": "carpet"
           }
          ],
          "choropleth": [
           {
            "colorbar": {
             "outlinewidth": 0,
             "ticks": ""
            },
            "type": "choropleth"
           }
          ],
          "contour": [
           {
            "colorbar": {
             "outlinewidth": 0,
             "ticks": ""
            },
            "colorscale": [
             [
              0,
              "#0d0887"
             ],
             [
              0.1111111111111111,
              "#46039f"
             ],
             [
              0.2222222222222222,
              "#7201a8"
             ],
             [
              0.3333333333333333,
              "#9c179e"
             ],
             [
              0.4444444444444444,
              "#bd3786"
             ],
             [
              0.5555555555555556,
              "#d8576b"
             ],
             [
              0.6666666666666666,
              "#ed7953"
             ],
             [
              0.7777777777777778,
              "#fb9f3a"
             ],
             [
              0.8888888888888888,
              "#fdca26"
             ],
             [
              1,
              "#f0f921"
             ]
            ],
            "type": "contour"
           }
          ],
          "contourcarpet": [
           {
            "colorbar": {
             "outlinewidth": 0,
             "ticks": ""
            },
            "type": "contourcarpet"
           }
          ],
          "heatmap": [
           {
            "colorbar": {
             "outlinewidth": 0,
             "ticks": ""
            },
            "colorscale": [
             [
              0,
              "#0d0887"
             ],
             [
              0.1111111111111111,
              "#46039f"
             ],
             [
              0.2222222222222222,
              "#7201a8"
             ],
             [
              0.3333333333333333,
              "#9c179e"
             ],
             [
              0.4444444444444444,
              "#bd3786"
             ],
             [
              0.5555555555555556,
              "#d8576b"
             ],
             [
              0.6666666666666666,
              "#ed7953"
             ],
             [
              0.7777777777777778,
              "#fb9f3a"
             ],
             [
              0.8888888888888888,
              "#fdca26"
             ],
             [
              1,
              "#f0f921"
             ]
            ],
            "type": "heatmap"
           }
          ],
          "heatmapgl": [
           {
            "colorbar": {
             "outlinewidth": 0,
             "ticks": ""
            },
            "colorscale": [
             [
              0,
              "#0d0887"
             ],
             [
              0.1111111111111111,
              "#46039f"
             ],
             [
              0.2222222222222222,
              "#7201a8"
             ],
             [
              0.3333333333333333,
              "#9c179e"
             ],
             [
              0.4444444444444444,
              "#bd3786"
             ],
             [
              0.5555555555555556,
              "#d8576b"
             ],
             [
              0.6666666666666666,
              "#ed7953"
             ],
             [
              0.7777777777777778,
              "#fb9f3a"
             ],
             [
              0.8888888888888888,
              "#fdca26"
             ],
             [
              1,
              "#f0f921"
             ]
            ],
            "type": "heatmapgl"
           }
          ],
          "histogram": [
           {
            "marker": {
             "pattern": {
              "fillmode": "overlay",
              "size": 10,
              "solidity": 0.2
             }
            },
            "type": "histogram"
           }
          ],
          "histogram2d": [
           {
            "colorbar": {
             "outlinewidth": 0,
             "ticks": ""
            },
            "colorscale": [
             [
              0,
              "#0d0887"
             ],
             [
              0.1111111111111111,
              "#46039f"
             ],
             [
              0.2222222222222222,
              "#7201a8"
             ],
             [
              0.3333333333333333,
              "#9c179e"
             ],
             [
              0.4444444444444444,
              "#bd3786"
             ],
             [
              0.5555555555555556,
              "#d8576b"
             ],
             [
              0.6666666666666666,
              "#ed7953"
             ],
             [
              0.7777777777777778,
              "#fb9f3a"
             ],
             [
              0.8888888888888888,
              "#fdca26"
             ],
             [
              1,
              "#f0f921"
             ]
            ],
            "type": "histogram2d"
           }
          ],
          "histogram2dcontour": [
           {
            "colorbar": {
             "outlinewidth": 0,
             "ticks": ""
            },
            "colorscale": [
             [
              0,
              "#0d0887"
             ],
             [
              0.1111111111111111,
              "#46039f"
             ],
             [
              0.2222222222222222,
              "#7201a8"
             ],
             [
              0.3333333333333333,
              "#9c179e"
             ],
             [
              0.4444444444444444,
              "#bd3786"
             ],
             [
              0.5555555555555556,
              "#d8576b"
             ],
             [
              0.6666666666666666,
              "#ed7953"
             ],
             [
              0.7777777777777778,
              "#fb9f3a"
             ],
             [
              0.8888888888888888,
              "#fdca26"
             ],
             [
              1,
              "#f0f921"
             ]
            ],
            "type": "histogram2dcontour"
           }
          ],
          "mesh3d": [
           {
            "colorbar": {
             "outlinewidth": 0,
             "ticks": ""
            },
            "type": "mesh3d"
           }
          ],
          "parcoords": [
           {
            "line": {
             "colorbar": {
              "outlinewidth": 0,
              "ticks": ""
             }
            },
            "type": "parcoords"
           }
          ],
          "pie": [
           {
            "automargin": true,
            "type": "pie"
           }
          ],
          "scatter": [
           {
            "marker": {
             "colorbar": {
              "outlinewidth": 0,
              "ticks": ""
             }
            },
            "type": "scatter"
           }
          ],
          "scatter3d": [
           {
            "line": {
             "colorbar": {
              "outlinewidth": 0,
              "ticks": ""
             }
            },
            "marker": {
             "colorbar": {
              "outlinewidth": 0,
              "ticks": ""
             }
            },
            "type": "scatter3d"
           }
          ],
          "scattercarpet": [
           {
            "marker": {
             "colorbar": {
              "outlinewidth": 0,
              "ticks": ""
             }
            },
            "type": "scattercarpet"
           }
          ],
          "scattergeo": [
           {
            "marker": {
             "colorbar": {
              "outlinewidth": 0,
              "ticks": ""
             }
            },
            "type": "scattergeo"
           }
          ],
          "scattergl": [
           {
            "marker": {
             "colorbar": {
              "outlinewidth": 0,
              "ticks": ""
             }
            },
            "type": "scattergl"
           }
          ],
          "scattermapbox": [
           {
            "marker": {
             "colorbar": {
              "outlinewidth": 0,
              "ticks": ""
             }
            },
            "type": "scattermapbox"
           }
          ],
          "scatterpolar": [
           {
            "marker": {
             "colorbar": {
              "outlinewidth": 0,
              "ticks": ""
             }
            },
            "type": "scatterpolar"
           }
          ],
          "scatterpolargl": [
           {
            "marker": {
             "colorbar": {
              "outlinewidth": 0,
              "ticks": ""
             }
            },
            "type": "scatterpolargl"
           }
          ],
          "scatterternary": [
           {
            "marker": {
             "colorbar": {
              "outlinewidth": 0,
              "ticks": ""
             }
            },
            "type": "scatterternary"
           }
          ],
          "surface": [
           {
            "colorbar": {
             "outlinewidth": 0,
             "ticks": ""
            },
            "colorscale": [
             [
              0,
              "#0d0887"
             ],
             [
              0.1111111111111111,
              "#46039f"
             ],
             [
              0.2222222222222222,
              "#7201a8"
             ],
             [
              0.3333333333333333,
              "#9c179e"
             ],
             [
              0.4444444444444444,
              "#bd3786"
             ],
             [
              0.5555555555555556,
              "#d8576b"
             ],
             [
              0.6666666666666666,
              "#ed7953"
             ],
             [
              0.7777777777777778,
              "#fb9f3a"
             ],
             [
              0.8888888888888888,
              "#fdca26"
             ],
             [
              1,
              "#f0f921"
             ]
            ],
            "type": "surface"
           }
          ],
          "table": [
           {
            "cells": {
             "fill": {
              "color": "#EBF0F8"
             },
             "line": {
              "color": "white"
             }
            },
            "header": {
             "fill": {
              "color": "#C8D4E3"
             },
             "line": {
              "color": "white"
             }
            },
            "type": "table"
           }
          ]
         },
         "layout": {
          "annotationdefaults": {
           "arrowcolor": "#2a3f5f",
           "arrowhead": 0,
           "arrowwidth": 1
          },
          "autotypenumbers": "strict",
          "coloraxis": {
           "colorbar": {
            "outlinewidth": 0,
            "ticks": ""
           }
          },
          "colorscale": {
           "diverging": [
            [
             0,
             "#8e0152"
            ],
            [
             0.1,
             "#c51b7d"
            ],
            [
             0.2,
             "#de77ae"
            ],
            [
             0.3,
             "#f1b6da"
            ],
            [
             0.4,
             "#fde0ef"
            ],
            [
             0.5,
             "#f7f7f7"
            ],
            [
             0.6,
             "#e6f5d0"
            ],
            [
             0.7,
             "#b8e186"
            ],
            [
             0.8,
             "#7fbc41"
            ],
            [
             0.9,
             "#4d9221"
            ],
            [
             1,
             "#276419"
            ]
           ],
           "sequential": [
            [
             0,
             "#0d0887"
            ],
            [
             0.1111111111111111,
             "#46039f"
            ],
            [
             0.2222222222222222,
             "#7201a8"
            ],
            [
             0.3333333333333333,
             "#9c179e"
            ],
            [
             0.4444444444444444,
             "#bd3786"
            ],
            [
             0.5555555555555556,
             "#d8576b"
            ],
            [
             0.6666666666666666,
             "#ed7953"
            ],
            [
             0.7777777777777778,
             "#fb9f3a"
            ],
            [
             0.8888888888888888,
             "#fdca26"
            ],
            [
             1,
             "#f0f921"
            ]
           ],
           "sequentialminus": [
            [
             0,
             "#0d0887"
            ],
            [
             0.1111111111111111,
             "#46039f"
            ],
            [
             0.2222222222222222,
             "#7201a8"
            ],
            [
             0.3333333333333333,
             "#9c179e"
            ],
            [
             0.4444444444444444,
             "#bd3786"
            ],
            [
             0.5555555555555556,
             "#d8576b"
            ],
            [
             0.6666666666666666,
             "#ed7953"
            ],
            [
             0.7777777777777778,
             "#fb9f3a"
            ],
            [
             0.8888888888888888,
             "#fdca26"
            ],
            [
             1,
             "#f0f921"
            ]
           ]
          },
          "colorway": [
           "#636efa",
           "#EF553B",
           "#00cc96",
           "#ab63fa",
           "#FFA15A",
           "#19d3f3",
           "#FF6692",
           "#B6E880",
           "#FF97FF",
           "#FECB52"
          ],
          "font": {
           "color": "#2a3f5f"
          },
          "geo": {
           "bgcolor": "white",
           "lakecolor": "white",
           "landcolor": "#E5ECF6",
           "showlakes": true,
           "showland": true,
           "subunitcolor": "white"
          },
          "hoverlabel": {
           "align": "left"
          },
          "hovermode": "closest",
          "mapbox": {
           "style": "light"
          },
          "paper_bgcolor": "white",
          "plot_bgcolor": "#E5ECF6",
          "polar": {
           "angularaxis": {
            "gridcolor": "white",
            "linecolor": "white",
            "ticks": ""
           },
           "bgcolor": "#E5ECF6",
           "radialaxis": {
            "gridcolor": "white",
            "linecolor": "white",
            "ticks": ""
           }
          },
          "scene": {
           "xaxis": {
            "backgroundcolor": "#E5ECF6",
            "gridcolor": "white",
            "gridwidth": 2,
            "linecolor": "white",
            "showbackground": true,
            "ticks": "",
            "zerolinecolor": "white"
           },
           "yaxis": {
            "backgroundcolor": "#E5ECF6",
            "gridcolor": "white",
            "gridwidth": 2,
            "linecolor": "white",
            "showbackground": true,
            "ticks": "",
            "zerolinecolor": "white"
           },
           "zaxis": {
            "backgroundcolor": "#E5ECF6",
            "gridcolor": "white",
            "gridwidth": 2,
            "linecolor": "white",
            "showbackground": true,
            "ticks": "",
            "zerolinecolor": "white"
           }
          },
          "shapedefaults": {
           "line": {
            "color": "#2a3f5f"
           }
          },
          "ternary": {
           "aaxis": {
            "gridcolor": "white",
            "linecolor": "white",
            "ticks": ""
           },
           "baxis": {
            "gridcolor": "white",
            "linecolor": "white",
            "ticks": ""
           },
           "bgcolor": "#E5ECF6",
           "caxis": {
            "gridcolor": "white",
            "linecolor": "white",
            "ticks": ""
           }
          },
          "title": {
           "x": 0.05
          },
          "xaxis": {
           "automargin": true,
           "gridcolor": "white",
           "linecolor": "white",
           "ticks": "",
           "title": {
            "standoff": 15
           },
           "zerolinecolor": "white",
           "zerolinewidth": 2
          },
          "yaxis": {
           "automargin": true,
           "gridcolor": "white",
           "linecolor": "white",
           "ticks": "",
           "title": {
            "standoff": 15
           },
           "zerolinecolor": "white",
           "zerolinewidth": 2
          }
         }
        },
        "title": {
         "text": "Progress of the vaccination process in Sweden"
        },
        "xaxis": {
         "anchor": "y",
         "domain": [
          0,
          1
         ],
         "title": {
          "text": "Week"
         }
        },
        "yaxis": {
         "anchor": "x",
         "domain": [
          0,
          1
         ],
         "title": {
          "text": "Value"
         }
        }
       }
      }
     },
     "metadata": {}
    }
   ],
   "metadata": {}
  },
  {
   "cell_type": "code",
   "execution_count": 87,
   "source": [
    "# Vaccinations performed everyweek\n",
    "\n",
    "#read in the right sheet from the excel file\n",
    "vaccionation_per_week = pd.read_excel(covid19_vaccine_file_path, sheet_name=\"Vaccinationer tidsserie\")\n",
    "\n",
    "#keep only the data about the whole country and drop the column \"Region\"\n",
    "vaccionation_per_week = vaccionation_per_week[vaccionation_per_week[\"Region\"]==\"| Sverige |\"].drop(columns=\"Region\")\n",
    "\n",
    "#merge the year and week columns to get a column with data in the type \"2020v6\" \n",
    "vaccionation_per_week[\"Vecka\"] = vaccionation_per_week[\"År\"].astype(str) + \"v\" +vaccionation_per_week[\"Vecka\"].astype(str)\n",
    "\n",
    "# drop the \"År\" column\n",
    "vaccionation_per_week = vaccionation_per_week.drop(columns=\"År\")\n",
    "\n",
    "#reset index\n",
    "vaccionation_per_week = vaccionation_per_week.reset_index(drop=True)\n",
    "\n",
    "#initialize a list with the first value being the value of the first week of vaccination\n",
    "new_values = [vaccionation_per_week[\"Antal vaccinationer\"][0]]\n",
    "\n",
    "#go through the data and substract the value before from the actual value, to get the weekly doses from the accumulated doses taken\n",
    "for i in range(1,len(vaccionation_per_week)):\n",
    "    new_values.append(vaccionation_per_week[\"Antal vaccinationer\"][i]-vaccionation_per_week[\"Antal vaccinationer\"][i-1])\n",
    "\n",
    "#add the values to the dataframe in a new column\n",
    "vaccionation_per_week[\"Antal vaccinationer vecka\"] = new_values\n",
    "\n",
    "#create the figure with our new column as \"y\" using plotly express\n",
    "fig = px.line(data_frame=vaccionation_per_week, \n",
    "                x = \"Vecka\", \n",
    "                y=\"Antal vaccinationer vecka\", \n",
    "                title = \"Vaccinations taken per week\")\n",
    "fig.show()\n",
    "\n",
    "#save the file as html\n",
    "fig.write_html(\"Visualiseringar/Upp3_KPI3_Vaccinations_taken_per_week.html\")"
   ],
   "outputs": [
    {
     "output_type": "display_data",
     "data": {
      "application/vnd.plotly.v1+json": {
       "config": {
        "plotlyServerURL": "https://plot.ly"
       },
       "data": [
        {
         "hovertemplate": "Vecka=%{x}<br>Antal vaccinationer vecka=%{y}<extra></extra>",
         "legendgroup": "",
         "line": {
          "color": "#636efa",
          "dash": "solid"
         },
         "marker": {
          "symbol": "circle"
         },
         "mode": "lines",
         "name": "",
         "orientation": "v",
         "showlegend": false,
         "type": "scatter",
         "x": [
          "2020v52",
          "2020v53",
          "2021v1",
          "2021v2",
          "2021v3",
          "2021v4",
          "2021v5",
          "2021v6",
          "2021v7",
          "2021v8",
          "2021v9",
          "2021v10",
          "2021v11",
          "2021v12",
          "2021v13",
          "2021v14",
          "2021v15",
          "2021v16",
          "2021v17",
          "2021v18",
          "2021v19",
          "2021v20",
          "2021v21",
          "2021v22",
          "2021v23",
          "2021v24",
          "2021v25",
          "2021v26",
          "2021v27",
          "2021v28",
          "2021v29",
          "2021v30",
          "2021v31",
          "2021v32",
          "2021v33",
          "2021v34",
          "2021v35",
          "2021v36",
          "2021v37",
          "2021v38",
          "2021v39",
          "2021v40",
          "2021v41",
          "2021v42"
         ],
         "xaxis": "x",
         "y": [
          2472,
          14042,
          36430,
          79794,
          116557,
          91186,
          100166,
          118038,
          154788,
          156726,
          190129,
          221564,
          174629,
          198655,
          265806,
          346479,
          475784,
          441495,
          400737,
          459140,
          426699,
          454895,
          484804,
          585180,
          680932,
          772586,
          637608,
          732946,
          596962,
          510144,
          443921,
          398848,
          403675,
          471074,
          522590,
          475436,
          373104,
          284244,
          238277,
          183969,
          154040,
          142587,
          198927,
          183569
         ],
         "yaxis": "y"
        }
       ],
       "layout": {
        "legend": {
         "tracegroupgap": 0
        },
        "template": {
         "data": {
          "bar": [
           {
            "error_x": {
             "color": "#2a3f5f"
            },
            "error_y": {
             "color": "#2a3f5f"
            },
            "marker": {
             "line": {
              "color": "#E5ECF6",
              "width": 0.5
             },
             "pattern": {
              "fillmode": "overlay",
              "size": 10,
              "solidity": 0.2
             }
            },
            "type": "bar"
           }
          ],
          "barpolar": [
           {
            "marker": {
             "line": {
              "color": "#E5ECF6",
              "width": 0.5
             },
             "pattern": {
              "fillmode": "overlay",
              "size": 10,
              "solidity": 0.2
             }
            },
            "type": "barpolar"
           }
          ],
          "carpet": [
           {
            "aaxis": {
             "endlinecolor": "#2a3f5f",
             "gridcolor": "white",
             "linecolor": "white",
             "minorgridcolor": "white",
             "startlinecolor": "#2a3f5f"
            },
            "baxis": {
             "endlinecolor": "#2a3f5f",
             "gridcolor": "white",
             "linecolor": "white",
             "minorgridcolor": "white",
             "startlinecolor": "#2a3f5f"
            },
            "type": "carpet"
           }
          ],
          "choropleth": [
           {
            "colorbar": {
             "outlinewidth": 0,
             "ticks": ""
            },
            "type": "choropleth"
           }
          ],
          "contour": [
           {
            "colorbar": {
             "outlinewidth": 0,
             "ticks": ""
            },
            "colorscale": [
             [
              0,
              "#0d0887"
             ],
             [
              0.1111111111111111,
              "#46039f"
             ],
             [
              0.2222222222222222,
              "#7201a8"
             ],
             [
              0.3333333333333333,
              "#9c179e"
             ],
             [
              0.4444444444444444,
              "#bd3786"
             ],
             [
              0.5555555555555556,
              "#d8576b"
             ],
             [
              0.6666666666666666,
              "#ed7953"
             ],
             [
              0.7777777777777778,
              "#fb9f3a"
             ],
             [
              0.8888888888888888,
              "#fdca26"
             ],
             [
              1,
              "#f0f921"
             ]
            ],
            "type": "contour"
           }
          ],
          "contourcarpet": [
           {
            "colorbar": {
             "outlinewidth": 0,
             "ticks": ""
            },
            "type": "contourcarpet"
           }
          ],
          "heatmap": [
           {
            "colorbar": {
             "outlinewidth": 0,
             "ticks": ""
            },
            "colorscale": [
             [
              0,
              "#0d0887"
             ],
             [
              0.1111111111111111,
              "#46039f"
             ],
             [
              0.2222222222222222,
              "#7201a8"
             ],
             [
              0.3333333333333333,
              "#9c179e"
             ],
             [
              0.4444444444444444,
              "#bd3786"
             ],
             [
              0.5555555555555556,
              "#d8576b"
             ],
             [
              0.6666666666666666,
              "#ed7953"
             ],
             [
              0.7777777777777778,
              "#fb9f3a"
             ],
             [
              0.8888888888888888,
              "#fdca26"
             ],
             [
              1,
              "#f0f921"
             ]
            ],
            "type": "heatmap"
           }
          ],
          "heatmapgl": [
           {
            "colorbar": {
             "outlinewidth": 0,
             "ticks": ""
            },
            "colorscale": [
             [
              0,
              "#0d0887"
             ],
             [
              0.1111111111111111,
              "#46039f"
             ],
             [
              0.2222222222222222,
              "#7201a8"
             ],
             [
              0.3333333333333333,
              "#9c179e"
             ],
             [
              0.4444444444444444,
              "#bd3786"
             ],
             [
              0.5555555555555556,
              "#d8576b"
             ],
             [
              0.6666666666666666,
              "#ed7953"
             ],
             [
              0.7777777777777778,
              "#fb9f3a"
             ],
             [
              0.8888888888888888,
              "#fdca26"
             ],
             [
              1,
              "#f0f921"
             ]
            ],
            "type": "heatmapgl"
           }
          ],
          "histogram": [
           {
            "marker": {
             "pattern": {
              "fillmode": "overlay",
              "size": 10,
              "solidity": 0.2
             }
            },
            "type": "histogram"
           }
          ],
          "histogram2d": [
           {
            "colorbar": {
             "outlinewidth": 0,
             "ticks": ""
            },
            "colorscale": [
             [
              0,
              "#0d0887"
             ],
             [
              0.1111111111111111,
              "#46039f"
             ],
             [
              0.2222222222222222,
              "#7201a8"
             ],
             [
              0.3333333333333333,
              "#9c179e"
             ],
             [
              0.4444444444444444,
              "#bd3786"
             ],
             [
              0.5555555555555556,
              "#d8576b"
             ],
             [
              0.6666666666666666,
              "#ed7953"
             ],
             [
              0.7777777777777778,
              "#fb9f3a"
             ],
             [
              0.8888888888888888,
              "#fdca26"
             ],
             [
              1,
              "#f0f921"
             ]
            ],
            "type": "histogram2d"
           }
          ],
          "histogram2dcontour": [
           {
            "colorbar": {
             "outlinewidth": 0,
             "ticks": ""
            },
            "colorscale": [
             [
              0,
              "#0d0887"
             ],
             [
              0.1111111111111111,
              "#46039f"
             ],
             [
              0.2222222222222222,
              "#7201a8"
             ],
             [
              0.3333333333333333,
              "#9c179e"
             ],
             [
              0.4444444444444444,
              "#bd3786"
             ],
             [
              0.5555555555555556,
              "#d8576b"
             ],
             [
              0.6666666666666666,
              "#ed7953"
             ],
             [
              0.7777777777777778,
              "#fb9f3a"
             ],
             [
              0.8888888888888888,
              "#fdca26"
             ],
             [
              1,
              "#f0f921"
             ]
            ],
            "type": "histogram2dcontour"
           }
          ],
          "mesh3d": [
           {
            "colorbar": {
             "outlinewidth": 0,
             "ticks": ""
            },
            "type": "mesh3d"
           }
          ],
          "parcoords": [
           {
            "line": {
             "colorbar": {
              "outlinewidth": 0,
              "ticks": ""
             }
            },
            "type": "parcoords"
           }
          ],
          "pie": [
           {
            "automargin": true,
            "type": "pie"
           }
          ],
          "scatter": [
           {
            "marker": {
             "colorbar": {
              "outlinewidth": 0,
              "ticks": ""
             }
            },
            "type": "scatter"
           }
          ],
          "scatter3d": [
           {
            "line": {
             "colorbar": {
              "outlinewidth": 0,
              "ticks": ""
             }
            },
            "marker": {
             "colorbar": {
              "outlinewidth": 0,
              "ticks": ""
             }
            },
            "type": "scatter3d"
           }
          ],
          "scattercarpet": [
           {
            "marker": {
             "colorbar": {
              "outlinewidth": 0,
              "ticks": ""
             }
            },
            "type": "scattercarpet"
           }
          ],
          "scattergeo": [
           {
            "marker": {
             "colorbar": {
              "outlinewidth": 0,
              "ticks": ""
             }
            },
            "type": "scattergeo"
           }
          ],
          "scattergl": [
           {
            "marker": {
             "colorbar": {
              "outlinewidth": 0,
              "ticks": ""
             }
            },
            "type": "scattergl"
           }
          ],
          "scattermapbox": [
           {
            "marker": {
             "colorbar": {
              "outlinewidth": 0,
              "ticks": ""
             }
            },
            "type": "scattermapbox"
           }
          ],
          "scatterpolar": [
           {
            "marker": {
             "colorbar": {
              "outlinewidth": 0,
              "ticks": ""
             }
            },
            "type": "scatterpolar"
           }
          ],
          "scatterpolargl": [
           {
            "marker": {
             "colorbar": {
              "outlinewidth": 0,
              "ticks": ""
             }
            },
            "type": "scatterpolargl"
           }
          ],
          "scatterternary": [
           {
            "marker": {
             "colorbar": {
              "outlinewidth": 0,
              "ticks": ""
             }
            },
            "type": "scatterternary"
           }
          ],
          "surface": [
           {
            "colorbar": {
             "outlinewidth": 0,
             "ticks": ""
            },
            "colorscale": [
             [
              0,
              "#0d0887"
             ],
             [
              0.1111111111111111,
              "#46039f"
             ],
             [
              0.2222222222222222,
              "#7201a8"
             ],
             [
              0.3333333333333333,
              "#9c179e"
             ],
             [
              0.4444444444444444,
              "#bd3786"
             ],
             [
              0.5555555555555556,
              "#d8576b"
             ],
             [
              0.6666666666666666,
              "#ed7953"
             ],
             [
              0.7777777777777778,
              "#fb9f3a"
             ],
             [
              0.8888888888888888,
              "#fdca26"
             ],
             [
              1,
              "#f0f921"
             ]
            ],
            "type": "surface"
           }
          ],
          "table": [
           {
            "cells": {
             "fill": {
              "color": "#EBF0F8"
             },
             "line": {
              "color": "white"
             }
            },
            "header": {
             "fill": {
              "color": "#C8D4E3"
             },
             "line": {
              "color": "white"
             }
            },
            "type": "table"
           }
          ]
         },
         "layout": {
          "annotationdefaults": {
           "arrowcolor": "#2a3f5f",
           "arrowhead": 0,
           "arrowwidth": 1
          },
          "autotypenumbers": "strict",
          "coloraxis": {
           "colorbar": {
            "outlinewidth": 0,
            "ticks": ""
           }
          },
          "colorscale": {
           "diverging": [
            [
             0,
             "#8e0152"
            ],
            [
             0.1,
             "#c51b7d"
            ],
            [
             0.2,
             "#de77ae"
            ],
            [
             0.3,
             "#f1b6da"
            ],
            [
             0.4,
             "#fde0ef"
            ],
            [
             0.5,
             "#f7f7f7"
            ],
            [
             0.6,
             "#e6f5d0"
            ],
            [
             0.7,
             "#b8e186"
            ],
            [
             0.8,
             "#7fbc41"
            ],
            [
             0.9,
             "#4d9221"
            ],
            [
             1,
             "#276419"
            ]
           ],
           "sequential": [
            [
             0,
             "#0d0887"
            ],
            [
             0.1111111111111111,
             "#46039f"
            ],
            [
             0.2222222222222222,
             "#7201a8"
            ],
            [
             0.3333333333333333,
             "#9c179e"
            ],
            [
             0.4444444444444444,
             "#bd3786"
            ],
            [
             0.5555555555555556,
             "#d8576b"
            ],
            [
             0.6666666666666666,
             "#ed7953"
            ],
            [
             0.7777777777777778,
             "#fb9f3a"
            ],
            [
             0.8888888888888888,
             "#fdca26"
            ],
            [
             1,
             "#f0f921"
            ]
           ],
           "sequentialminus": [
            [
             0,
             "#0d0887"
            ],
            [
             0.1111111111111111,
             "#46039f"
            ],
            [
             0.2222222222222222,
             "#7201a8"
            ],
            [
             0.3333333333333333,
             "#9c179e"
            ],
            [
             0.4444444444444444,
             "#bd3786"
            ],
            [
             0.5555555555555556,
             "#d8576b"
            ],
            [
             0.6666666666666666,
             "#ed7953"
            ],
            [
             0.7777777777777778,
             "#fb9f3a"
            ],
            [
             0.8888888888888888,
             "#fdca26"
            ],
            [
             1,
             "#f0f921"
            ]
           ]
          },
          "colorway": [
           "#636efa",
           "#EF553B",
           "#00cc96",
           "#ab63fa",
           "#FFA15A",
           "#19d3f3",
           "#FF6692",
           "#B6E880",
           "#FF97FF",
           "#FECB52"
          ],
          "font": {
           "color": "#2a3f5f"
          },
          "geo": {
           "bgcolor": "white",
           "lakecolor": "white",
           "landcolor": "#E5ECF6",
           "showlakes": true,
           "showland": true,
           "subunitcolor": "white"
          },
          "hoverlabel": {
           "align": "left"
          },
          "hovermode": "closest",
          "mapbox": {
           "style": "light"
          },
          "paper_bgcolor": "white",
          "plot_bgcolor": "#E5ECF6",
          "polar": {
           "angularaxis": {
            "gridcolor": "white",
            "linecolor": "white",
            "ticks": ""
           },
           "bgcolor": "#E5ECF6",
           "radialaxis": {
            "gridcolor": "white",
            "linecolor": "white",
            "ticks": ""
           }
          },
          "scene": {
           "xaxis": {
            "backgroundcolor": "#E5ECF6",
            "gridcolor": "white",
            "gridwidth": 2,
            "linecolor": "white",
            "showbackground": true,
            "ticks": "",
            "zerolinecolor": "white"
           },
           "yaxis": {
            "backgroundcolor": "#E5ECF6",
            "gridcolor": "white",
            "gridwidth": 2,
            "linecolor": "white",
            "showbackground": true,
            "ticks": "",
            "zerolinecolor": "white"
           },
           "zaxis": {
            "backgroundcolor": "#E5ECF6",
            "gridcolor": "white",
            "gridwidth": 2,
            "linecolor": "white",
            "showbackground": true,
            "ticks": "",
            "zerolinecolor": "white"
           }
          },
          "shapedefaults": {
           "line": {
            "color": "#2a3f5f"
           }
          },
          "ternary": {
           "aaxis": {
            "gridcolor": "white",
            "linecolor": "white",
            "ticks": ""
           },
           "baxis": {
            "gridcolor": "white",
            "linecolor": "white",
            "ticks": ""
           },
           "bgcolor": "#E5ECF6",
           "caxis": {
            "gridcolor": "white",
            "linecolor": "white",
            "ticks": ""
           }
          },
          "title": {
           "x": 0.05
          },
          "xaxis": {
           "automargin": true,
           "gridcolor": "white",
           "linecolor": "white",
           "ticks": "",
           "title": {
            "standoff": 15
           },
           "zerolinecolor": "white",
           "zerolinewidth": 2
          },
          "yaxis": {
           "automargin": true,
           "gridcolor": "white",
           "linecolor": "white",
           "ticks": "",
           "title": {
            "standoff": 15
           },
           "zerolinecolor": "white",
           "zerolinewidth": 2
          }
         }
        },
        "title": {
         "text": "Vaccinations taken per week"
        },
        "xaxis": {
         "anchor": "y",
         "domain": [
          0,
          1
         ],
         "title": {
          "text": "Vecka"
         }
        },
        "yaxis": {
         "anchor": "x",
         "domain": [
          0,
          1
         ],
         "title": {
          "text": "Antal vaccinationer vecka"
         }
        }
       }
      }
     },
     "metadata": {}
    }
   ],
   "metadata": {}
  },
  {
   "cell_type": "code",
   "execution_count": 88,
   "source": [
    "# Patients sitting in the intensive care units \n",
    "\n",
    "#creating the figure and plotting it out using plotly express\n",
    "fig = px.line(data_frame=covid19, \n",
    "                x=\"Vecka\",\n",
    "                y=\"Antal nyaintensivvårdade per vecka\", \n",
    "                labels={\"Antal_nyaintensivvårdade_vecka\":\"Antal nya intensivvårdade per vecka\"},\n",
    "                title = \"Number of people entering intensive care per week\")\n",
    "fig.show()\n",
    "\n",
    "#saving the figure as a html file\n",
    "fig.write_html(\"Visualiseringar/Upp3_KPI4_Number_of_people_entering_intensive_care_per_week.html\")"
   ],
   "outputs": [
    {
     "output_type": "display_data",
     "data": {
      "application/vnd.plotly.v1+json": {
       "config": {
        "plotlyServerURL": "https://plot.ly"
       },
       "data": [
        {
         "hovertemplate": "Vecka=%{x}<br>Antal nyaintensivvårdade per vecka=%{y}<extra></extra>",
         "legendgroup": "",
         "line": {
          "color": "#636efa",
          "dash": "solid"
         },
         "marker": {
          "symbol": "circle"
         },
         "mode": "lines",
         "name": "",
         "orientation": "v",
         "showlegend": false,
         "type": "scatter",
         "x": [
          "2020v6",
          "2020v7",
          "2020v8",
          "2020v9",
          "2020v10",
          "2020v11",
          "2020v12",
          "2020v13",
          "2020v14",
          "2020v15",
          "2020v16",
          "2020v17",
          "2020v18",
          "2020v19",
          "2020v20",
          "2020v21",
          "2020v22",
          "2020v23",
          "2020v24",
          "2020v25",
          "2020v26",
          "2020v27",
          "2020v28",
          "2020v29",
          "2020v30",
          "2020v31",
          "2020v32",
          "2020v33",
          "2020v34",
          "2020v35",
          "2020v36",
          "2020v37",
          "2020v38",
          "2020v39",
          "2020v40",
          "2020v41",
          "2020v42",
          "2020v43",
          "2020v44",
          "2020v45",
          "2020v46",
          "2020v47",
          "2020v48",
          "2020v49",
          "2020v50",
          "2020v51",
          "2020v52",
          "2020v53",
          "2021v1",
          "2021v2",
          "2021v3",
          "2021v4",
          "2021v5",
          "2021v6",
          "2021v7",
          "2021v8",
          "2021v9",
          "2021v10",
          "2021v11",
          "2021v12",
          "2021v13",
          "2021v14",
          "2021v15",
          "2021v16",
          "2021v17",
          "2021v18",
          "2021v19",
          "2021v20",
          "2021v21",
          "2021v22",
          "2021v23",
          "2021v24",
          "2021v25",
          "2021v26",
          "2021v27",
          "2021v28",
          "2021v29",
          "2021v30",
          "2021v31",
          "2021v32",
          "2021v33",
          "2021v34",
          "2021v35",
          "2021v36",
          "2021v37",
          "2021v38",
          "2021v39",
          "2021v40",
          "2021v41",
          "2021v42"
         ],
         "xaxis": "x",
         "y": [
          0,
          0,
          0,
          0,
          3,
          16,
          88,
          238,
          277,
          289,
          250,
          238,
          188,
          156,
          124,
          111,
          122,
          123,
          90,
          74,
          56,
          34,
          14,
          14,
          12,
          11,
          16,
          13,
          8,
          7,
          8,
          8,
          7,
          8,
          14,
          22,
          19,
          37,
          59,
          110,
          120,
          153,
          170,
          166,
          165,
          187,
          206,
          234,
          185,
          153,
          125,
          109,
          105,
          105,
          109,
          133,
          135,
          151,
          166,
          176,
          219,
          250,
          246,
          211,
          206,
          181,
          118,
          87,
          60,
          29,
          32,
          11,
          15,
          4,
          7,
          10,
          6,
          13,
          19,
          22,
          24,
          36,
          47,
          29,
          24,
          21,
          17,
          15,
          13,
          11
         ],
         "yaxis": "y"
        }
       ],
       "layout": {
        "legend": {
         "tracegroupgap": 0
        },
        "template": {
         "data": {
          "bar": [
           {
            "error_x": {
             "color": "#2a3f5f"
            },
            "error_y": {
             "color": "#2a3f5f"
            },
            "marker": {
             "line": {
              "color": "#E5ECF6",
              "width": 0.5
             },
             "pattern": {
              "fillmode": "overlay",
              "size": 10,
              "solidity": 0.2
             }
            },
            "type": "bar"
           }
          ],
          "barpolar": [
           {
            "marker": {
             "line": {
              "color": "#E5ECF6",
              "width": 0.5
             },
             "pattern": {
              "fillmode": "overlay",
              "size": 10,
              "solidity": 0.2
             }
            },
            "type": "barpolar"
           }
          ],
          "carpet": [
           {
            "aaxis": {
             "endlinecolor": "#2a3f5f",
             "gridcolor": "white",
             "linecolor": "white",
             "minorgridcolor": "white",
             "startlinecolor": "#2a3f5f"
            },
            "baxis": {
             "endlinecolor": "#2a3f5f",
             "gridcolor": "white",
             "linecolor": "white",
             "minorgridcolor": "white",
             "startlinecolor": "#2a3f5f"
            },
            "type": "carpet"
           }
          ],
          "choropleth": [
           {
            "colorbar": {
             "outlinewidth": 0,
             "ticks": ""
            },
            "type": "choropleth"
           }
          ],
          "contour": [
           {
            "colorbar": {
             "outlinewidth": 0,
             "ticks": ""
            },
            "colorscale": [
             [
              0,
              "#0d0887"
             ],
             [
              0.1111111111111111,
              "#46039f"
             ],
             [
              0.2222222222222222,
              "#7201a8"
             ],
             [
              0.3333333333333333,
              "#9c179e"
             ],
             [
              0.4444444444444444,
              "#bd3786"
             ],
             [
              0.5555555555555556,
              "#d8576b"
             ],
             [
              0.6666666666666666,
              "#ed7953"
             ],
             [
              0.7777777777777778,
              "#fb9f3a"
             ],
             [
              0.8888888888888888,
              "#fdca26"
             ],
             [
              1,
              "#f0f921"
             ]
            ],
            "type": "contour"
           }
          ],
          "contourcarpet": [
           {
            "colorbar": {
             "outlinewidth": 0,
             "ticks": ""
            },
            "type": "contourcarpet"
           }
          ],
          "heatmap": [
           {
            "colorbar": {
             "outlinewidth": 0,
             "ticks": ""
            },
            "colorscale": [
             [
              0,
              "#0d0887"
             ],
             [
              0.1111111111111111,
              "#46039f"
             ],
             [
              0.2222222222222222,
              "#7201a8"
             ],
             [
              0.3333333333333333,
              "#9c179e"
             ],
             [
              0.4444444444444444,
              "#bd3786"
             ],
             [
              0.5555555555555556,
              "#d8576b"
             ],
             [
              0.6666666666666666,
              "#ed7953"
             ],
             [
              0.7777777777777778,
              "#fb9f3a"
             ],
             [
              0.8888888888888888,
              "#fdca26"
             ],
             [
              1,
              "#f0f921"
             ]
            ],
            "type": "heatmap"
           }
          ],
          "heatmapgl": [
           {
            "colorbar": {
             "outlinewidth": 0,
             "ticks": ""
            },
            "colorscale": [
             [
              0,
              "#0d0887"
             ],
             [
              0.1111111111111111,
              "#46039f"
             ],
             [
              0.2222222222222222,
              "#7201a8"
             ],
             [
              0.3333333333333333,
              "#9c179e"
             ],
             [
              0.4444444444444444,
              "#bd3786"
             ],
             [
              0.5555555555555556,
              "#d8576b"
             ],
             [
              0.6666666666666666,
              "#ed7953"
             ],
             [
              0.7777777777777778,
              "#fb9f3a"
             ],
             [
              0.8888888888888888,
              "#fdca26"
             ],
             [
              1,
              "#f0f921"
             ]
            ],
            "type": "heatmapgl"
           }
          ],
          "histogram": [
           {
            "marker": {
             "pattern": {
              "fillmode": "overlay",
              "size": 10,
              "solidity": 0.2
             }
            },
            "type": "histogram"
           }
          ],
          "histogram2d": [
           {
            "colorbar": {
             "outlinewidth": 0,
             "ticks": ""
            },
            "colorscale": [
             [
              0,
              "#0d0887"
             ],
             [
              0.1111111111111111,
              "#46039f"
             ],
             [
              0.2222222222222222,
              "#7201a8"
             ],
             [
              0.3333333333333333,
              "#9c179e"
             ],
             [
              0.4444444444444444,
              "#bd3786"
             ],
             [
              0.5555555555555556,
              "#d8576b"
             ],
             [
              0.6666666666666666,
              "#ed7953"
             ],
             [
              0.7777777777777778,
              "#fb9f3a"
             ],
             [
              0.8888888888888888,
              "#fdca26"
             ],
             [
              1,
              "#f0f921"
             ]
            ],
            "type": "histogram2d"
           }
          ],
          "histogram2dcontour": [
           {
            "colorbar": {
             "outlinewidth": 0,
             "ticks": ""
            },
            "colorscale": [
             [
              0,
              "#0d0887"
             ],
             [
              0.1111111111111111,
              "#46039f"
             ],
             [
              0.2222222222222222,
              "#7201a8"
             ],
             [
              0.3333333333333333,
              "#9c179e"
             ],
             [
              0.4444444444444444,
              "#bd3786"
             ],
             [
              0.5555555555555556,
              "#d8576b"
             ],
             [
              0.6666666666666666,
              "#ed7953"
             ],
             [
              0.7777777777777778,
              "#fb9f3a"
             ],
             [
              0.8888888888888888,
              "#fdca26"
             ],
             [
              1,
              "#f0f921"
             ]
            ],
            "type": "histogram2dcontour"
           }
          ],
          "mesh3d": [
           {
            "colorbar": {
             "outlinewidth": 0,
             "ticks": ""
            },
            "type": "mesh3d"
           }
          ],
          "parcoords": [
           {
            "line": {
             "colorbar": {
              "outlinewidth": 0,
              "ticks": ""
             }
            },
            "type": "parcoords"
           }
          ],
          "pie": [
           {
            "automargin": true,
            "type": "pie"
           }
          ],
          "scatter": [
           {
            "marker": {
             "colorbar": {
              "outlinewidth": 0,
              "ticks": ""
             }
            },
            "type": "scatter"
           }
          ],
          "scatter3d": [
           {
            "line": {
             "colorbar": {
              "outlinewidth": 0,
              "ticks": ""
             }
            },
            "marker": {
             "colorbar": {
              "outlinewidth": 0,
              "ticks": ""
             }
            },
            "type": "scatter3d"
           }
          ],
          "scattercarpet": [
           {
            "marker": {
             "colorbar": {
              "outlinewidth": 0,
              "ticks": ""
             }
            },
            "type": "scattercarpet"
           }
          ],
          "scattergeo": [
           {
            "marker": {
             "colorbar": {
              "outlinewidth": 0,
              "ticks": ""
             }
            },
            "type": "scattergeo"
           }
          ],
          "scattergl": [
           {
            "marker": {
             "colorbar": {
              "outlinewidth": 0,
              "ticks": ""
             }
            },
            "type": "scattergl"
           }
          ],
          "scattermapbox": [
           {
            "marker": {
             "colorbar": {
              "outlinewidth": 0,
              "ticks": ""
             }
            },
            "type": "scattermapbox"
           }
          ],
          "scatterpolar": [
           {
            "marker": {
             "colorbar": {
              "outlinewidth": 0,
              "ticks": ""
             }
            },
            "type": "scatterpolar"
           }
          ],
          "scatterpolargl": [
           {
            "marker": {
             "colorbar": {
              "outlinewidth": 0,
              "ticks": ""
             }
            },
            "type": "scatterpolargl"
           }
          ],
          "scatterternary": [
           {
            "marker": {
             "colorbar": {
              "outlinewidth": 0,
              "ticks": ""
             }
            },
            "type": "scatterternary"
           }
          ],
          "surface": [
           {
            "colorbar": {
             "outlinewidth": 0,
             "ticks": ""
            },
            "colorscale": [
             [
              0,
              "#0d0887"
             ],
             [
              0.1111111111111111,
              "#46039f"
             ],
             [
              0.2222222222222222,
              "#7201a8"
             ],
             [
              0.3333333333333333,
              "#9c179e"
             ],
             [
              0.4444444444444444,
              "#bd3786"
             ],
             [
              0.5555555555555556,
              "#d8576b"
             ],
             [
              0.6666666666666666,
              "#ed7953"
             ],
             [
              0.7777777777777778,
              "#fb9f3a"
             ],
             [
              0.8888888888888888,
              "#fdca26"
             ],
             [
              1,
              "#f0f921"
             ]
            ],
            "type": "surface"
           }
          ],
          "table": [
           {
            "cells": {
             "fill": {
              "color": "#EBF0F8"
             },
             "line": {
              "color": "white"
             }
            },
            "header": {
             "fill": {
              "color": "#C8D4E3"
             },
             "line": {
              "color": "white"
             }
            },
            "type": "table"
           }
          ]
         },
         "layout": {
          "annotationdefaults": {
           "arrowcolor": "#2a3f5f",
           "arrowhead": 0,
           "arrowwidth": 1
          },
          "autotypenumbers": "strict",
          "coloraxis": {
           "colorbar": {
            "outlinewidth": 0,
            "ticks": ""
           }
          },
          "colorscale": {
           "diverging": [
            [
             0,
             "#8e0152"
            ],
            [
             0.1,
             "#c51b7d"
            ],
            [
             0.2,
             "#de77ae"
            ],
            [
             0.3,
             "#f1b6da"
            ],
            [
             0.4,
             "#fde0ef"
            ],
            [
             0.5,
             "#f7f7f7"
            ],
            [
             0.6,
             "#e6f5d0"
            ],
            [
             0.7,
             "#b8e186"
            ],
            [
             0.8,
             "#7fbc41"
            ],
            [
             0.9,
             "#4d9221"
            ],
            [
             1,
             "#276419"
            ]
           ],
           "sequential": [
            [
             0,
             "#0d0887"
            ],
            [
             0.1111111111111111,
             "#46039f"
            ],
            [
             0.2222222222222222,
             "#7201a8"
            ],
            [
             0.3333333333333333,
             "#9c179e"
            ],
            [
             0.4444444444444444,
             "#bd3786"
            ],
            [
             0.5555555555555556,
             "#d8576b"
            ],
            [
             0.6666666666666666,
             "#ed7953"
            ],
            [
             0.7777777777777778,
             "#fb9f3a"
            ],
            [
             0.8888888888888888,
             "#fdca26"
            ],
            [
             1,
             "#f0f921"
            ]
           ],
           "sequentialminus": [
            [
             0,
             "#0d0887"
            ],
            [
             0.1111111111111111,
             "#46039f"
            ],
            [
             0.2222222222222222,
             "#7201a8"
            ],
            [
             0.3333333333333333,
             "#9c179e"
            ],
            [
             0.4444444444444444,
             "#bd3786"
            ],
            [
             0.5555555555555556,
             "#d8576b"
            ],
            [
             0.6666666666666666,
             "#ed7953"
            ],
            [
             0.7777777777777778,
             "#fb9f3a"
            ],
            [
             0.8888888888888888,
             "#fdca26"
            ],
            [
             1,
             "#f0f921"
            ]
           ]
          },
          "colorway": [
           "#636efa",
           "#EF553B",
           "#00cc96",
           "#ab63fa",
           "#FFA15A",
           "#19d3f3",
           "#FF6692",
           "#B6E880",
           "#FF97FF",
           "#FECB52"
          ],
          "font": {
           "color": "#2a3f5f"
          },
          "geo": {
           "bgcolor": "white",
           "lakecolor": "white",
           "landcolor": "#E5ECF6",
           "showlakes": true,
           "showland": true,
           "subunitcolor": "white"
          },
          "hoverlabel": {
           "align": "left"
          },
          "hovermode": "closest",
          "mapbox": {
           "style": "light"
          },
          "paper_bgcolor": "white",
          "plot_bgcolor": "#E5ECF6",
          "polar": {
           "angularaxis": {
            "gridcolor": "white",
            "linecolor": "white",
            "ticks": ""
           },
           "bgcolor": "#E5ECF6",
           "radialaxis": {
            "gridcolor": "white",
            "linecolor": "white",
            "ticks": ""
           }
          },
          "scene": {
           "xaxis": {
            "backgroundcolor": "#E5ECF6",
            "gridcolor": "white",
            "gridwidth": 2,
            "linecolor": "white",
            "showbackground": true,
            "ticks": "",
            "zerolinecolor": "white"
           },
           "yaxis": {
            "backgroundcolor": "#E5ECF6",
            "gridcolor": "white",
            "gridwidth": 2,
            "linecolor": "white",
            "showbackground": true,
            "ticks": "",
            "zerolinecolor": "white"
           },
           "zaxis": {
            "backgroundcolor": "#E5ECF6",
            "gridcolor": "white",
            "gridwidth": 2,
            "linecolor": "white",
            "showbackground": true,
            "ticks": "",
            "zerolinecolor": "white"
           }
          },
          "shapedefaults": {
           "line": {
            "color": "#2a3f5f"
           }
          },
          "ternary": {
           "aaxis": {
            "gridcolor": "white",
            "linecolor": "white",
            "ticks": ""
           },
           "baxis": {
            "gridcolor": "white",
            "linecolor": "white",
            "ticks": ""
           },
           "bgcolor": "#E5ECF6",
           "caxis": {
            "gridcolor": "white",
            "linecolor": "white",
            "ticks": ""
           }
          },
          "title": {
           "x": 0.05
          },
          "xaxis": {
           "automargin": true,
           "gridcolor": "white",
           "linecolor": "white",
           "ticks": "",
           "title": {
            "standoff": 15
           },
           "zerolinecolor": "white",
           "zerolinewidth": 2
          },
          "yaxis": {
           "automargin": true,
           "gridcolor": "white",
           "linecolor": "white",
           "ticks": "",
           "title": {
            "standoff": 15
           },
           "zerolinecolor": "white",
           "zerolinewidth": 2
          }
         }
        },
        "title": {
         "text": "Number of people entering intensive care per week"
        },
        "xaxis": {
         "anchor": "y",
         "domain": [
          0,
          1
         ],
         "title": {
          "text": "Vecka"
         }
        },
        "yaxis": {
         "anchor": "x",
         "domain": [
          0,
          1
         ],
         "title": {
          "text": "Antal nyaintensivvårdade per vecka"
         }
        }
       }
      }
     },
     "metadata": {}
    }
   ],
   "metadata": {}
  }
 ],
 "metadata": {
  "orig_nbformat": 4,
  "language_info": {
   "name": "python",
   "version": "3.9.7",
   "mimetype": "text/x-python",
   "codemirror_mode": {
    "name": "ipython",
    "version": 3
   },
   "pygments_lexer": "ipython3",
   "nbconvert_exporter": "python",
   "file_extension": ".py"
  },
  "kernelspec": {
   "name": "python3",
   "display_name": "Python 3.9.7 64-bit ('Databehandling-SAMI-FATMI-JnSYw4fk': pipenv)"
  },
  "interpreter": {
   "hash": "659ea136c51b4b32ee3c4b91ce31c1b9ff0e271107d8c89d63a035b597d47599"
  }
 },
 "nbformat": 4,
 "nbformat_minor": 2
}