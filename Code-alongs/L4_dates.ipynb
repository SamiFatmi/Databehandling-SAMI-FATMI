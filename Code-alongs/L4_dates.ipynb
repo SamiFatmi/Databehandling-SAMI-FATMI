{
 "cells": [
  {
   "cell_type": "markdown",
   "source": [
    "# Datetime"
   ],
   "metadata": {}
  },
  {
   "cell_type": "code",
   "execution_count": 3,
   "source": [
    "from datetime import datetime \n",
    "\n",
    "now = datetime.now()\n",
    "print(f\"Today's date is {now.date()}\")\n",
    "print(f\"Today's day is {now.strftime('%A, the week %W')}\")    # strftime : datetime object -> str\n",
    "now"
   ],
   "outputs": [
    {
     "output_type": "stream",
     "name": "stdout",
     "text": [
      "Today's date is 2021-11-12\n",
      "Today's day is Friday, the week 45\n"
     ]
    },
    {
     "output_type": "execute_result",
     "data": {
      "text/plain": [
       "datetime.datetime(2021, 11, 12, 17, 26, 32, 856473)"
      ]
     },
     "metadata": {},
     "execution_count": 3
    }
   ],
   "metadata": {}
  },
  {
   "cell_type": "code",
   "execution_count": 6,
   "source": [
    "graduation_day = \"19/5-2023\"\n",
    "\n",
    "graduation_day = datetime.strptime(graduation_day,\"%d/%m-%Y\")  # strptime : str -> datetime object\n",
    "\n",
    "\n",
    "print(graduation_day)  ## __str__\n",
    "graduation_day   ## __repr__"
   ],
   "outputs": [
    {
     "output_type": "stream",
     "name": "stdout",
     "text": [
      "2023-05-19 00:00:00\n"
     ]
    },
    {
     "output_type": "execute_result",
     "data": {
      "text/plain": [
       "datetime.datetime(2023, 5, 19, 0, 0)"
      ]
     },
     "metadata": {},
     "execution_count": 6
    }
   ],
   "metadata": {}
  },
  {
   "cell_type": "code",
   "execution_count": 10,
   "source": [
    "remaining_time = graduation_day - now\n",
    "\n",
    "print(remaining_time)\n",
    "print(f\"{remaining_time.days} days remaining until graduation \")\n",
    "print(f\"{remaining_time.days/365} years remaining until graduation\")\n",
    "\n",
    "remaining_time"
   ],
   "outputs": [
    {
     "output_type": "stream",
     "name": "stdout",
     "text": [
      "552 days, 6:33:27.143527\n",
      "552 days remaining until graduation \n",
      "1.5123287671232877 years remaining until graduation \n"
     ]
    },
    {
     "output_type": "execute_result",
     "data": {
      "text/plain": [
       "datetime.timedelta(days=552, seconds=23607, microseconds=143527)"
      ]
     },
     "metadata": {},
     "execution_count": 10
    }
   ],
   "metadata": {}
  }
 ],
 "metadata": {
  "orig_nbformat": 4,
  "language_info": {
   "name": "python",
   "version": "3.9.7",
   "mimetype": "text/x-python",
   "codemirror_mode": {
    "name": "ipython",
    "version": 3
   },
   "pygments_lexer": "ipython3",
   "nbconvert_exporter": "python",
   "file_extension": ".py"
  },
  "kernelspec": {
   "name": "python3",
   "display_name": "Python 3.9.7 64-bit ('Databehandling-SAMI-FATMI-JnSYw4fk': pipenv)"
  },
  "interpreter": {
   "hash": "659ea136c51b4b32ee3c4b91ce31c1b9ff0e271107d8c89d63a035b597d47599"
  }
 },
 "nbformat": 4,
 "nbformat_minor": 2
}