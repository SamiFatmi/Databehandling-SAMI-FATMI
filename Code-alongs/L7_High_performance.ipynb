{
 "cells": [
  {
   "cell_type": "markdown",
   "source": [
    "# High Performance\n",
    "\n",
    "mask = ( x > 0.5 ) & ( y < 0.5)\n",
    "\n",
    "ex: \n",
    "df = df[df[mask]]\n",
    "\n",
    "intermediate variables in memory : \n",
    "\n",
    "tmp1 = x > 0.5  \n",
    "tmp2 = y < 0.5\n",
    "mask = tmp1 & tmp2 \n",
    "\n",
    "\n",
    "Can use pd.eval(\"\") -> performs elementwise directly using numpexpr\n",
    "\n",
    "Good for compound expressions "
   ],
   "metadata": {}
  },
  {
   "cell_type": "code",
   "execution_count": null,
   "source": [
    "import pandas as pd \n",
    "import numpy as np \n",
    "\n",
    "nrows, ncols = "
   ],
   "outputs": [],
   "metadata": {}
  }
 ],
 "metadata": {
  "orig_nbformat": 4,
  "language_info": {
   "name": "python",
   "version": "3.9.7"
  },
  "kernelspec": {
   "name": "python3",
   "display_name": "Python 3.9.7 64-bit ('Databehandling-SAMI-FATMI-JnSYw4fk': pipenv)"
  },
  "interpreter": {
   "hash": "659ea136c51b4b32ee3c4b91ce31c1b9ff0e271107d8c89d63a035b597d47599"
  }
 },
 "nbformat": 4,
 "nbformat_minor": 2
}